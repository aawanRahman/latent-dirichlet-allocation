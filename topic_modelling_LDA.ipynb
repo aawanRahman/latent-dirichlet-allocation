{
  "nbformat": 4,
  "nbformat_minor": 0,
  "metadata": {
    "colab": {
      "name": "topic_modelling_LDA.ipynb",
      "provenance": [],
      "collapsed_sections": [],
      "toc_visible": true,
      "authorship_tag": "ABX9TyNcclubg/VVHHDLOax37twz",
      "include_colab_link": true
    },
    "kernelspec": {
      "name": "python3",
      "display_name": "Python 3"
    },
    "accelerator": "GPU"
  },
  "cells": [
    {
      "cell_type": "markdown",
      "metadata": {
        "id": "view-in-github",
        "colab_type": "text"
      },
      "source": [
        "<a href=\"https://colab.research.google.com/github/aawanRahman/latent-dirichlet-allocation/blob/master/topic_modelling_LDA.ipynb\" target=\"_parent\"><img src=\"https://colab.research.google.com/assets/colab-badge.svg\" alt=\"Open In Colab\"/></a>"
      ]
    },
    {
      "cell_type": "markdown",
      "metadata": {
        "id": "7xXNZTxvBu-D",
        "colab_type": "text"
      },
      "source": [
        "**The whole Process is done on google colab.**"
      ]
    },
    {
      "cell_type": "code",
      "metadata": {
        "id": "cR27qWjjI4Y4",
        "colab_type": "code",
        "outputId": "c4a4dfa6-a134-4e0b-8f70-fe18ac4888d8",
        "colab": {
          "base_uri": "https://localhost:8080/",
          "height": 122
        }
      },
      "source": [
        "from google.colab import drive\n",
        "drive.mount('/content/drive')"
      ],
      "execution_count": 1,
      "outputs": [
        {
          "output_type": "stream",
          "text": [
            "Go to this URL in a browser: https://accounts.google.com/o/oauth2/auth?client_id=947318989803-6bn6qk8qdgf4n4g3pfee6491hc0brc4i.apps.googleusercontent.com&redirect_uri=urn%3aietf%3awg%3aoauth%3a2.0%3aoob&response_type=code&scope=email%20https%3a%2f%2fwww.googleapis.com%2fauth%2fdocs.test%20https%3a%2f%2fwww.googleapis.com%2fauth%2fdrive%20https%3a%2f%2fwww.googleapis.com%2fauth%2fdrive.photos.readonly%20https%3a%2f%2fwww.googleapis.com%2fauth%2fpeopleapi.readonly\n",
            "\n",
            "Enter your authorization code:\n",
            "··········\n",
            "Mounted at /content/drive\n"
          ],
          "name": "stdout"
        }
      ]
    },
    {
      "cell_type": "code",
      "metadata": {
        "id": "9O1SFKZ9QJ1P",
        "colab_type": "code",
        "outputId": "e0249ee3-c233-4354-c2e1-13db4775b25d",
        "colab": {
          "base_uri": "https://localhost:8080/",
          "height": 544
        }
      },
      "source": [
        "#checking the device property...\n",
        "from tensorflow.python.client import device_lib\n",
        "print(device_lib.list_local_devices())"
      ],
      "execution_count": 2,
      "outputs": [
        {
          "output_type": "stream",
          "text": [
            "[name: \"/device:CPU:0\"\n",
            "device_type: \"CPU\"\n",
            "memory_limit: 268435456\n",
            "locality {\n",
            "}\n",
            "incarnation: 7906012918408224510\n",
            ", name: \"/device:XLA_CPU:0\"\n",
            "device_type: \"XLA_CPU\"\n",
            "memory_limit: 17179869184\n",
            "locality {\n",
            "}\n",
            "incarnation: 10152054765999907514\n",
            "physical_device_desc: \"device: XLA_CPU device\"\n",
            ", name: \"/device:XLA_GPU:0\"\n",
            "device_type: \"XLA_GPU\"\n",
            "memory_limit: 17179869184\n",
            "locality {\n",
            "}\n",
            "incarnation: 2408798757239145726\n",
            "physical_device_desc: \"device: XLA_GPU device\"\n",
            ", name: \"/device:GPU:0\"\n",
            "device_type: \"GPU\"\n",
            "memory_limit: 7304675328\n",
            "locality {\n",
            "  bus_id: 1\n",
            "  links {\n",
            "  }\n",
            "}\n",
            "incarnation: 5544276523308925350\n",
            "physical_device_desc: \"device: 0, name: Tesla P4, pci bus id: 0000:00:04.0, compute capability: 6.1\"\n",
            "]\n"
          ],
          "name": "stdout"
        }
      ]
    },
    {
      "cell_type": "code",
      "metadata": {
        "id": "tgU2qE9LB5l8",
        "colab_type": "code",
        "colab": {}
      },
      "source": [
        "Library load"
      ],
      "execution_count": 0,
      "outputs": []
    },
    {
      "cell_type": "markdown",
      "metadata": {
        "id": "w-weDxW2B8eU",
        "colab_type": "text"
      },
      "source": [
        "## **Library load**"
      ]
    },
    {
      "cell_type": "code",
      "metadata": {
        "id": "2whZFZPKQnLS",
        "colab_type": "code",
        "colab": {}
      },
      "source": [
        "import pandas as pd\n",
        "from nltk.tokenize import RegexpTokenizer\n",
        "\n",
        "from nltk.stem.wordnet import WordNetLemmatizer\n",
        "from gensim import corpora, models\n",
        "\n",
        "\n",
        "import gensim\n"
      ],
      "execution_count": 0,
      "outputs": []
    },
    {
      "cell_type": "markdown",
      "metadata": {
        "id": "53IrIc3nfTfo",
        "colab_type": "text"
      },
      "source": [
        "## **Dataset Load**"
      ]
    },
    {
      "cell_type": "code",
      "metadata": {
        "id": "ZNr41vaHTQlB",
        "colab_type": "code",
        "colab": {}
      },
      "source": [
        "dataset = pd.read_csv('/content/drive/My Drive/topic modelling/voted-kaggle-dataset.csv')"
      ],
      "execution_count": 0,
      "outputs": []
    },
    {
      "cell_type": "code",
      "metadata": {
        "id": "jPkCztyKT4FP",
        "colab_type": "code",
        "outputId": "302e36cf-dd91-4912-929b-4c5c80fcedae",
        "colab": {
          "base_uri": "https://localhost:8080/",
          "height": 153
        }
      },
      "source": [
        "print(dataset.head())"
      ],
      "execution_count": 5,
      "outputs": [
        {
          "output_type": "stream",
          "text": [
            "                         Title  ...                                        Description\n",
            "0  Credit Card Fraud Detection  ...  The datasets contains transactions made by cre...\n",
            "1     European Soccer Database  ...  The ultimate Soccer database for data analysis...\n",
            "2      TMDB 5000 Movie Dataset  ...  Background\\nWhat can we say about the success ...\n",
            "3    Human Resources Analytics  ...  This dataset is simulated\\nWhy are our best an...\n",
            "4    Global Terrorism Database  ...  Context\\nInformation on more than 170,000 Terr...\n",
            "\n",
            "[5 rows x 15 columns]\n"
          ],
          "name": "stdout"
        }
      ]
    },
    {
      "cell_type": "code",
      "metadata": {
        "id": "ohhhthyoUj-v",
        "colab_type": "code",
        "outputId": "892f7e1f-9b3a-47a5-c374-bac432da4725",
        "colab": {
          "base_uri": "https://localhost:8080/",
          "height": 366
        }
      },
      "source": [
        "dataset.iloc[0:3,:]"
      ],
      "execution_count": 6,
      "outputs": [
        {
          "output_type": "execute_result",
          "data": {
            "text/html": [
              "<div>\n",
              "<style scoped>\n",
              "    .dataframe tbody tr th:only-of-type {\n",
              "        vertical-align: middle;\n",
              "    }\n",
              "\n",
              "    .dataframe tbody tr th {\n",
              "        vertical-align: top;\n",
              "    }\n",
              "\n",
              "    .dataframe thead th {\n",
              "        text-align: right;\n",
              "    }\n",
              "</style>\n",
              "<table border=\"1\" class=\"dataframe\">\n",
              "  <thead>\n",
              "    <tr style=\"text-align: right;\">\n",
              "      <th></th>\n",
              "      <th>Title</th>\n",
              "      <th>Subtitle</th>\n",
              "      <th>Owner</th>\n",
              "      <th>Votes</th>\n",
              "      <th>Last Update</th>\n",
              "      <th>Tags</th>\n",
              "      <th>Data Type</th>\n",
              "      <th>Size</th>\n",
              "      <th>License</th>\n",
              "      <th>Views</th>\n",
              "      <th>Download</th>\n",
              "      <th>Kernels</th>\n",
              "      <th>Topics</th>\n",
              "      <th>URL</th>\n",
              "      <th>Description</th>\n",
              "    </tr>\n",
              "  </thead>\n",
              "  <tbody>\n",
              "    <tr>\n",
              "      <th>0</th>\n",
              "      <td>Credit Card Fraud Detection</td>\n",
              "      <td>Anonymized credit card transactions labeled as...</td>\n",
              "      <td>Machine Learning Group - ULB</td>\n",
              "      <td>1233</td>\n",
              "      <td>2016-11-05</td>\n",
              "      <td>crime\\nfinance</td>\n",
              "      <td>CSV</td>\n",
              "      <td>144 MB</td>\n",
              "      <td>ODbL</td>\n",
              "      <td>440,221 views</td>\n",
              "      <td>52,793 downloads</td>\n",
              "      <td>1,778 kernels</td>\n",
              "      <td>26 topics</td>\n",
              "      <td>https://www.kaggle.com/mlg-ulb/creditcardfraud</td>\n",
              "      <td>The datasets contains transactions made by cre...</td>\n",
              "    </tr>\n",
              "    <tr>\n",
              "      <th>1</th>\n",
              "      <td>European Soccer Database</td>\n",
              "      <td>25k+ matches, players &amp; teams attributes for E...</td>\n",
              "      <td>Hugo Mathien</td>\n",
              "      <td>1035</td>\n",
              "      <td>2016-10-24</td>\n",
              "      <td>association football\\neurope</td>\n",
              "      <td>SQLite</td>\n",
              "      <td>299 MB</td>\n",
              "      <td>ODbL</td>\n",
              "      <td>393,924 views</td>\n",
              "      <td>46,025 downloads</td>\n",
              "      <td>1,459 kernels</td>\n",
              "      <td>75 topics</td>\n",
              "      <td>https://www.kaggle.com/hugomathien/soccer</td>\n",
              "      <td>The ultimate Soccer database for data analysis...</td>\n",
              "    </tr>\n",
              "    <tr>\n",
              "      <th>2</th>\n",
              "      <td>TMDB 5000 Movie Dataset</td>\n",
              "      <td>Metadata on ~5,000 movies from TMDb</td>\n",
              "      <td>The Movie Database (TMDb)</td>\n",
              "      <td>1018</td>\n",
              "      <td>2017-09-28</td>\n",
              "      <td>film</td>\n",
              "      <td>CSV</td>\n",
              "      <td>44 MB</td>\n",
              "      <td>Other</td>\n",
              "      <td>444,535 views</td>\n",
              "      <td>61,705 downloads</td>\n",
              "      <td>1,394 kernels</td>\n",
              "      <td>46 topics</td>\n",
              "      <td>https://www.kaggle.com/tmdb/tmdb-movie-metadata</td>\n",
              "      <td>Background\\nWhat can we say about the success ...</td>\n",
              "    </tr>\n",
              "  </tbody>\n",
              "</table>\n",
              "</div>"
            ],
            "text/plain": [
              "                         Title  ...                                        Description\n",
              "0  Credit Card Fraud Detection  ...  The datasets contains transactions made by cre...\n",
              "1     European Soccer Database  ...  The ultimate Soccer database for data analysis...\n",
              "2      TMDB 5000 Movie Dataset  ...  Background\\nWhat can we say about the success ...\n",
              "\n",
              "[3 rows x 15 columns]"
            ]
          },
          "metadata": {
            "tags": []
          },
          "execution_count": 6
        }
      ]
    },
    {
      "cell_type": "code",
      "metadata": {
        "id": "PKf2ZH2nT-yc",
        "colab_type": "code",
        "outputId": "9b8ac6b5-ab21-4045-b922-5aeb33ccf230",
        "colab": {
          "base_uri": "https://localhost:8080/",
          "height": 391
        }
      },
      "source": [
        "dataset.info()"
      ],
      "execution_count": 7,
      "outputs": [
        {
          "output_type": "stream",
          "text": [
            "<class 'pandas.core.frame.DataFrame'>\n",
            "RangeIndex: 2885 entries, 0 to 2884\n",
            "Data columns (total 15 columns):\n",
            " #   Column       Non-Null Count  Dtype \n",
            "---  ------       --------------  ----- \n",
            " 0   Title        2885 non-null   object\n",
            " 1   Subtitle     2413 non-null   object\n",
            " 2   Owner        2885 non-null   object\n",
            " 3   Votes        2885 non-null   int64 \n",
            " 4   Last Update  2885 non-null   object\n",
            " 5   Tags         1700 non-null   object\n",
            " 6   Data Type    2885 non-null   object\n",
            " 7   Size         2885 non-null   object\n",
            " 8   License      2885 non-null   object\n",
            " 9   Views        2874 non-null   object\n",
            " 10  Download     2803 non-null   object\n",
            " 11  Kernels      1276 non-null   object\n",
            " 12  Topics       2243 non-null   object\n",
            " 13  URL          2885 non-null   object\n",
            " 14  Description  2874 non-null   object\n",
            "dtypes: int64(1), object(14)\n",
            "memory usage: 338.2+ KB\n"
          ],
          "name": "stdout"
        }
      ]
    },
    {
      "cell_type": "markdown",
      "metadata": {
        "id": "t5zTZXE8VKl8",
        "colab_type": "text"
      },
      "source": [
        "# **Data Preprocessing**"
      ]
    },
    {
      "cell_type": "code",
      "metadata": {
        "id": "gtjOHpZTKwAL",
        "colab_type": "code",
        "outputId": "9aa91ffe-9000-4e2c-f4b9-2ad863008c66",
        "colab": {
          "base_uri": "https://localhost:8080/",
          "height": 68
        }
      },
      "source": [
        "dataset.columns.values"
      ],
      "execution_count": 8,
      "outputs": [
        {
          "output_type": "execute_result",
          "data": {
            "text/plain": [
              "array(['Title', 'Subtitle', 'Owner', 'Votes', 'Last Update', 'Tags',\n",
              "       'Data Type', 'Size', 'License', 'Views', 'Download', 'Kernels',\n",
              "       'Topics', 'URL', 'Description'], dtype=object)"
            ]
          },
          "metadata": {
            "tags": []
          },
          "execution_count": 8
        }
      ]
    },
    {
      "cell_type": "code",
      "metadata": {
        "id": "7DhB_P5FKzXO",
        "colab_type": "code",
        "colab": {}
      },
      "source": [
        "modified_dataset = dataset.loc[ : , ['Title','Subtitle','Description']]"
      ],
      "execution_count": 0,
      "outputs": []
    },
    {
      "cell_type": "code",
      "metadata": {
        "id": "pqCML9XpK4UQ",
        "colab_type": "code",
        "outputId": "cf2c0f80-4edb-4875-c94c-74085acfe348",
        "colab": {
          "base_uri": "https://localhost:8080/",
          "height": 204
        }
      },
      "source": [
        "modified_dataset.iloc[0:5,:]"
      ],
      "execution_count": 10,
      "outputs": [
        {
          "output_type": "execute_result",
          "data": {
            "text/html": [
              "<div>\n",
              "<style scoped>\n",
              "    .dataframe tbody tr th:only-of-type {\n",
              "        vertical-align: middle;\n",
              "    }\n",
              "\n",
              "    .dataframe tbody tr th {\n",
              "        vertical-align: top;\n",
              "    }\n",
              "\n",
              "    .dataframe thead th {\n",
              "        text-align: right;\n",
              "    }\n",
              "</style>\n",
              "<table border=\"1\" class=\"dataframe\">\n",
              "  <thead>\n",
              "    <tr style=\"text-align: right;\">\n",
              "      <th></th>\n",
              "      <th>Title</th>\n",
              "      <th>Subtitle</th>\n",
              "      <th>Description</th>\n",
              "    </tr>\n",
              "  </thead>\n",
              "  <tbody>\n",
              "    <tr>\n",
              "      <th>0</th>\n",
              "      <td>Credit Card Fraud Detection</td>\n",
              "      <td>Anonymized credit card transactions labeled as...</td>\n",
              "      <td>The datasets contains transactions made by cre...</td>\n",
              "    </tr>\n",
              "    <tr>\n",
              "      <th>1</th>\n",
              "      <td>European Soccer Database</td>\n",
              "      <td>25k+ matches, players &amp; teams attributes for E...</td>\n",
              "      <td>The ultimate Soccer database for data analysis...</td>\n",
              "    </tr>\n",
              "    <tr>\n",
              "      <th>2</th>\n",
              "      <td>TMDB 5000 Movie Dataset</td>\n",
              "      <td>Metadata on ~5,000 movies from TMDb</td>\n",
              "      <td>Background\\nWhat can we say about the success ...</td>\n",
              "    </tr>\n",
              "    <tr>\n",
              "      <th>3</th>\n",
              "      <td>Human Resources Analytics</td>\n",
              "      <td>Why are our best and most experienced employee...</td>\n",
              "      <td>This dataset is simulated\\nWhy are our best an...</td>\n",
              "    </tr>\n",
              "    <tr>\n",
              "      <th>4</th>\n",
              "      <td>Global Terrorism Database</td>\n",
              "      <td>More than 170,000 terrorist attacks worldwide,...</td>\n",
              "      <td>Context\\nInformation on more than 170,000 Terr...</td>\n",
              "    </tr>\n",
              "  </tbody>\n",
              "</table>\n",
              "</div>"
            ],
            "text/plain": [
              "                         Title  ...                                        Description\n",
              "0  Credit Card Fraud Detection  ...  The datasets contains transactions made by cre...\n",
              "1     European Soccer Database  ...  The ultimate Soccer database for data analysis...\n",
              "2      TMDB 5000 Movie Dataset  ...  Background\\nWhat can we say about the success ...\n",
              "3    Human Resources Analytics  ...  This dataset is simulated\\nWhy are our best an...\n",
              "4    Global Terrorism Database  ...  Context\\nInformation on more than 170,000 Terr...\n",
              "\n",
              "[5 rows x 3 columns]"
            ]
          },
          "metadata": {
            "tags": []
          },
          "execution_count": 10
        }
      ]
    },
    {
      "cell_type": "code",
      "metadata": {
        "id": "sQ0zPtu2K_JT",
        "colab_type": "code",
        "outputId": "5eb81671-2ec0-4c7d-d1ee-a47abaf2640c",
        "colab": {
          "base_uri": "https://localhost:8080/",
          "height": 204
        }
      },
      "source": [
        "print(modified_dataset.info())"
      ],
      "execution_count": 11,
      "outputs": [
        {
          "output_type": "stream",
          "text": [
            "<class 'pandas.core.frame.DataFrame'>\n",
            "RangeIndex: 2885 entries, 0 to 2884\n",
            "Data columns (total 3 columns):\n",
            " #   Column       Non-Null Count  Dtype \n",
            "---  ------       --------------  ----- \n",
            " 0   Title        2885 non-null   object\n",
            " 1   Subtitle     2413 non-null   object\n",
            " 2   Description  2874 non-null   object\n",
            "dtypes: object(3)\n",
            "memory usage: 67.7+ KB\n",
            "None\n"
          ],
          "name": "stdout"
        }
      ]
    },
    {
      "cell_type": "code",
      "metadata": {
        "id": "Ofi--9zUVIRp",
        "colab_type": "code",
        "outputId": "d8a8baf1-81ac-46b3-cac1-fbef61455f80",
        "colab": {
          "base_uri": "https://localhost:8080/",
          "height": 419
        }
      },
      "source": [
        "modified_dataset.isnull()"
      ],
      "execution_count": 12,
      "outputs": [
        {
          "output_type": "execute_result",
          "data": {
            "text/html": [
              "<div>\n",
              "<style scoped>\n",
              "    .dataframe tbody tr th:only-of-type {\n",
              "        vertical-align: middle;\n",
              "    }\n",
              "\n",
              "    .dataframe tbody tr th {\n",
              "        vertical-align: top;\n",
              "    }\n",
              "\n",
              "    .dataframe thead th {\n",
              "        text-align: right;\n",
              "    }\n",
              "</style>\n",
              "<table border=\"1\" class=\"dataframe\">\n",
              "  <thead>\n",
              "    <tr style=\"text-align: right;\">\n",
              "      <th></th>\n",
              "      <th>Title</th>\n",
              "      <th>Subtitle</th>\n",
              "      <th>Description</th>\n",
              "    </tr>\n",
              "  </thead>\n",
              "  <tbody>\n",
              "    <tr>\n",
              "      <th>0</th>\n",
              "      <td>False</td>\n",
              "      <td>False</td>\n",
              "      <td>False</td>\n",
              "    </tr>\n",
              "    <tr>\n",
              "      <th>1</th>\n",
              "      <td>False</td>\n",
              "      <td>False</td>\n",
              "      <td>False</td>\n",
              "    </tr>\n",
              "    <tr>\n",
              "      <th>2</th>\n",
              "      <td>False</td>\n",
              "      <td>False</td>\n",
              "      <td>False</td>\n",
              "    </tr>\n",
              "    <tr>\n",
              "      <th>3</th>\n",
              "      <td>False</td>\n",
              "      <td>False</td>\n",
              "      <td>False</td>\n",
              "    </tr>\n",
              "    <tr>\n",
              "      <th>4</th>\n",
              "      <td>False</td>\n",
              "      <td>False</td>\n",
              "      <td>False</td>\n",
              "    </tr>\n",
              "    <tr>\n",
              "      <th>...</th>\n",
              "      <td>...</td>\n",
              "      <td>...</td>\n",
              "      <td>...</td>\n",
              "    </tr>\n",
              "    <tr>\n",
              "      <th>2880</th>\n",
              "      <td>False</td>\n",
              "      <td>True</td>\n",
              "      <td>False</td>\n",
              "    </tr>\n",
              "    <tr>\n",
              "      <th>2881</th>\n",
              "      <td>False</td>\n",
              "      <td>True</td>\n",
              "      <td>False</td>\n",
              "    </tr>\n",
              "    <tr>\n",
              "      <th>2882</th>\n",
              "      <td>False</td>\n",
              "      <td>True</td>\n",
              "      <td>False</td>\n",
              "    </tr>\n",
              "    <tr>\n",
              "      <th>2883</th>\n",
              "      <td>False</td>\n",
              "      <td>True</td>\n",
              "      <td>False</td>\n",
              "    </tr>\n",
              "    <tr>\n",
              "      <th>2884</th>\n",
              "      <td>False</td>\n",
              "      <td>True</td>\n",
              "      <td>False</td>\n",
              "    </tr>\n",
              "  </tbody>\n",
              "</table>\n",
              "<p>2885 rows × 3 columns</p>\n",
              "</div>"
            ],
            "text/plain": [
              "      Title  Subtitle  Description\n",
              "0     False     False        False\n",
              "1     False     False        False\n",
              "2     False     False        False\n",
              "3     False     False        False\n",
              "4     False     False        False\n",
              "...     ...       ...          ...\n",
              "2880  False      True        False\n",
              "2881  False      True        False\n",
              "2882  False      True        False\n",
              "2883  False      True        False\n",
              "2884  False      True        False\n",
              "\n",
              "[2885 rows x 3 columns]"
            ]
          },
          "metadata": {
            "tags": []
          },
          "execution_count": 12
        }
      ]
    },
    {
      "cell_type": "code",
      "metadata": {
        "id": "hy5Cm7mKWcew",
        "colab_type": "code",
        "outputId": "0d50a0a0-79e4-4c9c-8adb-b9be8e1cc636",
        "colab": {
          "base_uri": "https://localhost:8080/",
          "height": 119
        }
      },
      "source": [
        "print(modified_dataset.isnull().sum())\n",
        "print(\"total null values : \",sum(modified_dataset.isnull().values.ravel()))\n",
        "print(\"total number of rows containing null values : \", sum([True for idx,row in modified_dataset.iterrows() if any(row.isnull())]))\n"
      ],
      "execution_count": 13,
      "outputs": [
        {
          "output_type": "stream",
          "text": [
            "Title            0\n",
            "Subtitle       472\n",
            "Description     11\n",
            "dtype: int64\n",
            "total null values :  483\n",
            "total number of rows containing null values :  482\n"
          ],
          "name": "stdout"
        }
      ]
    },
    {
      "cell_type": "markdown",
      "metadata": {
        "id": "GM8ohUeWXL7c",
        "colab_type": "text"
      },
      "source": [
        "now we will remove the rows containing any missing values."
      ]
    },
    {
      "cell_type": "code",
      "metadata": {
        "id": "GfYXZ6YZW_Iz",
        "colab_type": "code",
        "colab": {}
      },
      "source": [
        "modified_dataset = modified_dataset.dropna()"
      ],
      "execution_count": 0,
      "outputs": []
    },
    {
      "cell_type": "code",
      "metadata": {
        "id": "QeOs41fDXCcw",
        "colab_type": "code",
        "outputId": "e0aeed38-34ee-409b-b777-1ad8b8976250",
        "colab": {
          "base_uri": "https://localhost:8080/",
          "height": 51
        }
      },
      "source": [
        "print(\"total null values : \",sum(modified_dataset.isnull().values.ravel()))\n",
        "print(\"total number of rows containing null values : \", sum([True for idx,row in modified_dataset.iterrows() if any(row.isnull())]))"
      ],
      "execution_count": 15,
      "outputs": [
        {
          "output_type": "stream",
          "text": [
            "total null values :  0\n",
            "total number of rows containing null values :  0\n"
          ],
          "name": "stdout"
        }
      ]
    },
    {
      "cell_type": "markdown",
      "metadata": {
        "id": "UQxoojIjZCWm",
        "colab_type": "text"
      },
      "source": [
        "selecting  the columns that are  used in training phase."
      ]
    },
    {
      "cell_type": "code",
      "metadata": {
        "id": "plv25XOjcGLt",
        "colab_type": "code",
        "outputId": "a9e19780-f773-40ee-a968-395754ca6015",
        "colab": {
          "base_uri": "https://localhost:8080/",
          "height": 204
        }
      },
      "source": [
        "print(modified_dataset.info())"
      ],
      "execution_count": 16,
      "outputs": [
        {
          "output_type": "stream",
          "text": [
            "<class 'pandas.core.frame.DataFrame'>\n",
            "Int64Index: 2403 entries, 0 to 2879\n",
            "Data columns (total 3 columns):\n",
            " #   Column       Non-Null Count  Dtype \n",
            "---  ------       --------------  ----- \n",
            " 0   Title        2403 non-null   object\n",
            " 1   Subtitle     2403 non-null   object\n",
            " 2   Description  2403 non-null   object\n",
            "dtypes: object(3)\n",
            "memory usage: 75.1+ KB\n",
            "None\n"
          ],
          "name": "stdout"
        }
      ]
    },
    {
      "cell_type": "markdown",
      "metadata": {
        "id": "-tY4bKN3cWd9",
        "colab_type": "text"
      },
      "source": [
        "removing punctuation and stopwords and lower casing "
      ]
    },
    {
      "cell_type": "code",
      "metadata": {
        "id": "17k17JgXcWDV",
        "colab_type": "code",
        "colab": {}
      },
      "source": [
        "import string\n",
        "import re"
      ],
      "execution_count": 0,
      "outputs": []
    },
    {
      "cell_type": "code",
      "metadata": {
        "id": "5F5eY9cxc4U4",
        "colab_type": "code",
        "colab": {}
      },
      "source": [
        "\n",
        "remove_digits = str.maketrans('', '', string.digits) # Set of all digits"
      ],
      "execution_count": 0,
      "outputs": []
    },
    {
      "cell_type": "code",
      "metadata": {
        "id": "0DlO90HPc_Rl",
        "colab_type": "code",
        "colab": {}
      },
      "source": [
        "for column in ['Title','Subtitle','Description']:\n",
        "  modified_dataset[column] = modified_dataset[column].map(lambda x : x.lower())\n"
      ],
      "execution_count": 0,
      "outputs": []
    },
    {
      "cell_type": "code",
      "metadata": {
        "id": "FNIFMOqBfXQm",
        "colab_type": "code",
        "outputId": "e6f19f3a-ad30-4ab3-dcd4-173f1cf4e15f",
        "colab": {
          "base_uri": "https://localhost:8080/",
          "height": 142
        }
      },
      "source": [
        "modified_dataset.iloc[0:3,:]"
      ],
      "execution_count": 20,
      "outputs": [
        {
          "output_type": "execute_result",
          "data": {
            "text/html": [
              "<div>\n",
              "<style scoped>\n",
              "    .dataframe tbody tr th:only-of-type {\n",
              "        vertical-align: middle;\n",
              "    }\n",
              "\n",
              "    .dataframe tbody tr th {\n",
              "        vertical-align: top;\n",
              "    }\n",
              "\n",
              "    .dataframe thead th {\n",
              "        text-align: right;\n",
              "    }\n",
              "</style>\n",
              "<table border=\"1\" class=\"dataframe\">\n",
              "  <thead>\n",
              "    <tr style=\"text-align: right;\">\n",
              "      <th></th>\n",
              "      <th>Title</th>\n",
              "      <th>Subtitle</th>\n",
              "      <th>Description</th>\n",
              "    </tr>\n",
              "  </thead>\n",
              "  <tbody>\n",
              "    <tr>\n",
              "      <th>0</th>\n",
              "      <td>credit card fraud detection</td>\n",
              "      <td>anonymized credit card transactions labeled as...</td>\n",
              "      <td>the datasets contains transactions made by cre...</td>\n",
              "    </tr>\n",
              "    <tr>\n",
              "      <th>1</th>\n",
              "      <td>european soccer database</td>\n",
              "      <td>25k+ matches, players &amp; teams attributes for e...</td>\n",
              "      <td>the ultimate soccer database for data analysis...</td>\n",
              "    </tr>\n",
              "    <tr>\n",
              "      <th>2</th>\n",
              "      <td>tmdb 5000 movie dataset</td>\n",
              "      <td>metadata on ~5,000 movies from tmdb</td>\n",
              "      <td>background\\nwhat can we say about the success ...</td>\n",
              "    </tr>\n",
              "  </tbody>\n",
              "</table>\n",
              "</div>"
            ],
            "text/plain": [
              "                         Title  ...                                        Description\n",
              "0  credit card fraud detection  ...  the datasets contains transactions made by cre...\n",
              "1     european soccer database  ...  the ultimate soccer database for data analysis...\n",
              "2      tmdb 5000 movie dataset  ...  background\\nwhat can we say about the success ...\n",
              "\n",
              "[3 rows x 3 columns]"
            ]
          },
          "metadata": {
            "tags": []
          },
          "execution_count": 20
        }
      ]
    },
    {
      "cell_type": "code",
      "metadata": {
        "id": "8ohe45suj7EG",
        "colab_type": "code",
        "colab": {}
      },
      "source": [
        "exclude = '[!\"#$%&\\'()*+,-./:;<=>?@[\\\\]^_`{|}~]'\n"
      ],
      "execution_count": 0,
      "outputs": []
    },
    {
      "cell_type": "code",
      "metadata": {
        "id": "Bwu1GOM2fsWd",
        "colab_type": "code",
        "colab": {}
      },
      "source": [
        "for column in ['Title','Subtitle','Description']:\n",
        "  modified_dataset[column] = modified_dataset[column].map(lambda x : x.translate(remove_digits))\n",
        "  modified_dataset[column] = modified_dataset[column].map(lambda x : re.sub(str(exclude), '', x))\n",
        "\n",
        "\n",
        "  "
      ],
      "execution_count": 0,
      "outputs": []
    },
    {
      "cell_type": "code",
      "metadata": {
        "id": "ZRHQkJ-XisOv",
        "colab_type": "code",
        "outputId": "96b0bd3b-0520-489a-cd6d-9d739a53ee46",
        "colab": {
          "base_uri": "https://localhost:8080/",
          "height": 142
        }
      },
      "source": [
        "modified_dataset.iloc[0:3,:]"
      ],
      "execution_count": 23,
      "outputs": [
        {
          "output_type": "execute_result",
          "data": {
            "text/html": [
              "<div>\n",
              "<style scoped>\n",
              "    .dataframe tbody tr th:only-of-type {\n",
              "        vertical-align: middle;\n",
              "    }\n",
              "\n",
              "    .dataframe tbody tr th {\n",
              "        vertical-align: top;\n",
              "    }\n",
              "\n",
              "    .dataframe thead th {\n",
              "        text-align: right;\n",
              "    }\n",
              "</style>\n",
              "<table border=\"1\" class=\"dataframe\">\n",
              "  <thead>\n",
              "    <tr style=\"text-align: right;\">\n",
              "      <th></th>\n",
              "      <th>Title</th>\n",
              "      <th>Subtitle</th>\n",
              "      <th>Description</th>\n",
              "    </tr>\n",
              "  </thead>\n",
              "  <tbody>\n",
              "    <tr>\n",
              "      <th>0</th>\n",
              "      <td>credit card fraud detection</td>\n",
              "      <td>anonymized credit card transactions labeled as...</td>\n",
              "      <td>the datasets contains transactions made by cre...</td>\n",
              "    </tr>\n",
              "    <tr>\n",
              "      <th>1</th>\n",
              "      <td>european soccer database</td>\n",
              "      <td>k matches players  teams attributes for europe...</td>\n",
              "      <td>the ultimate soccer database for data analysis...</td>\n",
              "    </tr>\n",
              "    <tr>\n",
              "      <th>2</th>\n",
              "      <td>tmdb  movie dataset</td>\n",
              "      <td>metadata on  movies from tmdb</td>\n",
              "      <td>background\\nwhat can we say about the success ...</td>\n",
              "    </tr>\n",
              "  </tbody>\n",
              "</table>\n",
              "</div>"
            ],
            "text/plain": [
              "                         Title  ...                                        Description\n",
              "0  credit card fraud detection  ...  the datasets contains transactions made by cre...\n",
              "1     european soccer database  ...  the ultimate soccer database for data analysis...\n",
              "2          tmdb  movie dataset  ...  background\\nwhat can we say about the success ...\n",
              "\n",
              "[3 rows x 3 columns]"
            ]
          },
          "metadata": {
            "tags": []
          },
          "execution_count": 23
        }
      ]
    },
    {
      "cell_type": "markdown",
      "metadata": {
        "id": "r9Uph2k8krcI",
        "colab_type": "text"
      },
      "source": [
        "now we use stemming and lemmalization for preprocessing the data."
      ]
    },
    {
      "cell_type": "markdown",
      "metadata": {
        "id": "dqJ9EWOluiD3",
        "colab_type": "text"
      },
      "source": [
        "\n",
        "counting the number of unique tags"
      ]
    },
    {
      "cell_type": "code",
      "metadata": {
        "id": "LqQ50P4Jum6d",
        "colab_type": "code",
        "outputId": "c46046bc-444a-4d18-e55a-a0a0d931fa80",
        "colab": {
          "base_uri": "https://localhost:8080/",
          "height": 34
        }
      },
      "source": [
        "tag_dataset = dataset['Tags']\n",
        "tag_dataset.isnull().sum()\n",
        "#tag_dataset=tag_dataset.dropna()\n",
        "tag_dataset.isnull().sum()"
      ],
      "execution_count": 24,
      "outputs": [
        {
          "output_type": "execute_result",
          "data": {
            "text/plain": [
              "1185"
            ]
          },
          "metadata": {
            "tags": []
          },
          "execution_count": 24
        }
      ]
    },
    {
      "cell_type": "code",
      "metadata": {
        "id": "P-nPNos4us_d",
        "colab_type": "code",
        "outputId": "ec6b7c87-ffb2-48f0-ada0-c3c094a96d68",
        "colab": {
          "base_uri": "https://localhost:8080/",
          "height": 34
        }
      },
      "source": [
        "print(len(tag_dataset))"
      ],
      "execution_count": 25,
      "outputs": [
        {
          "output_type": "stream",
          "text": [
            "2885\n"
          ],
          "name": "stdout"
        }
      ]
    },
    {
      "cell_type": "code",
      "metadata": {
        "id": "jnIOV15QutN2",
        "colab_type": "code",
        "colab": {}
      },
      "source": [
        "def convert(lst): \n",
        "    return (lst.split(\"\\n\"))"
      ],
      "execution_count": 0,
      "outputs": []
    },
    {
      "cell_type": "code",
      "metadata": {
        "id": "rTrb43rRutUb",
        "colab_type": "code",
        "outputId": "f409ca8d-2972-46ed-a8da-b8ee13ee0e16",
        "colab": {
          "base_uri": "https://localhost:8080/",
          "height": 34
        }
      },
      "source": [
        "\n",
        "unique_tag = []\n",
        "for i in range(len(tag_dataset)):\n",
        "  tag_string = str(tag_dataset[i])\n",
        "  if tag_string != \"nan\" :\n",
        "    tag_word=convert(tag_string)\n",
        "    for j in range(len(tag_word)):\n",
        "      if tag_word[j] not in unique_tag:\n",
        "        unique_tag.append(tag_word[j])\n",
        "print(len(unique_tag))"
      ],
      "execution_count": 27,
      "outputs": [
        {
          "output_type": "stream",
          "text": [
            "329\n"
          ],
          "name": "stdout"
        }
      ]
    },
    {
      "cell_type": "code",
      "metadata": {
        "id": "VTCNEo3uutSQ",
        "colab_type": "code",
        "outputId": "1420fc23-c62a-4695-8065-07633360c948",
        "colab": {
          "base_uri": "https://localhost:8080/",
          "height": 1000
        }
      },
      "source": [
        "for i in range(len(unique_tag)):\n",
        "  print(unique_tag[i])"
      ],
      "execution_count": 99,
      "outputs": [
        {
          "output_type": "stream",
          "text": [
            "crime\n",
            "finance\n",
            "association football\n",
            "europe\n",
            "film\n",
            "employment\n",
            "terrorism\n",
            "international relations\n",
            "history\n",
            "sociology\n",
            "artificial intelligence\n",
            "botany\n",
            "economics\n",
            "news agencies\n",
            "popular culture\n",
            "games and toys\n",
            "video games\n",
            "critical theory\n",
            "food and drink\n",
            "environment\n",
            "climate\n",
            "nutrition\n",
            "universities and colleges\n",
            "education\n",
            "healthcare\n",
            "linguistics\n",
            "internet\n",
            "emotion\n",
            "social sciences\n",
            "clothing\n",
            "image data\n",
            "multiclass classification\n",
            "object identification\n",
            "politics\n",
            "literature\n",
            "social groups\n",
            "war\n",
            "love\n",
            "home\n",
            "housing\n",
            "business\n",
            "demographics\n",
            "society\n",
            "mental health\n",
            "human genetics\n",
            "+ 2 more...\n",
            "personality\n",
            "brazil\n",
            "public health\n",
            "twitter\n",
            "aviation\n",
            "gender\n",
            "law\n",
            "psychometrics\n",
            "telecommunications\n",
            "languages\n",
            "road transport\n",
            "income\n",
            "space\n",
            "death\n",
            "cricket\n",
            "india\n",
            "humor\n",
            "mass media\n",
            "world\n",
            "sports\n",
            "sound technology\n",
            "statistics\n",
            "automobiles\n",
            "children\n",
            "pollution\n",
            "management\n",
            "united states\n",
            "violence\n",
            "basketball\n",
            "human-computer interaction\n",
            "celebrity\n",
            "humans\n",
            "astronomy\n",
            "reddit\n",
            "information technology\n",
            "baseball\n",
            "neuroscience\n",
            "parties\n",
            "cities\n",
            "board games\n",
            "music\n",
            "crowdfunding\n",
            "health\n",
            "money\n",
            "bigquery\n",
            "political science\n",
            "faith and traditions\n",
            "islam\n",
            "programming languages\n",
            "programming\n",
            "software engineering\n",
            "shipping\n",
            "epidemiology\n",
            "biography\n",
            "journalism\n",
            "firefighting\n",
            "historiography\n",
            "pre-trained model\n",
            "earth sciences\n",
            "computing and society\n",
            "horse racing\n",
            "tutorial\n",
            "weather\n",
            "energy\n",
            "writing\n",
            "american football\n",
            "countries\n",
            "time series\n",
            "geography\n",
            "taxi services\n",
            "beginner\n",
            "regression analysis\n",
            "books\n",
            "chemistry\n",
            "ecology\n",
            "animals\n",
            "plants\n",
            "object detection\n",
            "medicine\n",
            "machine learning\n",
            "oceans\n",
            "cycling\n",
            "government agencies\n",
            "immigration\n",
            "auto racing\n",
            "lending\n",
            "communication\n",
            "physics\n",
            "biology\n",
            "military\n",
            "life\n",
            "leisure\n",
            "hotels\n",
            "banking\n",
            "computers\n",
            "computer architecture\n",
            "real estate\n",
            "card games\n",
            "tennis\n",
            "biotechnology\n",
            "north america\n",
            "agriculture\n",
            "hobbies\n",
            "olympic games\n",
            "forestry\n",
            "acoustics\n",
            "consumer electronics\n",
            "supply chain\n",
            "arts and entertainment\n",
            "actors\n",
            "libraries\n",
            "orthopedic surgery\n",
            "pediatrics\n",
            "gerontology\n",
            "hospitals\n",
            "rail transport\n",
            "mathematics\n",
            "health sciences\n",
            "learning\n",
            "mobile web\n",
            "astronauts\n",
            "product\n",
            "dentistry\n",
            "russia\n",
            "government\n",
            "running\n",
            "walking\n",
            "electronics\n",
            "research\n",
            "databases\n",
            "illegal drugs\n",
            "globalization\n",
            "binary classification\n",
            "computer science\n",
            "electrical components\n",
            "industry\n",
            "comics\n",
            "water technology\n",
            "neurology\n",
            "pharmaceutical industry\n",
            "pharmaceuticals policy\n",
            "museums\n",
            "visual arts\n",
            "photography\n",
            "cognitive biases\n",
            "biases\n",
            "networks\n",
            "diseases\n",
            "web sites\n",
            "timelines\n",
            "marketing\n",
            "south america\n",
            "stochastic processes\n",
            "communities\n",
            "mining\n",
            "personal life\n",
            "computing\n",
            "alcohol\n",
            "transport\n",
            "geology\n",
            "africa\n",
            "nature\n",
            "veterinary medicine\n",
            "fishing\n",
            "environmental engineering\n",
            "public transport\n",
            "geometry\n",
            "electrical engineering\n",
            "automation\n",
            "ethics\n",
            "pharmacy\n",
            "ice hockey\n",
            "atmospheric sciences\n",
            "strategy\n",
            "companies\n",
            "weight training\n",
            "mountains\n",
            "encyclopedias\n",
            "knowledge\n",
            "covariance and correlation\n",
            "politicians\n",
            "deep learning\n",
            "entertainment\n",
            "vehicles\n",
            "people\n",
            "decision theory\n",
            "agronomy\n",
            "surveillance\n",
            "computer security\n",
            "civil engineering\n",
            "physical sciences\n",
            "presidents\n",
            "science and culture\n",
            "poetry\n",
            "oceanography\n",
            "product management\n",
            "military science\n",
            "technology forecasting\n",
            "categorical data\n",
            "scientific method\n",
            "cultural mythology\n",
            "lgbt\n",
            "robotics\n",
            "optics\n",
            "nlp\n",
            "text mining\n",
            "information\n",
            "spaceflight\n",
            "china\n",
            "composers\n",
            "musicians\n",
            "classification\n",
            "navigation\n",
            "manufacturing\n",
            "psychology\n",
            "asia\n",
            "microtechnology\n",
            "rugby league\n",
            "numbers\n",
            "dictionaries\n",
            "grammar\n",
            "renewable energy\n",
            "slaves\n",
            "schools and traditions\n",
            "australia\n",
            "traditions\n",
            "anthropology\n",
            "cultural studies\n",
            "exercise\n",
            "culture and humanities\n",
            "animation\n",
            "scientists\n",
            "classics\n",
            "research tools and topics\n",
            "engineering\n",
            "organizations\n",
            "aerospace engineering\n",
            "network analysis\n",
            "image processing\n",
            "object labeling\n",
            "survey analysis\n",
            "natural resources\n",
            "populated places\n",
            "relationships\n",
            "health law\n",
            "pets\n",
            "mechanical engineering\n",
            "gymnastics\n",
            "architecture\n",
            "painting\n",
            "sailing\n",
            "bodies of water\n",
            "safety\n",
            "reading\n",
            "counting\n",
            "golf\n",
            "text data\n",
            "data cleaning\n",
            "media studies\n",
            "digital media\n",
            "drawing\n",
            "lists of people\n",
            "puzzles\n",
            "christianity\n",
            "antarctica\n",
            "survival analysis\n",
            "ethnic groups\n",
            "chemical engineering\n",
            "data visualization\n",
            "storytelling\n",
            "lakes\n",
            "mathematics education\n",
            "sleep\n",
            "multiple regression\n",
            "decision tree\n",
            "computer engineering\n",
            "churn analysis\n",
            "logistic regression\n",
            "universe\n",
            "cartography\n",
            "construction\n",
            "mortality\n",
            "archives\n"
          ],
          "name": "stdout"
        }
      ]
    },
    {
      "cell_type": "code",
      "metadata": {
        "id": "bjcnC6zfpF48",
        "colab_type": "code",
        "outputId": "3a2aeebd-6071-4a62-80a8-22784e99c6a6",
        "colab": {
          "base_uri": "https://localhost:8080/",
          "height": 68
        }
      },
      "source": [
        "import nltk\n",
        "nltk.download('punkt')\n",
        "tokenized_dataframe =  modified_dataset.apply(lambda row: nltk.word_tokenize(row['Description']), axis=1)\n",
        "print(type(tokenized_dataframe))"
      ],
      "execution_count": 29,
      "outputs": [
        {
          "output_type": "stream",
          "text": [
            "[nltk_data] Downloading package punkt to /root/nltk_data...\n",
            "[nltk_data]   Unzipping tokenizers/punkt.zip.\n",
            "<class 'pandas.core.series.Series'>\n"
          ],
          "name": "stdout"
        }
      ]
    },
    {
      "cell_type": "code",
      "metadata": {
        "id": "MkCSoDLypa8q",
        "colab_type": "code",
        "outputId": "9594e266-881b-4015-f36f-1225e4e73a2e",
        "colab": {
          "base_uri": "https://localhost:8080/",
          "height": 85
        }
      },
      "source": [
        "print(tokenized_dataframe[0:3])\n"
      ],
      "execution_count": 30,
      "outputs": [
        {
          "output_type": "stream",
          "text": [
            "0    [the, datasets, contains, transactions, made, ...\n",
            "1    [the, ultimate, soccer, database, for, data, a...\n",
            "2    [background, what, can, we, say, about, the, s...\n",
            "dtype: object\n"
          ],
          "name": "stdout"
        }
      ]
    },
    {
      "cell_type": "code",
      "metadata": {
        "id": "nh_ybcw6x7hK",
        "colab_type": "code",
        "outputId": "4b085262-dd5e-44e1-f71d-e05e21c2b568",
        "colab": {
          "base_uri": "https://localhost:8080/",
          "height": 34
        }
      },
      "source": [
        "#single word check......\n",
        "from nltk.stem import PorterStemmer \n",
        "ps = PorterStemmer() \n",
        "print(ps.stem('contains'))"
      ],
      "execution_count": 31,
      "outputs": [
        {
          "output_type": "stream",
          "text": [
            "contain\n"
          ],
          "name": "stdout"
        }
      ]
    },
    {
      "cell_type": "code",
      "metadata": {
        "id": "5wH2ziG2tn4V",
        "colab_type": "code",
        "colab": {}
      },
      "source": [
        "\n",
        "def lemmatize_text(text):\n",
        "    return [ps.stem(w)  for w in text if len(w)>5]"
      ],
      "execution_count": 0,
      "outputs": []
    },
    {
      "cell_type": "code",
      "metadata": {
        "id": "uK4IXqZ4kqb_",
        "colab_type": "code",
        "outputId": "a423d41a-4a33-4b28-abd1-277c6d2e6833",
        "colab": {
          "base_uri": "https://localhost:8080/",
          "height": 51
        }
      },
      "source": [
        "nltk.download('wordnet')\n",
        "from nltk.stem import PorterStemmer \n",
        "ps = PorterStemmer() \n",
        "stemmed_dataset = tokenized_dataframe.apply(lemmatize_text)\n"
      ],
      "execution_count": 33,
      "outputs": [
        {
          "output_type": "stream",
          "text": [
            "[nltk_data] Downloading package wordnet to /root/nltk_data...\n",
            "[nltk_data]   Unzipping corpora/wordnet.zip.\n"
          ],
          "name": "stdout"
        }
      ]
    },
    {
      "cell_type": "code",
      "metadata": {
        "id": "OPsgY6LhuA4P",
        "colab_type": "code",
        "outputId": "804ff201-a91b-4bec-8b60-a82e5e3cda46",
        "colab": {
          "base_uri": "https://localhost:8080/",
          "height": 34
        }
      },
      "source": [
        "print(type(stemmed_dataset))"
      ],
      "execution_count": 34,
      "outputs": [
        {
          "output_type": "stream",
          "text": [
            "<class 'pandas.core.series.Series'>\n"
          ],
          "name": "stdout"
        }
      ]
    },
    {
      "cell_type": "code",
      "metadata": {
        "id": "CGvDcQr8uFH5",
        "colab_type": "code",
        "outputId": "568d8b33-576a-4779-fe45-99b8147a2331",
        "colab": {
          "base_uri": "https://localhost:8080/",
          "height": 85
        }
      },
      "source": [
        "stemmed_dataset[0:3]"
      ],
      "execution_count": 35,
      "outputs": [
        {
          "output_type": "execute_result",
          "data": {
            "text/plain": [
              "0    [dataset, contain, transact, credit, septemb, ...\n",
              "1    [ultim, soccer, databas, analysi, machin, lear...\n",
              "2    [background, success, befor, releas, certain, ...\n",
              "dtype: object"
            ]
          },
          "metadata": {
            "tags": []
          },
          "execution_count": 35
        }
      ]
    },
    {
      "cell_type": "markdown",
      "metadata": {
        "id": "6-D-L2-HmozJ",
        "colab_type": "text"
      },
      "source": [
        "## **Exploratory Analysis**"
      ]
    },
    {
      "cell_type": "code",
      "metadata": {
        "id": "LHzwXFTimdG-",
        "colab_type": "code",
        "outputId": "d31c3f4d-b9ca-4d8b-b751-484a92865b4b",
        "colab": {
          "base_uri": "https://localhost:8080/",
          "height": 273
        }
      },
      "source": [
        "from wordcloud import WordCloud\n",
        "import matplotlib.pyplot as plt\n",
        "#dataset_words=''\n",
        "#for column in ['Title','Subtitle','Description']:\n",
        "dataset_words=''.join(list(str(stemmed_dataset.values)))\n",
        "print(type(dataset_words))\n",
        "wordcloud = WordCloud(width = 800, height = 500, \n",
        "                background_color ='white',  \n",
        "                min_font_size = 10).generate(dataset_words) \n",
        "\n",
        "plt.figure(figsize = (5, 5), facecolor = None) \n",
        "plt.imshow(wordcloud) \n",
        "plt.axis(\"off\") \n",
        "plt.tight_layout(pad = 0) \n",
        "  \n",
        "plt.show() "
      ],
      "execution_count": 36,
      "outputs": [
        {
          "output_type": "stream",
          "text": [
            "<class 'str'>\n"
          ],
          "name": "stdout"
        },
        {
          "output_type": "display_data",
          "data": {
            "image/png": "[encoded data removed]",
            "text/plain": [
              "<Figure size 360x360 with 1 Axes>"
            ]
          },
          "metadata": {
            "tags": []
          }
        }
      ]
    },
    {
      "cell_type": "markdown",
      "metadata": {
        "id": "2Vd8vn1G2bBy",
        "colab_type": "text"
      },
      "source": [
        "## **Creating Dictionary and corpus for LDA model**"
      ]
    },
    {
      "cell_type": "code",
      "metadata": {
        "id": "WuBlxHPFiUgZ",
        "colab_type": "code",
        "outputId": "582a9e61-f925-48c3-dec6-9ccaa22744c9",
        "colab": {
          "base_uri": "https://localhost:8080/",
          "height": 34
        }
      },
      "source": [
        "dictionary_of_words = gensim.corpora.Dictionary(stemmed_dataset)\n",
        "print(type(dictionary_of_words))"
      ],
      "execution_count": 37,
      "outputs": [
        {
          "output_type": "stream",
          "text": [
            "<class 'gensim.corpora.dictionary.Dictionary'>\n"
          ],
          "name": "stdout"
        }
      ]
    },
    {
      "cell_type": "code",
      "metadata": {
        "id": "S-0YS0Ns61_e",
        "colab_type": "code",
        "outputId": "a266a327-b30a-4bee-895c-ce167c01ee19",
        "colab": {
          "base_uri": "https://localhost:8080/",
          "height": 34
        }
      },
      "source": [
        "print(len(dictionary_of_words))\n"
      ],
      "execution_count": 38,
      "outputs": [
        {
          "output_type": "stream",
          "text": [
            "24620\n"
          ],
          "name": "stdout"
        }
      ]
    },
    {
      "cell_type": "code",
      "metadata": {
        "id": "pTVORc7OkvHk",
        "colab_type": "code",
        "colab": {}
      },
      "source": [
        "# Creatig coupus which contains  of word id mapping with word_frequency--->(word_id, word_frequency) \n",
        "word_corpus = [dictionary_of_words.doc2bow(word) for word in stemmed_dataset]"
      ],
      "execution_count": 0,
      "outputs": []
    },
    {
      "cell_type": "code",
      "metadata": {
        "id": "p7J6Jz4wlRnD",
        "colab_type": "code",
        "outputId": "a4cda1ca-3e34-4d20-c1d7-eedfe4c0c3bc",
        "colab": {
          "base_uri": "https://localhost:8080/",
          "height": 1000
        }
      },
      "source": [
        "for corp in word_corpus[:1]:\n",
        "  for id, freq in corp:\n",
        "    print(dictionary_of_words[id],freq)"
      ],
      "execution_count": 40,
      "outputs": [
        {
          "output_type": "stream",
          "text": [
            "account 1\n",
            "accuraci 2\n",
            "amount 3\n",
            "analys 1\n",
            "andrea 1\n",
            "avail 1\n",
            "background 1\n",
            "between 1\n",
            "bontempi 1\n",
            "bruxel 1\n",
            "caelen 1\n",
            "calibr 1\n",
            "cardhold 1\n",
            "classif 2\n",
            "collabor 1\n",
            "collect 1\n",
            "compon 1\n",
            "comput 1\n",
            "confidenti 1\n",
            "confus 1\n",
            "contain 3\n",
            "costsenst 1\n",
            "credit 1\n",
            "current 1\n",
            "dataset 5\n",
            "detail 1\n",
            "detect 1\n",
            "dure 1\n",
            "elaps 1\n",
            "european 1\n",
            "exampledepend 1\n",
            "featur 7\n",
            "fraud 2\n",
            "gianluca 1\n",
            "highli 1\n",
            "httpmlgulbacb 1\n",
            "httpmlgulbacbeartml 1\n",
            "httpmlgulbacbebruf 1\n",
            "imbal 1\n",
            "inform 1\n",
            "intellig 1\n",
            "issu 1\n",
            "johnson 1\n",
            "learn 2\n",
            "machin 1\n",
            "matrix 1\n",
            "meaning 1\n",
            "measur 1\n",
            "mine 2\n",
            "numer 1\n",
            "obtain 1\n",
            "occur 1\n",
            "olivi 1\n",
            "origin 1\n",
            "otherwis 1\n",
            "pleas 1\n",
            "posit 1\n",
            "pozzolo 1\n",
            "precisionrecal 1\n",
            "present 1\n",
            "princip 1\n",
            "probabl 1\n",
            "project 1\n",
            "provid 1\n",
            "recommend 1\n",
            "relat 1\n",
            "research 1\n",
            "respons 1\n",
            "result 1\n",
            "second 1\n",
            "septemb 1\n",
            "symposium 1\n",
            "topic 1\n",
            "transact 7\n",
            "transform 2\n",
            "unbalanc 3\n",
            "undersampl 1\n",
            "unfortun 1\n",
            "université 1\n",
            "variabl 2\n",
            "worldlin 1\n"
          ],
          "name": "stdout"
        }
      ]
    },
    {
      "cell_type": "markdown",
      "metadata": {
        "id": "f4vpGa6cnE06",
        "colab_type": "text"
      },
      "source": [
        "## **Building LDA model**"
      ]
    },
    {
      "cell_type": "markdown",
      "metadata": {
        "id": "1MzCy-rOCUO0",
        "colab_type": "text"
      },
      "source": [
        "Total unique tag in the dataset is 329. so we first try with 329 number of topics."
      ]
    },
    {
      "cell_type": "code",
      "metadata": {
        "id": "TZsvs4eTmUbG",
        "colab_type": "code",
        "outputId": "280465c2-091a-4029-df27-e6e55310b5da",
        "colab": {
          "base_uri": "https://localhost:8080/",
          "height": 51
        }
      },
      "source": [
        "lda_model = gensim.models.ldamodel.LdaModel(corpus=word_corpus,\n",
        "                                           id2word=dictionary_of_words,\n",
        "                                           num_topics=329, \n",
        "                                           random_state=101,\n",
        "                                           update_every=1,\n",
        "                                           chunksize=300,\n",
        "                                           passes=50,\n",
        "                                           alpha='auto',\n",
        "                                           per_word_topics=True)"
      ],
      "execution_count": 42,
      "outputs": [
        {
          "output_type": "stream",
          "text": [
            "/usr/local/lib/python3.6/dist-packages/gensim/models/ldamodel.py:1023: RuntimeWarning: divide by zero encountered in log\n",
            "  diff = np.log(self.expElogbeta)\n"
          ],
          "name": "stderr"
        }
      ]
    },
    {
      "cell_type": "code",
      "metadata": {
        "id": "tyxx6vg9p8hJ",
        "colab_type": "code",
        "outputId": "d5a74e00-f054-4fc3-871b-d3845a3663d6",
        "colab": {
          "base_uri": "https://localhost:8080/",
          "height": 54
        }
      },
      "source": [
        "print(lda_model.print_topics())"
      ],
      "execution_count": 0,
      "outputs": [
        {
          "output_type": "stream",
          "text": [
            "[(139, '0.000*\"conclusão\" + 0.000*\"criado\" + 0.000*\"antun\" + 0.000*\"candidato\" + 0.000*\"característica\" + 0.000*\"robotsthi\" + 0.000*\"disponibilizar\" + 0.000*\"deputado\" + 0.000*\"lakadsensgmailcom\" + 0.000*\"declarado\"'), (10, '0.000*\"conclusão\" + 0.000*\"criado\" + 0.000*\"antun\" + 0.000*\"candidato\" + 0.000*\"característica\" + 0.000*\"robotsthi\" + 0.000*\"disponibilizar\" + 0.000*\"deputado\" + 0.000*\"lakadsensgmailcom\" + 0.000*\"declarado\"'), (92, '0.000*\"conclusão\" + 0.000*\"criado\" + 0.000*\"antun\" + 0.000*\"candidato\" + 0.000*\"característica\" + 0.000*\"robotsthi\" + 0.000*\"disponibilizar\" + 0.000*\"deputado\" + 0.000*\"lakadsensgmailcom\" + 0.000*\"declarado\"'), (6, '0.000*\"conclusão\" + 0.000*\"criado\" + 0.000*\"antun\" + 0.000*\"candidato\" + 0.000*\"característica\" + 0.000*\"robotsthi\" + 0.000*\"disponibilizar\" + 0.000*\"deputado\" + 0.000*\"lakadsensgmailcom\" + 0.000*\"declarado\"'), (154, '0.000*\"conclusão\" + 0.000*\"criado\" + 0.000*\"antun\" + 0.000*\"candidato\" + 0.000*\"característica\" + 0.000*\"robotsthi\" + 0.000*\"disponibilizar\" + 0.000*\"deputado\" + 0.000*\"lakadsensgmailcom\" + 0.000*\"declarado\"'), (194, '0.000*\"conclusão\" + 0.000*\"criado\" + 0.000*\"antun\" + 0.000*\"candidato\" + 0.000*\"característica\" + 0.000*\"robotsthi\" + 0.000*\"disponibilizar\" + 0.000*\"deputado\" + 0.000*\"lakadsensgmailcom\" + 0.000*\"declarado\"'), (318, '0.000*\"conclusão\" + 0.000*\"criado\" + 0.000*\"antun\" + 0.000*\"candidato\" + 0.000*\"característica\" + 0.000*\"robotsthi\" + 0.000*\"disponibilizar\" + 0.000*\"deputado\" + 0.000*\"lakadsensgmailcom\" + 0.000*\"declarado\"'), (262, '0.000*\"conclusão\" + 0.000*\"criado\" + 0.000*\"antun\" + 0.000*\"candidato\" + 0.000*\"característica\" + 0.000*\"robotsthi\" + 0.000*\"disponibilizar\" + 0.000*\"deputado\" + 0.000*\"lakadsensgmailcom\" + 0.000*\"declarado\"'), (14, '0.000*\"conclusão\" + 0.000*\"criado\" + 0.000*\"antun\" + 0.000*\"candidato\" + 0.000*\"característica\" + 0.000*\"robotsthi\" + 0.000*\"disponibilizar\" + 0.000*\"deputado\" + 0.000*\"lakadsensgmailcom\" + 0.000*\"declarado\"'), (258, '0.000*\"conclusão\" + 0.000*\"criado\" + 0.000*\"antun\" + 0.000*\"candidato\" + 0.000*\"característica\" + 0.000*\"robotsthi\" + 0.000*\"disponibilizar\" + 0.000*\"deputado\" + 0.000*\"lakadsensgmailcom\" + 0.000*\"declarado\"'), (165, '0.472*\"between\" + 0.111*\"across\" + 0.064*\"group\" + 0.037*\"track\" + 0.037*\"benefit\" + 0.031*\"washington\" + 0.029*\"francisco\" + 0.026*\"budget\" + 0.022*\"encourag\" + 0.017*\"constitut\"'), (312, '0.427*\"descript\" + 0.198*\"describ\" + 0.145*\"insid\" + 0.080*\"address\" + 0.028*\"specifi\" + 0.025*\"sometim\" + 0.018*\"provinc\" + 0.011*\"grow\" + 0.005*\"bottl\" + 0.003*\"accomplish\"'), (150, '0.349*\"research\" + 0.185*\"start\" + 0.175*\"without\" + 0.139*\"world\" + 0.050*\"match\" + 0.042*\"place\" + 0.010*\"everyth\" + 0.000*\"antun\" + 0.000*\"agradeço\" + 0.000*\"candidato\"'), (33, '0.306*\"gener\" + 0.278*\"metadata\" + 0.052*\"subset\" + 0.051*\"energi\" + 0.051*\"investig\" + 0.048*\"help\" + 0.035*\"commiss\" + 0.019*\"corpor\" + 0.016*\"notebook\" + 0.013*\"launch\"'), (302, '0.151*\"process\" + 0.116*\"within\" + 0.089*\"better\" + 0.086*\"singl\" + 0.081*\"understand\" + 0.077*\"pattern\" + 0.070*\"connect\" + 0.045*\"wonder\" + 0.029*\"complex\" + 0.027*\"movement\"'), (201, '0.260*\"origin\" + 0.180*\"extract\" + 0.169*\"version\" + 0.133*\"perform\" + 0.072*\"credit\" + 0.039*\"analys\" + 0.026*\"european\" + 0.018*\"skill\" + 0.015*\"entri\" + 0.012*\"centuri\"'), (227, '0.416*\"contain\" + 0.166*\"follow\" + 0.109*\"format\" + 0.092*\"exampl\" + 0.047*\"combin\" + 0.045*\"correspond\" + 0.034*\"actual\" + 0.031*\"howev\" + 0.014*\"titl\" + 0.007*\"readm\"'), (210, '0.195*\"includ\" + 0.085*\"provid\" + 0.082*\"databas\" + 0.079*\"public\" + 0.056*\"result\" + 0.055*\"chang\" + 0.043*\"individu\" + 0.040*\"document\" + 0.037*\"through\" + 0.037*\"import\"'), (183, '0.169*\"inform\" + 0.100*\"avail\" + 0.100*\"sourc\" + 0.069*\"creat\" + 0.062*\"analysi\" + 0.052*\"detail\" + 0.047*\"pleas\" + 0.043*\"interest\" + 0.036*\"relat\" + 0.031*\"current\"'), (327, '0.304*\"dataset\" + 0.134*\"context\" + 0.133*\"content\" + 0.125*\"acknowledg\" + 0.111*\"inspir\" + 0.051*\"differ\" + 0.028*\"thank\" + 0.011*\"visual\" + 0.011*\"includ\" + 0.010*\"compar\"')]\n"
          ],
          "name": "stdout"
        }
      ]
    },
    {
      "cell_type": "code",
      "metadata": {
        "id": "hM3pa2bL-aTQ",
        "colab_type": "code",
        "outputId": "0f415100-b41a-4b11-b649-0fc0bb044e08",
        "colab": {
          "base_uri": "https://localhost:8080/",
          "height": 1000
        }
      },
      "source": [
        "for idx, topic in lda_model.print_topics(-1):\n",
        "    print('Topic: {} \\nWords: {}'.format(idx, topic))"
      ],
      "execution_count": 0,
      "outputs": [
        {
          "output_type": "stream",
          "text": [
            "Topic: 0 \n",
            "Words: 0.754*\"univers\" + 0.117*\"institut\" + 0.037*\"regard\" + 0.020*\"camera\" + 0.008*\"fill\" + 0.000*\"candidato\" + 0.000*\"característica\" + 0.000*\"conclusão\" + 0.000*\"deputado\" + 0.000*\"declarado\"\n",
            "Topic: 1 \n",
            "Words: 0.394*\"learn\" + 0.324*\"machin\" + 0.103*\"american\" + 0.025*\"societi\" + 0.025*\"unknown\" + 0.022*\"repositori\" + 0.014*\"donat\" + 0.006*\"enjoy\" + 0.006*\"clearli\" + 0.003*\"leaflet\"\n",
            "Topic: 2 \n",
            "Words: 0.513*\"properti\" + 0.196*\"clean\" + 0.034*\"afford\" + 0.009*\"ladder\" + 0.003*\"rise\" + 0.000*\"conclusão\" + 0.000*\"característica\" + 0.000*\"declarado\" + 0.000*\"doaçõ\" + 0.000*\"deputado\"\n",
            "Topic: 3 \n",
            "Words: 0.000*\"conclusão\" + 0.000*\"criado\" + 0.000*\"antun\" + 0.000*\"candidato\" + 0.000*\"característica\" + 0.000*\"robotsthi\" + 0.000*\"disponibilizar\" + 0.000*\"deputado\" + 0.000*\"lakadsensgmailcom\" + 0.000*\"declarado\"\n",
            "Topic: 4 \n",
            "Words: 0.000*\"conclusão\" + 0.000*\"criado\" + 0.000*\"antun\" + 0.000*\"candidato\" + 0.000*\"característica\" + 0.000*\"robotsthi\" + 0.000*\"disponibilizar\" + 0.000*\"deputado\" + 0.000*\"lakadsensgmailcom\" + 0.000*\"declarado\"\n",
            "Topic: 5 \n",
            "Words: 0.000*\"conclusão\" + 0.000*\"criado\" + 0.000*\"antun\" + 0.000*\"candidato\" + 0.000*\"característica\" + 0.000*\"robotsthi\" + 0.000*\"disponibilizar\" + 0.000*\"deputado\" + 0.000*\"lakadsensgmailcom\" + 0.000*\"declarado\"\n",
            "Topic: 6 \n",
            "Words: 0.000*\"conclusão\" + 0.000*\"criado\" + 0.000*\"antun\" + 0.000*\"candidato\" + 0.000*\"característica\" + 0.000*\"robotsthi\" + 0.000*\"disponibilizar\" + 0.000*\"deputado\" + 0.000*\"lakadsensgmailcom\" + 0.000*\"declarado\"\n",
            "Topic: 7 \n",
            "Words: 0.000*\"conclusão\" + 0.000*\"criado\" + 0.000*\"antun\" + 0.000*\"candidato\" + 0.000*\"característica\" + 0.000*\"robotsthi\" + 0.000*\"disponibilizar\" + 0.000*\"deputado\" + 0.000*\"lakadsensgmailcom\" + 0.000*\"declarado\"\n",
            "Topic: 8 \n",
            "Words: 0.000*\"conclusão\" + 0.000*\"criado\" + 0.000*\"antun\" + 0.000*\"candidato\" + 0.000*\"característica\" + 0.000*\"robotsthi\" + 0.000*\"disponibilizar\" + 0.000*\"deputado\" + 0.000*\"lakadsensgmailcom\" + 0.000*\"declarado\"\n",
            "Topic: 9 \n",
            "Words: 0.673*\"review\" + 0.062*\"rate\" + 0.034*\"amazon\" + 0.016*\"product\" + 0.003*\"reviewscsv\" + 0.000*\"deputado\" + 0.000*\"criado\" + 0.000*\"característica\" + 0.000*\"declarado\" + 0.000*\"doaçõ\"\n",
            "Topic: 10 \n",
            "Words: 0.000*\"conclusão\" + 0.000*\"criado\" + 0.000*\"antun\" + 0.000*\"candidato\" + 0.000*\"característica\" + 0.000*\"robotsthi\" + 0.000*\"disponibilizar\" + 0.000*\"deputado\" + 0.000*\"lakadsensgmailcom\" + 0.000*\"declarado\"\n",
            "Topic: 11 \n",
            "Words: 0.331*\"monthli\" + 0.089*\"scraper\" + 0.044*\"doctor\" + 0.000*\"conclusão\" + 0.000*\"candidato\" + 0.000*\"característica\" + 0.000*\"deputado\" + 0.000*\"criado\" + 0.000*\"lakadsensgmailcom\" + 0.000*\"declarado\"\n",
            "Topic: 12 \n",
            "Words: 0.507*\"other\" + 0.077*\"minut\" + 0.071*\"particip\" + 0.070*\"accur\" + 0.066*\"prefer\" + 0.034*\"professor\" + 0.021*\"valuabl\" + 0.021*\"opposit\" + 0.014*\"columbia\" + 0.009*\"racial\"\n",
            "Topic: 13 \n",
            "Words: 0.411*\"digit\" + 0.116*\"run\" + 0.060*\"instrument\" + 0.040*\"protocol\" + 0.030*\"fourth\" + 0.030*\"grayscal\" + 0.022*\"grate\" + 0.008*\"zalando\" + 0.006*\"cloth\" + 0.000*\"doaçõ\"\n",
            "Topic: 14 \n",
            "Words: 0.000*\"conclusão\" + 0.000*\"criado\" + 0.000*\"antun\" + 0.000*\"candidato\" + 0.000*\"característica\" + 0.000*\"robotsthi\" + 0.000*\"disponibilizar\" + 0.000*\"deputado\" + 0.000*\"lakadsensgmailcom\" + 0.000*\"declarado\"\n",
            "Topic: 15 \n",
            "Words: 0.213*\"movi\" + 0.145*\"recommend\" + 0.123*\"filter\" + 0.102*\"thought\" + 0.091*\"pictur\" + 0.056*\"collabor\" + 0.033*\"organis\" + 0.031*\"movielen\" + 0.022*\"grouplen\" + 0.007*\"poster\"\n",
            "Topic: 16 \n",
            "Words: 0.310*\"consist\" + 0.138*\"minim\" + 0.073*\"durat\" + 0.068*\"appear\" + 0.067*\"continu\" + 0.059*\"find\" + 0.059*\"certain\" + 0.046*\"post\" + 0.042*\"independ\" + 0.029*\"rather\"\n",
            "Topic: 17 \n",
            "Words: 0.000*\"conclusão\" + 0.000*\"criado\" + 0.000*\"antun\" + 0.000*\"candidato\" + 0.000*\"característica\" + 0.000*\"robotsthi\" + 0.000*\"disponibilizar\" + 0.000*\"deputado\" + 0.000*\"lakadsensgmailcom\" + 0.000*\"declarado\"\n",
            "Topic: 18 \n",
            "Words: 0.555*\"point\" + 0.171*\"varieti\" + 0.000*\"característica\" + 0.000*\"criado\" + 0.000*\"antun\" + 0.000*\"candidato\" + 0.000*\"robotsthi\" + 0.000*\"deputado\" + 0.000*\"declarado\" + 0.000*\"conclusão\"\n",
            "Topic: 19 \n",
            "Words: 0.283*\"sentenc\" + 0.271*\"account\" + 0.055*\"favorit\" + 0.049*\"divers\" + 0.044*\"intent\" + 0.031*\"attract\" + 0.025*\"amongst\" + 0.015*\"thoroughli\" + 0.008*\"drop\" + 0.004*\"audiovideo\"\n",
            "Topic: 20 \n",
            "Words: 0.000*\"conclusão\" + 0.000*\"criado\" + 0.000*\"antun\" + 0.000*\"candidato\" + 0.000*\"característica\" + 0.000*\"robotsthi\" + 0.000*\"disponibilizar\" + 0.000*\"deputado\" + 0.000*\"lakadsensgmailcom\" + 0.000*\"declarado\"\n",
            "Topic: 21 \n",
            "Words: 0.379*\"system\" + 0.186*\"algorithm\" + 0.107*\"search\" + 0.074*\"written\" + 0.025*\"behaviour\" + 0.023*\"perspect\" + 0.023*\"write\" + 0.020*\"surround\" + 0.015*\"reveal\" + 0.012*\"style\"\n",
            "Topic: 22 \n",
            "Words: 0.000*\"conclusão\" + 0.000*\"criado\" + 0.000*\"antun\" + 0.000*\"candidato\" + 0.000*\"característica\" + 0.000*\"robotsthi\" + 0.000*\"disponibilizar\" + 0.000*\"deputado\" + 0.000*\"lakadsensgmailcom\" + 0.000*\"declarado\"\n",
            "Topic: 23 \n",
            "Words: 0.339*\"model\" + 0.228*\"evalu\" + 0.161*\"simpl\" + 0.117*\"regress\" + 0.016*\"seattl\" + 0.000*\"conclusão\" + 0.000*\"criado\" + 0.000*\"declarado\" + 0.000*\"característica\" + 0.000*\"deputado\"\n",
            "Topic: 24 \n",
            "Words: 0.286*\"sampl\" + 0.239*\"measur\" + 0.110*\"calcul\" + 0.063*\"random\" + 0.027*\"telecommun\" + 0.024*\"forest\" + 0.024*\"highest\" + 0.024*\"baselin\" + 0.021*\"centroid\" + 0.018*\"absolut\"\n",
            "Topic: 25 \n",
            "Words: 0.375*\"statist\" + 0.198*\"score\" + 0.067*\"award\" + 0.039*\"basebal\" + 0.035*\"ground\" + 0.033*\"stand\" + 0.027*\"pull\" + 0.026*\"bat\" + 0.024*\"pitch\" + 0.020*\"postseason\"\n",
            "Topic: 26 \n",
            "Words: 0.239*\"fund\" + 0.232*\"mobil\" + 0.000*\"declarado\" + 0.000*\"candidato\" + 0.000*\"característica\" + 0.000*\"conclusão\" + 0.000*\"agradeço\" + 0.000*\"criado\" + 0.000*\"deputado\" + 0.000*\"lakadsensgmailcom\"\n",
            "Topic: 27 \n",
            "Words: 0.120*\"wikipedia\" + 0.116*\"befor\" + 0.072*\"exist\" + 0.064*\"correct\" + 0.062*\"registr\" + 0.059*\"figur\" + 0.057*\"someth\" + 0.048*\"stanford\" + 0.044*\"get\" + 0.033*\"longer\"\n",
            "Topic: 28 \n",
            "Words: 0.278*\"imag\" + 0.128*\"comput\" + 0.099*\"pretrain\" + 0.090*\"label\" + 0.083*\"curat\" + 0.055*\"learn\" + 0.046*\"recognit\" + 0.042*\"manual\" + 0.025*\"mention\" + 0.022*\"vision\"\n",
            "Topic: 29 \n",
            "Words: 0.234*\"against\" + 0.232*\"pokemon\" + 0.183*\"damag\" + 0.032*\"resist\" + 0.020*\"special\" + 0.003*\"scratch\" + 0.000*\"conclusão\" + 0.000*\"criado\" + 0.000*\"candidato\" + 0.000*\"declarado\"\n",
            "Topic: 30 \n",
            "Words: 0.000*\"conclusão\" + 0.000*\"criado\" + 0.000*\"antun\" + 0.000*\"candidato\" + 0.000*\"característica\" + 0.000*\"robotsthi\" + 0.000*\"disponibilizar\" + 0.000*\"deputado\" + 0.000*\"lakadsensgmailcom\" + 0.000*\"declarado\"\n",
            "Topic: 31 \n",
            "Words: 0.000*\"conclusão\" + 0.000*\"criado\" + 0.000*\"antun\" + 0.000*\"candidato\" + 0.000*\"característica\" + 0.000*\"robotsthi\" + 0.000*\"disponibilizar\" + 0.000*\"deputado\" + 0.000*\"lakadsensgmailcom\" + 0.000*\"declarado\"\n",
            "Topic: 32 \n",
            "Words: 0.593*\"dure\" + 0.082*\"flight\" + 0.016*\"fli\" + 0.014*\"mountain\" + 0.000*\"conclusão\" + 0.000*\"característica\" + 0.000*\"candidato\" + 0.000*\"criado\" + 0.000*\"disponibilizar\" + 0.000*\"declarado\"\n",
            "Topic: 33 \n",
            "Words: 0.306*\"gener\" + 0.278*\"metadata\" + 0.052*\"subset\" + 0.051*\"energi\" + 0.051*\"investig\" + 0.048*\"help\" + 0.035*\"commiss\" + 0.019*\"corpor\" + 0.016*\"notebook\" + 0.013*\"launch\"\n",
            "Topic: 34 \n",
            "Words: 0.000*\"conclusão\" + 0.000*\"criado\" + 0.000*\"antun\" + 0.000*\"candidato\" + 0.000*\"característica\" + 0.000*\"robotsthi\" + 0.000*\"disponibilizar\" + 0.000*\"deputado\" + 0.000*\"lakadsensgmailcom\" + 0.000*\"declarado\"\n",
            "Topic: 35 \n",
            "Words: 0.138*\"mathemat\" + 0.111*\"spend\" + 0.085*\"economi\" + 0.059*\"strongli\" + 0.051*\"quickli\" + 0.037*\"western\" + 0.033*\"interfac\" + 0.031*\"borrow\" + 0.031*\"brand\" + 0.027*\"centr\"\n",
            "Topic: 36 \n",
            "Words: 0.163*\"analyst\" + 0.000*\"conclusão\" + 0.000*\"criado\" + 0.000*\"candidato\" + 0.000*\"característica\" + 0.000*\"agradeço\" + 0.000*\"disponibilizar\" + 0.000*\"deputado\" + 0.000*\"lakadsensgmailcom\" + 0.000*\"declarado\"\n",
            "Topic: 37 \n",
            "Words: 0.217*\"integ\" + 0.175*\"categor\" + 0.104*\"decis\" + 0.087*\"alway\" + 0.055*\"interest\" + 0.051*\"environ\" + 0.027*\"habit\" + 0.025*\"outlier\" + 0.020*\"see\" + 0.018*\"villag\"\n",
            "Topic: 38 \n",
            "Words: 0.000*\"conclusão\" + 0.000*\"criado\" + 0.000*\"antun\" + 0.000*\"candidato\" + 0.000*\"característica\" + 0.000*\"robotsthi\" + 0.000*\"disponibilizar\" + 0.000*\"deputado\" + 0.000*\"lakadsensgmailcom\" + 0.000*\"declarado\"\n",
            "Topic: 39 \n",
            "Words: 0.000*\"conclusão\" + 0.000*\"criado\" + 0.000*\"antun\" + 0.000*\"candidato\" + 0.000*\"característica\" + 0.000*\"robotsthi\" + 0.000*\"disponibilizar\" + 0.000*\"deputado\" + 0.000*\"lakadsensgmailcom\" + 0.000*\"declarado\"\n",
            "Topic: 40 \n",
            "Words: 0.000*\"conclusão\" + 0.000*\"criado\" + 0.000*\"antun\" + 0.000*\"candidato\" + 0.000*\"característica\" + 0.000*\"robotsthi\" + 0.000*\"disponibilizar\" + 0.000*\"deputado\" + 0.000*\"lakadsensgmailcom\" + 0.000*\"declarado\"\n",
            "Topic: 41 \n",
            "Words: 0.428*\"acquir\" + 0.230*\"object\" + 0.077*\"expens\" + 0.049*\"therefor\" + 0.019*\"fail\" + 0.010*\"rare\" + 0.009*\"dividend\" + 0.007*\"usbas\" + 0.006*\"highqual\" + 0.003*\"nasdaq\"\n",
            "Topic: 42 \n",
            "Words: 0.324*\"citat\" + 0.204*\"activ\" + 0.067*\"decemb\" + 0.067*\"journal\" + 0.063*\"success\" + 0.043*\"effici\" + 0.037*\"live\" + 0.033*\"carri\" + 0.015*\"walk\" + 0.011*\"overlap\"\n",
            "Topic: 43 \n",
            "Words: 0.000*\"conclusão\" + 0.000*\"criado\" + 0.000*\"antun\" + 0.000*\"candidato\" + 0.000*\"característica\" + 0.000*\"robotsthi\" + 0.000*\"disponibilizar\" + 0.000*\"deputado\" + 0.000*\"lakadsensgmailcom\" + 0.000*\"declarado\"\n",
            "Topic: 44 \n",
            "Words: 0.567*\"output\" + 0.023*\"championship\" + 0.000*\"característica\" + 0.000*\"agradeço\" + 0.000*\"antun\" + 0.000*\"candidato\" + 0.000*\"robotsthi\" + 0.000*\"deputado\" + 0.000*\"declarado\" + 0.000*\"conclusão\"\n",
            "Topic: 45 \n",
            "Words: 0.000*\"conclusão\" + 0.000*\"criado\" + 0.000*\"antun\" + 0.000*\"candidato\" + 0.000*\"característica\" + 0.000*\"robotsthi\" + 0.000*\"disponibilizar\" + 0.000*\"deputado\" + 0.000*\"lakadsensgmailcom\" + 0.000*\"declarado\"\n",
            "Topic: 46 \n",
            "Words: 0.000*\"conclusão\" + 0.000*\"criado\" + 0.000*\"antun\" + 0.000*\"candidato\" + 0.000*\"característica\" + 0.000*\"robotsthi\" + 0.000*\"disponibilizar\" + 0.000*\"deputado\" + 0.000*\"lakadsensgmailcom\" + 0.000*\"declarado\"\n",
            "Topic: 47 \n",
            "Words: 0.000*\"conclusão\" + 0.000*\"criado\" + 0.000*\"antun\" + 0.000*\"candidato\" + 0.000*\"característica\" + 0.000*\"robotsthi\" + 0.000*\"disponibilizar\" + 0.000*\"deputado\" + 0.000*\"lakadsensgmailcom\" + 0.000*\"declarado\"\n",
            "Topic: 48 \n",
            "Words: 0.000*\"conclusão\" + 0.000*\"criado\" + 0.000*\"antun\" + 0.000*\"candidato\" + 0.000*\"característica\" + 0.000*\"robotsthi\" + 0.000*\"disponibilizar\" + 0.000*\"deputado\" + 0.000*\"lakadsensgmailcom\" + 0.000*\"declarado\"\n",
            "Topic: 49 \n",
            "Words: 0.089*\"copyright\" + 0.076*\"softwar\" + 0.074*\"limit\" + 0.058*\"class\" + 0.056*\"test\" + 0.055*\"permiss\" + 0.044*\"modifi\" + 0.036*\"notic\" + 0.034*\"grant\" + 0.032*\"permit\"\n",
            "Topic: 50 \n",
            "Words: 0.283*\"charact\" + 0.283*\"seri\" + 0.077*\"final\" + 0.060*\"comprehens\" + 0.049*\"martin\" + 0.023*\"georg\" + 0.006*\"landscap\" + 0.001*\"battlescsv\" + 0.001*\"albon\" + 0.000*\"felip\"\n",
            "Topic: 51 \n",
            "Words: 0.575*\"factor\" + 0.077*\"particularli\" + 0.000*\"conclusão\" + 0.000*\"candidato\" + 0.000*\"característica\" + 0.000*\"criado\" + 0.000*\"disponibilizar\" + 0.000*\"deputado\" + 0.000*\"robotsthi\" + 0.000*\"declarado\"\n",
            "Topic: 52 \n",
            "Words: 0.000*\"conclusão\" + 0.000*\"criado\" + 0.000*\"antun\" + 0.000*\"candidato\" + 0.000*\"característica\" + 0.000*\"robotsthi\" + 0.000*\"disponibilizar\" + 0.000*\"deputado\" + 0.000*\"lakadsensgmailcom\" + 0.000*\"declarado\"\n",
            "Topic: 53 \n",
            "Words: 0.468*\"request\" + 0.140*\"januari\" + 0.135*\"septemb\" + 0.049*\"friend\" + 0.000*\"criado\" + 0.000*\"deputado\" + 0.000*\"conclusão\" + 0.000*\"candidato\" + 0.000*\"eleito\" + 0.000*\"doaçõ\"\n",
            "Topic: 54 \n",
            "Words: 0.008*\"productnam\" + 0.000*\"conclusão\" + 0.000*\"declarado\" + 0.000*\"candidato\" + 0.000*\"característica\" + 0.000*\"agradeço\" + 0.000*\"criado\" + 0.000*\"deputado\" + 0.000*\"lakadsensgmailcom\" + 0.000*\"disponibilizar\"\n",
            "Topic: 55 \n",
            "Words: 0.102*\"timestamp\" + 0.071*\"signific\" + 0.059*\"symbol\" + 0.048*\"handl\" + 0.048*\"accept\" + 0.047*\"spread\" + 0.042*\"contract\" + 0.040*\"registri\" + 0.039*\"plan\" + 0.038*\"crypto\"\n",
            "Topic: 56 \n",
            "Words: 0.000*\"conclusão\" + 0.000*\"criado\" + 0.000*\"antun\" + 0.000*\"candidato\" + 0.000*\"característica\" + 0.000*\"robotsthi\" + 0.000*\"disponibilizar\" + 0.000*\"deputado\" + 0.000*\"lakadsensgmailcom\" + 0.000*\"declarado\"\n",
            "Topic: 57 \n",
            "Words: 0.000*\"conclusão\" + 0.000*\"criado\" + 0.000*\"antun\" + 0.000*\"candidato\" + 0.000*\"característica\" + 0.000*\"robotsthi\" + 0.000*\"disponibilizar\" + 0.000*\"deputado\" + 0.000*\"lakadsensgmailcom\" + 0.000*\"declarado\"\n",
            "Topic: 58 \n",
            "Words: 0.094*\"harvest\" + 0.000*\"conclusão\" + 0.000*\"declarado\" + 0.000*\"candidato\" + 0.000*\"característica\" + 0.000*\"agradeço\" + 0.000*\"criado\" + 0.000*\"deputado\" + 0.000*\"lakadsensgmailcom\" + 0.000*\"disponibilizar\"\n",
            "Topic: 59 \n",
            "Words: 0.000*\"conclusão\" + 0.000*\"criado\" + 0.000*\"antun\" + 0.000*\"candidato\" + 0.000*\"característica\" + 0.000*\"robotsthi\" + 0.000*\"disponibilizar\" + 0.000*\"deputado\" + 0.000*\"lakadsensgmailcom\" + 0.000*\"declarado\"\n",
            "Topic: 60 \n",
            "Words: 0.000*\"conclusão\" + 0.000*\"criado\" + 0.000*\"antun\" + 0.000*\"candidato\" + 0.000*\"característica\" + 0.000*\"robotsthi\" + 0.000*\"disponibilizar\" + 0.000*\"deputado\" + 0.000*\"lakadsensgmailcom\" + 0.000*\"declarado\"\n",
            "Topic: 61 \n",
            "Words: 0.000*\"conclusão\" + 0.000*\"criado\" + 0.000*\"antun\" + 0.000*\"candidato\" + 0.000*\"característica\" + 0.000*\"robotsthi\" + 0.000*\"disponibilizar\" + 0.000*\"deputado\" + 0.000*\"lakadsensgmailcom\" + 0.000*\"declarado\"\n",
            "Topic: 62 \n",
            "Words: 0.000*\"conclusão\" + 0.000*\"criado\" + 0.000*\"antun\" + 0.000*\"candidato\" + 0.000*\"característica\" + 0.000*\"robotsthi\" + 0.000*\"disponibilizar\" + 0.000*\"deputado\" + 0.000*\"lakadsensgmailcom\" + 0.000*\"declarado\"\n",
            "Topic: 63 \n",
            "Words: 0.000*\"conclusão\" + 0.000*\"criado\" + 0.000*\"antun\" + 0.000*\"candidato\" + 0.000*\"característica\" + 0.000*\"robotsthi\" + 0.000*\"disponibilizar\" + 0.000*\"deputado\" + 0.000*\"lakadsensgmailcom\" + 0.000*\"declarado\"\n",
            "Topic: 64 \n",
            "Words: 0.000*\"conclusão\" + 0.000*\"criado\" + 0.000*\"antun\" + 0.000*\"candidato\" + 0.000*\"característica\" + 0.000*\"robotsthi\" + 0.000*\"disponibilizar\" + 0.000*\"deputado\" + 0.000*\"lakadsensgmailcom\" + 0.000*\"declarado\"\n",
            "Topic: 65 \n",
            "Words: 0.271*\"estim\" + 0.146*\"subject\" + 0.101*\"censu\" + 0.080*\"count\" + 0.074*\"defin\" + 0.056*\"interact\" + 0.041*\"session\" + 0.035*\"mechan\" + 0.032*\"jurisdict\" + 0.016*\"zillow\"\n",
            "Topic: 66 \n",
            "Words: 0.350*\"govern\" + 0.264*\"feder\" + 0.128*\"polit\" + 0.038*\"affair\" + 0.033*\"affili\" + 0.003*\"redact\" + 0.000*\"disponibilizar\" + 0.000*\"conclusão\" + 0.000*\"característica\" + 0.000*\"agradeço\"\n",
            "Topic: 67 \n",
            "Words: 0.249*\"present\" + 0.215*\"share\" + 0.214*\"obtain\" + 0.097*\"adjust\" + 0.068*\"belong\" + 0.000*\"conclusão\" + 0.000*\"característica\" + 0.000*\"candidato\" + 0.000*\"criado\" + 0.000*\"disponibilizar\"\n",
            "Topic: 68 \n",
            "Words: 0.000*\"conclusão\" + 0.000*\"criado\" + 0.000*\"antun\" + 0.000*\"candidato\" + 0.000*\"característica\" + 0.000*\"robotsthi\" + 0.000*\"disponibilizar\" + 0.000*\"deputado\" + 0.000*\"lakadsensgmailcom\" + 0.000*\"declarado\"\n",
            "Topic: 69 \n",
            "Words: 0.000*\"conclusão\" + 0.000*\"criado\" + 0.000*\"antun\" + 0.000*\"candidato\" + 0.000*\"característica\" + 0.000*\"robotsthi\" + 0.000*\"disponibilizar\" + 0.000*\"deputado\" + 0.000*\"lakadsensgmailcom\" + 0.000*\"declarado\"\n",
            "Topic: 70 \n",
            "Words: 0.000*\"conclusão\" + 0.000*\"criado\" + 0.000*\"antun\" + 0.000*\"candidato\" + 0.000*\"característica\" + 0.000*\"robotsthi\" + 0.000*\"disponibilizar\" + 0.000*\"deputado\" + 0.000*\"lakadsensgmailcom\" + 0.000*\"declarado\"\n",
            "Topic: 71 \n",
            "Words: 0.260*\"vehicl\" + 0.059*\"right\" + 0.052*\"strength\" + 0.049*\"michael\" + 0.049*\"almost\" + 0.049*\"premier\" + 0.043*\"kill\" + 0.041*\"penalti\" + 0.034*\"partner\" + 0.031*\"fantasi\"\n",
            "Topic: 72 \n",
            "Words: 0.432*\"separ\" + 0.168*\"speci\" + 0.061*\"classic\" + 0.021*\"taxonom\" + 0.014*\"flower\" + 0.013*\"firstli\" + 0.011*\"linearli\" + 0.003*\"secondli\" + 0.000*\"disponibilizar\" + 0.000*\"deputado\"\n",
            "Topic: 73 \n",
            "Words: 0.681*\"repres\" + 0.127*\"transfer\" + 0.055*\"behavior\" + 0.012*\"massiv\" + 0.000*\"criado\" + 0.000*\"declarado\" + 0.000*\"característica\" + 0.000*\"deputado\" + 0.000*\"eleito\" + 0.000*\"doaçõ\"\n",
            "Topic: 74 \n",
            "Words: 0.393*\"largest\" + 0.067*\"close\" + 0.054*\"optim\" + 0.043*\"come\" + 0.039*\"profit\" + 0.038*\"correctli\" + 0.037*\"dimens\" + 0.033*\"portion\" + 0.024*\"benign\" + 0.019*\"malign\"\n",
            "Topic: 75 \n",
            "Words: 0.494*\"languag\" + 0.220*\"english\" + 0.050*\"transcript\" + 0.036*\"topic\" + 0.031*\"speaker\" + 0.027*\"chapter\" + 0.027*\"debat\" + 0.007*\"film\" + 0.006*\"fascin\" + 0.000*\"disponibilizar\"\n",
            "Topic: 76 \n",
            "Words: 0.000*\"conclusão\" + 0.000*\"criado\" + 0.000*\"antun\" + 0.000*\"candidato\" + 0.000*\"característica\" + 0.000*\"robotsthi\" + 0.000*\"disponibilizar\" + 0.000*\"deputado\" + 0.000*\"lakadsensgmailcom\" + 0.000*\"declarado\"\n",
            "Topic: 77 \n",
            "Words: 0.129*\"california\" + 0.101*\"bureau\" + 0.092*\"consum\" + 0.090*\"transport\" + 0.090*\"summari\" + 0.072*\"travel\" + 0.057*\"statement\" + 0.052*\"client\" + 0.047*\"payment\" + 0.026*\"default\"\n",
            "Topic: 78 \n",
            "Words: 0.000*\"conclusão\" + 0.000*\"criado\" + 0.000*\"antun\" + 0.000*\"candidato\" + 0.000*\"característica\" + 0.000*\"robotsthi\" + 0.000*\"disponibilizar\" + 0.000*\"deputado\" + 0.000*\"lakadsensgmailcom\" + 0.000*\"declarado\"\n",
            "Topic: 79 \n",
            "Words: 0.370*\"player\" + 0.106*\"event\" + 0.096*\"leagu\" + 0.067*\"play\" + 0.052*\"assist\" + 0.050*\"integr\" + 0.039*\"footbal\" + 0.023*\"pass\" + 0.022*\"chanc\" + 0.020*\"soccer\"\n",
            "Topic: 80 \n",
            "Words: 0.000*\"conclusão\" + 0.000*\"criado\" + 0.000*\"antun\" + 0.000*\"candidato\" + 0.000*\"característica\" + 0.000*\"robotsthi\" + 0.000*\"disponibilizar\" + 0.000*\"deputado\" + 0.000*\"lakadsensgmailcom\" + 0.000*\"declarado\"\n",
            "Topic: 81 \n",
            "Words: 0.153*\"solut\" + 0.131*\"display\" + 0.119*\"take\" + 0.062*\"summar\" + 0.044*\"land\" + 0.040*\"encount\" + 0.030*\"punctuat\" + 0.021*\"crash\" + 0.020*\"chart\" + 0.010*\"aboard\"\n",
            "Topic: 82 \n",
            "Words: 0.131*\"support\" + 0.088*\"vector\" + 0.076*\"sensor\" + 0.073*\"proceed\" + 0.059*\"captur\" + 0.052*\"embed\" + 0.037*\"intellig\" + 0.031*\"window\" + 0.025*\"workshop\" + 0.024*\"artifici\"\n",
            "Topic: 83 \n",
            "Words: 0.000*\"conclusão\" + 0.000*\"criado\" + 0.000*\"antun\" + 0.000*\"candidato\" + 0.000*\"característica\" + 0.000*\"robotsthi\" + 0.000*\"disponibilizar\" + 0.000*\"deputado\" + 0.000*\"lakadsensgmailcom\" + 0.000*\"declarado\"\n",
            "Topic: 84 \n",
            "Words: 0.000*\"conclusão\" + 0.000*\"criado\" + 0.000*\"antun\" + 0.000*\"candidato\" + 0.000*\"característica\" + 0.000*\"robotsthi\" + 0.000*\"disponibilizar\" + 0.000*\"deputado\" + 0.000*\"lakadsensgmailcom\" + 0.000*\"declarado\"\n",
            "Topic: 85 \n",
            "Words: 0.000*\"conclusão\" + 0.000*\"criado\" + 0.000*\"antun\" + 0.000*\"candidato\" + 0.000*\"característica\" + 0.000*\"robotsthi\" + 0.000*\"disponibilizar\" + 0.000*\"deputado\" + 0.000*\"lakadsensgmailcom\" + 0.000*\"declarado\"\n",
            "Topic: 86 \n",
            "Words: 0.254*\"archiv\" + 0.199*\"letter\" + 0.160*\"valid\" + 0.074*\"scientif\" + 0.022*\"feel\" + 0.000*\"conclusão\" + 0.000*\"candidato\" + 0.000*\"característica\" + 0.000*\"agradeço\" + 0.000*\"criado\"\n",
            "Topic: 87 \n",
            "Words: 0.000*\"conclusão\" + 0.000*\"criado\" + 0.000*\"antun\" + 0.000*\"candidato\" + 0.000*\"característica\" + 0.000*\"robotsthi\" + 0.000*\"disponibilizar\" + 0.000*\"deputado\" + 0.000*\"lakadsensgmailcom\" + 0.000*\"declarado\"\n",
            "Topic: 88 \n",
            "Words: 0.436*\"featur\" + 0.243*\"valu\" + 0.125*\"miss\" + 0.032*\"server\" + 0.026*\"signific\" + 0.009*\"mangasarian\" + 0.006*\"contour\" + 0.005*\"perimet\" + 0.005*\"semest\" + 0.005*\"textur\"\n",
            "Topic: 89 \n",
            "Words: 0.407*\"indic\" + 0.382*\"compani\" + 0.046*\"yearli\" + 0.000*\"característica\" + 0.000*\"deputado\" + 0.000*\"antun\" + 0.000*\"candidato\" + 0.000*\"declarado\" + 0.000*\"conclusão\" + 0.000*\"criado\"\n",
            "Topic: 90 \n",
            "Words: 0.484*\"engin\" + 0.014*\"append\" + 0.000*\"conclusão\" + 0.000*\"declarado\" + 0.000*\"candidato\" + 0.000*\"característica\" + 0.000*\"agradeço\" + 0.000*\"disponibilizar\" + 0.000*\"deputado\" + 0.000*\"criado\"\n",
            "Topic: 91 \n",
            "Words: 0.000*\"conclusão\" + 0.000*\"criado\" + 0.000*\"antun\" + 0.000*\"candidato\" + 0.000*\"característica\" + 0.000*\"robotsthi\" + 0.000*\"disponibilizar\" + 0.000*\"deputado\" + 0.000*\"lakadsensgmailcom\" + 0.000*\"declarado\"\n",
            "Topic: 92 \n",
            "Words: 0.000*\"conclusão\" + 0.000*\"criado\" + 0.000*\"antun\" + 0.000*\"candidato\" + 0.000*\"característica\" + 0.000*\"robotsthi\" + 0.000*\"disponibilizar\" + 0.000*\"deputado\" + 0.000*\"lakadsensgmailcom\" + 0.000*\"declarado\"\n",
            "Topic: 93 \n",
            "Words: 0.291*\"inventori\" + 0.141*\"profession\" + 0.000*\"característica\" + 0.000*\"conclusão\" + 0.000*\"criado\" + 0.000*\"antun\" + 0.000*\"declarado\" + 0.000*\"disponibilizar\" + 0.000*\"deputado\" + 0.000*\"doaçõ\"\n",
            "Topic: 94 \n",
            "Words: 0.284*\"establish\" + 0.140*\"aspect\" + 0.019*\"patch\" + 0.000*\"robotsthi\" + 0.000*\"antun\" + 0.000*\"disgust\" + 0.000*\"lakadsensgmailcom\" + 0.000*\"conclusão\" + 0.000*\"característica\" + 0.000*\"agradeço\"\n",
            "Topic: 95 \n",
            "Words: 0.303*\"locat\" + 0.107*\"coordin\" + 0.096*\"polic\" + 0.084*\"latitud\" + 0.083*\"longitud\" + 0.071*\"administr\" + 0.033*\"portal\" + 0.032*\"concern\" + 0.019*\"park\" + 0.018*\"complaint\"\n",
            "Topic: 96 \n",
            "Words: 0.000*\"conclusão\" + 0.000*\"criado\" + 0.000*\"antun\" + 0.000*\"candidato\" + 0.000*\"característica\" + 0.000*\"robotsthi\" + 0.000*\"disponibilizar\" + 0.000*\"deputado\" + 0.000*\"lakadsensgmailcom\" + 0.000*\"declarado\"\n",
            "Topic: 97 \n",
            "Words: 0.255*\"attack\" + 0.241*\"defens\" + 0.099*\"denot\" + 0.051*\"teach\" + 0.046*\"infer\" + 0.024*\"plot\" + 0.018*\"opensourc\" + 0.017*\"terrorist\" + 0.016*\"bubbl\" + 0.007*\"worthi\"\n",
            "Topic: 98 \n",
            "Words: 0.264*\"categori\" + 0.129*\"either\" + 0.119*\"normal\" + 0.076*\"length\" + 0.062*\"situat\" + 0.052*\"background\" + 0.043*\"overview\" + 0.036*\"consider\" + 0.032*\"distinguish\" + 0.027*\"equal\"\n",
            "Topic: 99 \n",
            "Words: 0.201*\"there\" + 0.127*\"social\" + 0.091*\"accord\" + 0.090*\"recent\" + 0.033*\"bias\" + 0.032*\"facebook\" + 0.030*\"daniel\" + 0.029*\"choic\" + 0.028*\"disclaim\" + 0.025*\"choos\"\n",
            "Topic: 100 \n",
            "Words: 0.000*\"conclusão\" + 0.000*\"criado\" + 0.000*\"antun\" + 0.000*\"candidato\" + 0.000*\"característica\" + 0.000*\"robotsthi\" + 0.000*\"disponibilizar\" + 0.000*\"deputado\" + 0.000*\"lakadsensgmailcom\" + 0.000*\"declarado\"\n",
            "Topic: 101 \n",
            "Words: 0.525*\"question\" + 0.383*\"answer\" + 0.004*\"ask\" + 0.004*\"choic\" + 0.000*\"conclusão\" + 0.000*\"característica\" + 0.000*\"candidato\" + 0.000*\"criado\" + 0.000*\"agradeço\" + 0.000*\"declarado\"\n",
            "Topic: 102 \n",
            "Words: 0.000*\"conclusão\" + 0.000*\"criado\" + 0.000*\"antun\" + 0.000*\"candidato\" + 0.000*\"característica\" + 0.000*\"robotsthi\" + 0.000*\"disponibilizar\" + 0.000*\"deputado\" + 0.000*\"lakadsensgmailcom\" + 0.000*\"declarado\"\n",
            "Topic: 103 \n",
            "Words: 0.000*\"conclusão\" + 0.000*\"criado\" + 0.000*\"antun\" + 0.000*\"candidato\" + 0.000*\"característica\" + 0.000*\"robotsthi\" + 0.000*\"disponibilizar\" + 0.000*\"deputado\" + 0.000*\"lakadsensgmailcom\" + 0.000*\"declarado\"\n",
            "Topic: 104 \n",
            "Words: 0.000*\"conclusão\" + 0.000*\"criado\" + 0.000*\"antun\" + 0.000*\"candidato\" + 0.000*\"característica\" + 0.000*\"robotsthi\" + 0.000*\"disponibilizar\" + 0.000*\"deputado\" + 0.000*\"lakadsensgmailcom\" + 0.000*\"declarado\"\n",
            "Topic: 105 \n",
            "Words: 0.386*\"develop\" + 0.090*\"annual\" + 0.072*\"borough\" + 0.061*\"protect\" + 0.053*\"driver\" + 0.049*\"vari\" + 0.046*\"hundr\" + 0.042*\"essenti\" + 0.032*\"lead\" + 0.014*\"manhattan\"\n",
            "Topic: 106 \n",
            "Words: 0.278*\"region\" + 0.231*\"street\" + 0.127*\"respect\" + 0.091*\"degre\" + 0.067*\"growth\" + 0.049*\"attend\" + 0.008*\"northeast\" + 0.005*\"midwest\" + 0.000*\"disponibilizar\" + 0.000*\"característica\"\n",
            "Topic: 107 \n",
            "Words: 0.000*\"conclusão\" + 0.000*\"criado\" + 0.000*\"antun\" + 0.000*\"candidato\" + 0.000*\"característica\" + 0.000*\"robotsthi\" + 0.000*\"disponibilizar\" + 0.000*\"deputado\" + 0.000*\"lakadsensgmailcom\" + 0.000*\"declarado\"\n",
            "Topic: 108 \n",
            "Words: 0.596*\"author\" + 0.082*\"token\" + 0.038*\"compat\" + 0.000*\"característica\" + 0.000*\"conclusão\" + 0.000*\"antun\" + 0.000*\"candidato\" + 0.000*\"deputado\" + 0.000*\"criado\" + 0.000*\"declarado\"\n",
            "Topic: 109 \n",
            "Words: 0.000*\"conclusão\" + 0.000*\"criado\" + 0.000*\"antun\" + 0.000*\"candidato\" + 0.000*\"característica\" + 0.000*\"robotsthi\" + 0.000*\"disponibilizar\" + 0.000*\"deputado\" + 0.000*\"lakadsensgmailcom\" + 0.000*\"declarado\"\n",
            "Topic: 110 \n",
            "Words: 0.269*\"instanc\" + 0.223*\"employ\" + 0.114*\"foreign\" + 0.060*\"certif\" + 0.050*\"worker\" + 0.029*\"immigr\" + 0.026*\"petit\" + 0.012*\"fulltim\" + 0.000*\"criado\" + 0.000*\"conclusão\"\n",
            "Topic: 111 \n",
            "Words: 0.446*\"field\" + 0.118*\"deriv\" + 0.093*\"enough\" + 0.074*\"divis\" + 0.026*\"doesnt\" + 0.016*\"behav\" + 0.013*\"shorter\" + 0.009*\"portfolio\" + 0.005*\"roll\" + 0.004*\"undervalu\"\n",
            "Topic: 112 \n",
            "Words: 0.169*\"method\" + 0.138*\"sever\" + 0.135*\"challeng\" + 0.113*\"detect\" + 0.074*\"automat\" + 0.039*\"reduc\" + 0.029*\"feedback\" + 0.028*\"hospit\" + 0.026*\"precis\" + 0.025*\"compon\"\n",
            "Topic: 113 \n",
            "Words: 0.453*\"gender\" + 0.220*\"femal\" + 0.009*\"quantil\" + 0.000*\"declarado\" + 0.000*\"conclusão\" + 0.000*\"criado\" + 0.000*\"característica\" + 0.000*\"deputado\" + 0.000*\"eleito\" + 0.000*\"disponibilizar\"\n",
            "Topic: 114 \n",
            "Words: 0.473*\"thoma\" + 0.137*\"weapon\" + 0.110*\"justic\" + 0.000*\"agradeço\" + 0.000*\"antun\" + 0.000*\"robotsthi\" + 0.000*\"candidato\" + 0.000*\"criado\" + 0.000*\"conclusão\" + 0.000*\"declarado\"\n",
            "Topic: 115 \n",
            "Words: 0.191*\"elect\" + 0.168*\"candid\" + 0.160*\"primari\" + 0.084*\"shapefil\" + 0.043*\"vote\" + 0.041*\"discov\" + 0.039*\"presidenti\" + 0.023*\"result\" + 0.022*\"moment\" + 0.017*\"uptod\"\n",
            "Topic: 116 \n",
            "Words: 0.454*\"attribut\" + 0.325*\"variabl\" + 0.047*\"comparison\" + 0.028*\"identif\" + 0.019*\"ad\" + 0.014*\"ultim\" + 0.013*\"asset\" + 0.010*\"greater\" + 0.006*\"exist\" + 0.005*\"appoint\"\n",
            "Topic: 117 \n",
            "Words: 0.000*\"conclusão\" + 0.000*\"criado\" + 0.000*\"antun\" + 0.000*\"candidato\" + 0.000*\"característica\" + 0.000*\"robotsthi\" + 0.000*\"disponibilizar\" + 0.000*\"deputado\" + 0.000*\"lakadsensgmailcom\" + 0.000*\"declarado\"\n",
            "Topic: 118 \n",
            "Words: 0.000*\"conclusão\" + 0.000*\"criado\" + 0.000*\"antun\" + 0.000*\"candidato\" + 0.000*\"característica\" + 0.000*\"robotsthi\" + 0.000*\"disponibilizar\" + 0.000*\"deputado\" + 0.000*\"lakadsensgmailcom\" + 0.000*\"declarado\"\n",
            "Topic: 119 \n",
            "Words: 0.256*\"list\" + 0.146*\"comment\" + 0.079*\"smaller\" + 0.069*\"canada\" + 0.053*\"grade\" + 0.052*\"youtub\" + 0.043*\"video\" + 0.025*\"magazin\" + 0.022*\"germani\" + 0.019*\"britain\"\n",
            "Topic: 120 \n",
            "Words: 0.000*\"conclusão\" + 0.000*\"criado\" + 0.000*\"antun\" + 0.000*\"candidato\" + 0.000*\"característica\" + 0.000*\"robotsthi\" + 0.000*\"disponibilizar\" + 0.000*\"deputado\" + 0.000*\"lakadsensgmailcom\" + 0.000*\"declarado\"\n",
            "Topic: 121 \n",
            "Words: 0.000*\"conclusão\" + 0.000*\"criado\" + 0.000*\"antun\" + 0.000*\"candidato\" + 0.000*\"característica\" + 0.000*\"robotsthi\" + 0.000*\"disponibilizar\" + 0.000*\"deputado\" + 0.000*\"lakadsensgmailcom\" + 0.000*\"declarado\"\n",
            "Topic: 122 \n",
            "Words: 0.000*\"conclusão\" + 0.000*\"criado\" + 0.000*\"antun\" + 0.000*\"candidato\" + 0.000*\"característica\" + 0.000*\"robotsthi\" + 0.000*\"disponibilizar\" + 0.000*\"deputado\" + 0.000*\"lakadsensgmailcom\" + 0.000*\"declarado\"\n",
            "Topic: 123 \n",
            "Words: 0.327*\"scrape\" + 0.288*\"million\" + 0.075*\"platform\" + 0.039*\"america\" + 0.032*\"europ\" + 0.020*\"greater\" + 0.018*\"beautifulsoup\" + 0.016*\"incomplet\" + 0.011*\"subscrib\" + 0.008*\"metacrit\"\n",
            "Topic: 124 \n",
            "Words: 0.294*\"requir\" + 0.285*\"qualiti\" + 0.173*\"restaur\" + 0.019*\"nutrit\" + 0.013*\"tast\" + 0.008*\"watch\" + 0.002*\"intak\" + 0.000*\"característica\" + 0.000*\"declarado\" + 0.000*\"conclusão\"\n",
            "Topic: 125 \n",
            "Words: 0.000*\"conclusão\" + 0.000*\"criado\" + 0.000*\"antun\" + 0.000*\"candidato\" + 0.000*\"característica\" + 0.000*\"robotsthi\" + 0.000*\"disponibilizar\" + 0.000*\"deputado\" + 0.000*\"lakadsensgmailcom\" + 0.000*\"declarado\"\n",
            "Topic: 126 \n",
            "Words: 0.000*\"conclusão\" + 0.000*\"criado\" + 0.000*\"antun\" + 0.000*\"candidato\" + 0.000*\"característica\" + 0.000*\"robotsthi\" + 0.000*\"disponibilizar\" + 0.000*\"deputado\" + 0.000*\"lakadsensgmailcom\" + 0.000*\"declarado\"\n",
            "Topic: 127 \n",
            "Words: 0.000*\"conclusão\" + 0.000*\"criado\" + 0.000*\"antun\" + 0.000*\"candidato\" + 0.000*\"característica\" + 0.000*\"robotsthi\" + 0.000*\"disponibilizar\" + 0.000*\"deputado\" + 0.000*\"lakadsensgmailcom\" + 0.000*\"declarado\"\n",
            "Topic: 128 \n",
            "Words: 0.000*\"conclusão\" + 0.000*\"criado\" + 0.000*\"antun\" + 0.000*\"candidato\" + 0.000*\"característica\" + 0.000*\"robotsthi\" + 0.000*\"disponibilizar\" + 0.000*\"deputado\" + 0.000*\"lakadsensgmailcom\" + 0.000*\"declarado\"\n",
            "Topic: 129 \n",
            "Words: 0.465*\"access\" + 0.259*\"standard\" + 0.055*\"territori\" + 0.045*\"schema\" + 0.000*\"conclusão\" + 0.000*\"criado\" + 0.000*\"característica\" + 0.000*\"disponibilizar\" + 0.000*\"doaçõ\" + 0.000*\"declarado\"\n",
            "Topic: 130 \n",
            "Words: 0.000*\"conclusão\" + 0.000*\"criado\" + 0.000*\"antun\" + 0.000*\"candidato\" + 0.000*\"característica\" + 0.000*\"robotsthi\" + 0.000*\"disponibilizar\" + 0.000*\"deputado\" + 0.000*\"lakadsensgmailcom\" + 0.000*\"declarado\"\n",
            "Topic: 131 \n",
            "Words: 0.000*\"conclusão\" + 0.000*\"criado\" + 0.000*\"antun\" + 0.000*\"candidato\" + 0.000*\"característica\" + 0.000*\"robotsthi\" + 0.000*\"disponibilizar\" + 0.000*\"deputado\" + 0.000*\"lakadsensgmailcom\" + 0.000*\"declarado\"\n",
            "Topic: 132 \n",
            "Words: 0.000*\"conclusão\" + 0.000*\"criado\" + 0.000*\"antun\" + 0.000*\"candidato\" + 0.000*\"característica\" + 0.000*\"robotsthi\" + 0.000*\"disponibilizar\" + 0.000*\"deputado\" + 0.000*\"lakadsensgmailcom\" + 0.000*\"declarado\"\n",
            "Topic: 133 \n",
            "Words: 0.136*\"percent\" + 0.099*\"screen\" + 0.086*\"have\" + 0.080*\"rel\" + 0.073*\"studi\" + 0.051*\"poverti\" + 0.048*\"local\" + 0.045*\"prevent\" + 0.043*\"kindli\" + 0.033*\"examin\"\n",
            "Topic: 134 \n",
            "Words: 0.000*\"conclusão\" + 0.000*\"criado\" + 0.000*\"antun\" + 0.000*\"candidato\" + 0.000*\"característica\" + 0.000*\"robotsthi\" + 0.000*\"disponibilizar\" + 0.000*\"deputado\" + 0.000*\"lakadsensgmailcom\" + 0.000*\"declarado\"\n",
            "Topic: 135 \n",
            "Words: 0.000*\"conclusão\" + 0.000*\"criado\" + 0.000*\"antun\" + 0.000*\"candidato\" + 0.000*\"característica\" + 0.000*\"robotsthi\" + 0.000*\"disponibilizar\" + 0.000*\"deputado\" + 0.000*\"lakadsensgmailcom\" + 0.000*\"declarado\"\n",
            "Topic: 136 \n",
            "Words: 0.000*\"conclusão\" + 0.000*\"criado\" + 0.000*\"antun\" + 0.000*\"candidato\" + 0.000*\"característica\" + 0.000*\"robotsthi\" + 0.000*\"disponibilizar\" + 0.000*\"deputado\" + 0.000*\"lakadsensgmailcom\" + 0.000*\"declarado\"\n",
            "Topic: 137 \n",
            "Words: 0.711*\"licens\" + 0.026*\"overflow\" + 0.000*\"criado\" + 0.000*\"característica\" + 0.000*\"conclusão\" + 0.000*\"candidato\" + 0.000*\"doaçõ\" + 0.000*\"disponibilizar\" + 0.000*\"agradeço\" + 0.000*\"deputado\"\n",
            "Topic: 138 \n",
            "Words: 0.000*\"conclusão\" + 0.000*\"criado\" + 0.000*\"antun\" + 0.000*\"candidato\" + 0.000*\"característica\" + 0.000*\"robotsthi\" + 0.000*\"disponibilizar\" + 0.000*\"deputado\" + 0.000*\"lakadsensgmailcom\" + 0.000*\"declarado\"\n",
            "Topic: 139 \n",
            "Words: 0.000*\"conclusão\" + 0.000*\"criado\" + 0.000*\"antun\" + 0.000*\"candidato\" + 0.000*\"característica\" + 0.000*\"robotsthi\" + 0.000*\"disponibilizar\" + 0.000*\"deputado\" + 0.000*\"lakadsensgmailcom\" + 0.000*\"declarado\"\n",
            "Topic: 140 \n",
            "Words: 0.000*\"conclusão\" + 0.000*\"criado\" + 0.000*\"antun\" + 0.000*\"candidato\" + 0.000*\"característica\" + 0.000*\"robotsthi\" + 0.000*\"disponibilizar\" + 0.000*\"deputado\" + 0.000*\"lakadsensgmailcom\" + 0.000*\"declarado\"\n",
            "Topic: 141 \n",
            "Words: 0.000*\"conclusão\" + 0.000*\"criado\" + 0.000*\"antun\" + 0.000*\"candidato\" + 0.000*\"característica\" + 0.000*\"robotsthi\" + 0.000*\"disponibilizar\" + 0.000*\"deputado\" + 0.000*\"lakadsensgmailcom\" + 0.000*\"declarado\"\n",
            "Topic: 142 \n",
            "Words: 0.320*\"season\" + 0.157*\"involv\" + 0.126*\"analyt\" + 0.121*\"sport\" + 0.031*\"england\" + 0.029*\"invit\" + 0.022*\"versu\" + 0.000*\"criado\" + 0.000*\"declarado\" + 0.000*\"característica\"\n",
            "Topic: 143 \n",
            "Words: 0.254*\"complet\" + 0.137*\"dictionari\" + 0.130*\"issu\" + 0.114*\"matrix\" + 0.061*\"thousand\" + 0.052*\"latest\" + 0.040*\"nearest\" + 0.026*\"defend\" + 0.022*\"quarter\" + 0.005*\"hypothesi\"\n",
            "Topic: 144 \n",
            "Words: 0.000*\"conclusão\" + 0.000*\"criado\" + 0.000*\"antun\" + 0.000*\"candidato\" + 0.000*\"característica\" + 0.000*\"robotsthi\" + 0.000*\"disponibilizar\" + 0.000*\"deputado\" + 0.000*\"lakadsensgmailcom\" + 0.000*\"declarado\"\n",
            "Topic: 145 \n",
            "Words: 0.179*\"german\" + 0.081*\"seller\" + 0.077*\"brought\" + 0.036*\"crawler\" + 0.029*\"dealer\" + 0.025*\"kilomet\" + 0.019*\"scrapi\" + 0.004*\"everywher\" + 0.004*\"datecr\" + 0.002*\"datecrawl\"\n",
            "Topic: 146 \n",
            "Words: 0.000*\"conclusão\" + 0.000*\"criado\" + 0.000*\"antun\" + 0.000*\"candidato\" + 0.000*\"característica\" + 0.000*\"robotsthi\" + 0.000*\"disponibilizar\" + 0.000*\"deputado\" + 0.000*\"lakadsensgmailcom\" + 0.000*\"declarado\"\n",
            "Topic: 147 \n",
            "Words: 0.000*\"conclusão\" + 0.000*\"criado\" + 0.000*\"antun\" + 0.000*\"candidato\" + 0.000*\"característica\" + 0.000*\"robotsthi\" + 0.000*\"disponibilizar\" + 0.000*\"deputado\" + 0.000*\"lakadsensgmailcom\" + 0.000*\"declarado\"\n",
            "Topic: 148 \n",
            "Words: 0.261*\"cluster\" + 0.200*\"regist\" + 0.063*\"aircraft\" + 0.060*\"throughout\" + 0.057*\"termin\" + 0.056*\"mainli\" + 0.054*\"welcom\" + 0.020*\"altitud\" + 0.015*\"plane\" + 0.010*\"airplan\"\n",
            "Topic: 149 \n",
            "Words: 0.000*\"conclusão\" + 0.000*\"criado\" + 0.000*\"antun\" + 0.000*\"candidato\" + 0.000*\"característica\" + 0.000*\"robotsthi\" + 0.000*\"disponibilizar\" + 0.000*\"deputado\" + 0.000*\"lakadsensgmailcom\" + 0.000*\"declarado\"\n",
            "Topic: 150 \n",
            "Words: 0.349*\"research\" + 0.185*\"start\" + 0.175*\"without\" + 0.139*\"world\" + 0.050*\"match\" + 0.042*\"place\" + 0.010*\"everyth\" + 0.000*\"antun\" + 0.000*\"agradeço\" + 0.000*\"candidato\"\n",
            "Topic: 151 \n",
            "Words: 0.234*\"citi\" + 0.126*\"octob\" + 0.090*\"novemb\" + 0.087*\"safeti\" + 0.074*\"fatal\" + 0.066*\"shoot\" + 0.036*\"attent\" + 0.034*\"extern\" + 0.021*\"audienc\" + 0.000*\"disponibilizar\"\n",
            "Topic: 152 \n",
            "Words: 0.127*\"histor\" + 0.105*\"price\" + 0.096*\"affect\" + 0.077*\"paramet\" + 0.072*\"currenc\" + 0.071*\"exchang\" + 0.069*\"transact\" + 0.059*\"exclud\" + 0.044*\"capit\" + 0.036*\"attach\"\n",
            "Topic: 153 \n",
            "Words: 0.582*\"project\" + 0.201*\"explanatori\" + 0.050*\"convers\" + 0.016*\"enthusiast\" + 0.011*\"kickstart\" + 0.005*\"mileston\" + 0.005*\"success\" + 0.002*\"crowdfund\" + 0.001*\"pledg\" + 0.000*\"declarado\"\n",
            "Topic: 154 \n",
            "Words: 0.000*\"conclusão\" + 0.000*\"criado\" + 0.000*\"antun\" + 0.000*\"candidato\" + 0.000*\"característica\" + 0.000*\"robotsthi\" + 0.000*\"disponibilizar\" + 0.000*\"deputado\" + 0.000*\"lakadsensgmailcom\" + 0.000*\"declarado\"\n",
            "Topic: 155 \n",
            "Words: 0.169*\"consid\" + 0.151*\"experi\" + 0.130*\"percentag\" + 0.086*\"resid\" + 0.066*\"overal\" + 0.041*\"opinion\" + 0.038*\"forward\" + 0.035*\"appreci\" + 0.028*\"flavor\" + 0.014*\"impress\"\n",
            "Topic: 156 \n",
            "Words: 0.293*\"counti\" + 0.253*\"kernel\" + 0.188*\"traffic\" + 0.051*\"emerg\" + 0.008*\"montgomeri\" + 0.001*\"introduct\" + 0.000*\"declarado\" + 0.000*\"conclusão\" + 0.000*\"criado\" + 0.000*\"candidato\"\n",
            "Topic: 157 \n",
            "Words: 0.363*\"period\" + 0.156*\"product\" + 0.116*\"target\" + 0.068*\"month\" + 0.048*\"forecast\" + 0.035*\"tri\" + 0.032*\"weekli\" + 0.023*\"quantiti\" + 0.022*\"suppli\" + 0.012*\"snapshot\"\n",
            "Topic: 158 \n",
            "Words: 0.000*\"conclusão\" + 0.000*\"criado\" + 0.000*\"antun\" + 0.000*\"candidato\" + 0.000*\"característica\" + 0.000*\"robotsthi\" + 0.000*\"disponibilizar\" + 0.000*\"deputado\" + 0.000*\"lakadsensgmailcom\" + 0.000*\"declarado\"\n",
            "Topic: 159 \n",
            "Words: 0.000*\"conclusão\" + 0.000*\"criado\" + 0.000*\"antun\" + 0.000*\"candidato\" + 0.000*\"característica\" + 0.000*\"robotsthi\" + 0.000*\"disponibilizar\" + 0.000*\"deputado\" + 0.000*\"lakadsensgmailcom\" + 0.000*\"declarado\"\n",
            "Topic: 160 \n",
            "Words: 0.261*\"employe\" + 0.189*\"salari\" + 0.159*\"explain\" + 0.018*\"happi\" + 0.000*\"deputado\" + 0.000*\"conclusão\" + 0.000*\"criado\" + 0.000*\"declarado\" + 0.000*\"candidato\" + 0.000*\"disponibilizar\"\n",
            "Topic: 161 \n",
            "Words: 0.000*\"conclusão\" + 0.000*\"criado\" + 0.000*\"antun\" + 0.000*\"candidato\" + 0.000*\"característica\" + 0.000*\"robotsthi\" + 0.000*\"disponibilizar\" + 0.000*\"deputado\" + 0.000*\"lakadsensgmailcom\" + 0.000*\"declarado\"\n",
            "Topic: 162 \n",
            "Words: 0.821*\"concept\" + 0.052*\"metric\" + 0.016*\"kaggler\" + 0.015*\"upvot\" + 0.004*\"rememb\" + 0.003*\"bottom\" + 0.000*\"disponibilizar\" + 0.000*\"deputado\" + 0.000*\"característica\" + 0.000*\"candidato\"\n",
            "Topic: 163 \n",
            "Words: 0.000*\"conclusão\" + 0.000*\"criado\" + 0.000*\"antun\" + 0.000*\"candidato\" + 0.000*\"característica\" + 0.000*\"robotsthi\" + 0.000*\"disponibilizar\" + 0.000*\"deputado\" + 0.000*\"lakadsensgmailcom\" + 0.000*\"declarado\"\n",
            "Topic: 164 \n",
            "Words: 0.000*\"conclusão\" + 0.000*\"criado\" + 0.000*\"antun\" + 0.000*\"candidato\" + 0.000*\"característica\" + 0.000*\"robotsthi\" + 0.000*\"disponibilizar\" + 0.000*\"deputado\" + 0.000*\"lakadsensgmailcom\" + 0.000*\"declarado\"\n",
            "Topic: 165 \n",
            "Words: 0.472*\"between\" + 0.111*\"across\" + 0.064*\"group\" + 0.037*\"track\" + 0.037*\"benefit\" + 0.031*\"washington\" + 0.029*\"francisco\" + 0.026*\"budget\" + 0.022*\"encourag\" + 0.017*\"constitut\"\n",
            "Topic: 166 \n",
            "Words: 0.265*\"market\" + 0.186*\"volum\" + 0.151*\"further\" + 0.065*\"trade\" + 0.065*\"thing\" + 0.051*\"financ\" + 0.042*\"stock\" + 0.020*\"move\" + 0.013*\"switch\" + 0.009*\"reach\"\n",
            "Topic: 167 \n",
            "Words: 0.000*\"conclusão\" + 0.000*\"criado\" + 0.000*\"antun\" + 0.000*\"candidato\" + 0.000*\"característica\" + 0.000*\"robotsthi\" + 0.000*\"disponibilizar\" + 0.000*\"deputado\" + 0.000*\"lakadsensgmailcom\" + 0.000*\"declarado\"\n",
            "Topic: 168 \n",
            "Words: 0.233*\"frequenc\" + 0.199*\"speech\" + 0.144*\"signal\" + 0.061*\"recognit\" + 0.040*\"carnegi\" + 0.037*\"mellon\" + 0.021*\"spectral\" + 0.014*\"voic\" + 0.011*\"xgboost\" + 0.011*\"incorrectli\"\n",
            "Topic: 169 \n",
            "Words: 0.306*\"peopl\" + 0.239*\"person\" + 0.105*\"becaus\" + 0.095*\"busi\" + 0.056*\"divid\" + 0.056*\"suggest\" + 0.019*\"distinct\" + 0.016*\"judg\" + 0.012*\"reason\" + 0.005*\"thing\"\n",
            "Topic: 170 \n",
            "Words: 0.000*\"conclusão\" + 0.000*\"criado\" + 0.000*\"antun\" + 0.000*\"candidato\" + 0.000*\"característica\" + 0.000*\"robotsthi\" + 0.000*\"disponibilizar\" + 0.000*\"deputado\" + 0.000*\"lakadsensgmailcom\" + 0.000*\"declarado\"\n",
            "Topic: 171 \n",
            "Words: 0.312*\"classif\" + 0.242*\"classifi\" + 0.153*\"achiev\" + 0.068*\"artist\" + 0.033*\"slightli\" + 0.020*\"quantifi\" + 0.013*\"lyric\" + 0.010*\"selfexplanatori\" + 0.002*\"inconveni\" + 0.000*\"disponibilizar\"\n",
            "Topic: 172 \n",
            "Words: 0.000*\"conclusão\" + 0.000*\"criado\" + 0.000*\"antun\" + 0.000*\"candidato\" + 0.000*\"característica\" + 0.000*\"robotsthi\" + 0.000*\"disponibilizar\" + 0.000*\"deputado\" + 0.000*\"lakadsensgmailcom\" + 0.000*\"declarado\"\n",
            "Topic: 173 \n",
            "Words: 0.000*\"conclusão\" + 0.000*\"criado\" + 0.000*\"antun\" + 0.000*\"candidato\" + 0.000*\"característica\" + 0.000*\"robotsthi\" + 0.000*\"disponibilizar\" + 0.000*\"deputado\" + 0.000*\"lakadsensgmailcom\" + 0.000*\"declarado\"\n",
            "Topic: 174 \n",
            "Words: 0.000*\"conclusão\" + 0.000*\"criado\" + 0.000*\"antun\" + 0.000*\"candidato\" + 0.000*\"característica\" + 0.000*\"robotsthi\" + 0.000*\"disponibilizar\" + 0.000*\"deputado\" + 0.000*\"lakadsensgmailcom\" + 0.000*\"declarado\"\n",
            "Topic: 175 \n",
            "Words: 0.311*\"record\" + 0.243*\"nation\" + 0.124*\"organ\" + 0.069*\"cover\" + 0.050*\"map\" + 0.048*\"prepar\" + 0.026*\"tutori\" + 0.024*\"elev\" + 0.012*\"introduc\" + 0.010*\"conclus\"\n",
            "Topic: 176 \n",
            "Words: 0.134*\"manag\" + 0.116*\"agenc\" + 0.090*\"incid\" + 0.088*\"occur\" + 0.061*\"except\" + 0.048*\"secur\" + 0.045*\"reserv\" + 0.037*\"offens\" + 0.034*\"crimin\" + 0.031*\"director\"\n",
            "Topic: 177 \n",
            "Words: 0.000*\"conclusão\" + 0.000*\"criado\" + 0.000*\"antun\" + 0.000*\"candidato\" + 0.000*\"característica\" + 0.000*\"robotsthi\" + 0.000*\"disponibilizar\" + 0.000*\"deputado\" + 0.000*\"lakadsensgmailcom\" + 0.000*\"declarado\"\n",
            "Topic: 178 \n",
            "Words: 0.277*\"intern\" + 0.176*\"applic\" + 0.107*\"relev\" + 0.102*\"mine\" + 0.093*\"confer\" + 0.087*\"characterist\" + 0.032*\"open\" + 0.001*\"multiag\" + 0.000*\"conclusão\" + 0.000*\"doaçõ\"\n",
            "Topic: 179 \n",
            "Words: 0.000*\"conclusão\" + 0.000*\"criado\" + 0.000*\"antun\" + 0.000*\"candidato\" + 0.000*\"característica\" + 0.000*\"robotsthi\" + 0.000*\"disponibilizar\" + 0.000*\"deputado\" + 0.000*\"lakadsensgmailcom\" + 0.000*\"declarado\"\n",
            "Topic: 180 \n",
            "Words: 0.192*\"death\" + 0.185*\"failur\" + 0.166*\"surviv\" + 0.000*\"criado\" + 0.000*\"deputado\" + 0.000*\"característica\" + 0.000*\"conclusão\" + 0.000*\"antun\" + 0.000*\"doaçõ\" + 0.000*\"disponibilizar\"\n",
            "Topic: 181 \n",
            "Words: 0.000*\"conclusão\" + 0.000*\"criado\" + 0.000*\"antun\" + 0.000*\"candidato\" + 0.000*\"característica\" + 0.000*\"robotsthi\" + 0.000*\"disponibilizar\" + 0.000*\"deputado\" + 0.000*\"lakadsensgmailcom\" + 0.000*\"declarado\"\n",
            "Topic: 182 \n",
            "Words: 0.438*\"commun\" + 0.329*\"scienc\" + 0.055*\"tabl\" + 0.051*\"publicli\" + 0.019*\"win\" + 0.018*\"sqlite\" + 0.009*\"enrich\" + 0.007*\"entertain\" + 0.003*\"strateg\" + 0.001*\"say\"\n",
            "Topic: 183 \n",
            "Words: 0.169*\"inform\" + 0.100*\"avail\" + 0.100*\"sourc\" + 0.069*\"creat\" + 0.062*\"analysi\" + 0.052*\"detail\" + 0.047*\"pleas\" + 0.043*\"interest\" + 0.036*\"relat\" + 0.031*\"current\"\n",
            "Topic: 184 \n",
            "Words: 0.114*\"oper\" + 0.111*\"contribut\" + 0.102*\"increas\" + 0.097*\"allow\" + 0.087*\"expect\" + 0.083*\"level\" + 0.082*\"residu\" + 0.080*\"approxim\" + 0.072*\"trend\" + 0.023*\"privaci\"\n",
            "Topic: 185 \n",
            "Words: 0.175*\"want\" + 0.093*\"balanc\" + 0.083*\"order\" + 0.067*\"instead\" + 0.063*\"african\" + 0.042*\"recipi\" + 0.040*\"famou\" + 0.033*\"thesi\" + 0.028*\"supplier\" + 0.025*\"alabama\"\n",
            "Topic: 186 \n",
            "Words: 0.373*\"packag\" + 0.200*\"around\" + 0.146*\"resourc\" + 0.144*\"github\" + 0.008*\"expans\" + 0.000*\"candidato\" + 0.000*\"deputado\" + 0.000*\"declarado\" + 0.000*\"característica\" + 0.000*\"criado\"\n",
            "Topic: 187 \n",
            "Words: 0.000*\"conclusão\" + 0.000*\"criado\" + 0.000*\"antun\" + 0.000*\"candidato\" + 0.000*\"característica\" + 0.000*\"robotsthi\" + 0.000*\"disponibilizar\" + 0.000*\"deputado\" + 0.000*\"lakadsensgmailcom\" + 0.000*\"declarado\"\n",
            "Topic: 188 \n",
            "Words: 0.000*\"conclusão\" + 0.000*\"criado\" + 0.000*\"antun\" + 0.000*\"candidato\" + 0.000*\"característica\" + 0.000*\"robotsthi\" + 0.000*\"disponibilizar\" + 0.000*\"deputado\" + 0.000*\"lakadsensgmailcom\" + 0.000*\"declarado\"\n",
            "Topic: 189 \n",
            "Words: 0.237*\"contact\" + 0.223*\"binari\" + 0.093*\"reddit\" + 0.091*\"directli\" + 0.068*\"channel\" + 0.048*\"crawl\" + 0.010*\"stay\" + 0.006*\"friendli\" + 0.003*\"worldnew\" + 0.000*\"declarado\"\n",
            "Topic: 190 \n",
            "Words: 0.094*\"modul\" + 0.068*\"mysteri\" + 0.055*\"neighbourhood\" + 0.054*\"forget\" + 0.015*\"scholarship\" + 0.008*\"be\" + 0.004*\"lastli\" + 0.000*\"conclusão\" + 0.000*\"criado\" + 0.000*\"característica\"\n",
            "Topic: 191 \n",
            "Words: 0.299*\"statu\" + 0.246*\"occup\" + 0.110*\"submit\" + 0.062*\"visit\" + 0.027*\"absenc\" + 0.023*\"underli\" + 0.000*\"deputado\" + 0.000*\"criado\" + 0.000*\"eleito\" + 0.000*\"doaçõ\"\n",
            "Topic: 192 \n",
            "Words: 0.000*\"conclusão\" + 0.000*\"criado\" + 0.000*\"antun\" + 0.000*\"candidato\" + 0.000*\"característica\" + 0.000*\"robotsthi\" + 0.000*\"disponibilizar\" + 0.000*\"deputado\" + 0.000*\"lakadsensgmailcom\" + 0.000*\"declarado\"\n",
            "Topic: 193 \n",
            "Words: 0.000*\"conclusão\" + 0.000*\"criado\" + 0.000*\"antun\" + 0.000*\"candidato\" + 0.000*\"característica\" + 0.000*\"robotsthi\" + 0.000*\"disponibilizar\" + 0.000*\"deputado\" + 0.000*\"lakadsensgmailcom\" + 0.000*\"declarado\"\n",
            "Topic: 194 \n",
            "Words: 0.000*\"conclusão\" + 0.000*\"criado\" + 0.000*\"antun\" + 0.000*\"candidato\" + 0.000*\"característica\" + 0.000*\"robotsthi\" + 0.000*\"disponibilizar\" + 0.000*\"deputado\" + 0.000*\"lakadsensgmailcom\" + 0.000*\"declarado\"\n",
            "Topic: 195 \n",
            "Words: 0.627*\"releas\" + 0.088*\"nearli\" + 0.000*\"característica\" + 0.000*\"conclusão\" + 0.000*\"criado\" + 0.000*\"declarado\" + 0.000*\"antun\" + 0.000*\"doaçõ\" + 0.000*\"disponibilizar\" + 0.000*\"robotsthi\"\n",
            "Topic: 196 \n",
            "Words: 0.000*\"conclusão\" + 0.000*\"criado\" + 0.000*\"antun\" + 0.000*\"candidato\" + 0.000*\"característica\" + 0.000*\"robotsthi\" + 0.000*\"disponibilizar\" + 0.000*\"deputado\" + 0.000*\"lakadsensgmailcom\" + 0.000*\"declarado\"\n",
            "Topic: 197 \n",
            "Words: 0.174*\"header\" + 0.137*\"becom\" + 0.112*\"billion\" + 0.102*\"edit\" + 0.046*\"metropolitan\" + 0.036*\"subreddit\" + 0.028*\"uncompress\" + 0.026*\"explicit\" + 0.023*\"spring\" + 0.016*\"parentid\"\n",
            "Topic: 198 \n",
            "Words: 0.000*\"conclusão\" + 0.000*\"criado\" + 0.000*\"antun\" + 0.000*\"candidato\" + 0.000*\"característica\" + 0.000*\"robotsthi\" + 0.000*\"disponibilizar\" + 0.000*\"deputado\" + 0.000*\"lakadsensgmailcom\" + 0.000*\"declarado\"\n",
            "Topic: 199 \n",
            "Words: 0.358*\"distribut\" + 0.182*\"weight\" + 0.165*\"select\" + 0.058*\"execut\" + 0.047*\"block\" + 0.032*\"serv\" + 0.019*\"longest\" + 0.010*\"adopt\" + 0.005*\"viewer\" + 0.002*\"blockchain\"\n",
            "Topic: 200 \n",
            "Words: 0.000*\"conclusão\" + 0.000*\"criado\" + 0.000*\"antun\" + 0.000*\"candidato\" + 0.000*\"característica\" + 0.000*\"robotsthi\" + 0.000*\"disponibilizar\" + 0.000*\"deputado\" + 0.000*\"lakadsensgmailcom\" + 0.000*\"declarado\"\n",
            "Topic: 201 \n",
            "Words: 0.260*\"origin\" + 0.180*\"extract\" + 0.169*\"version\" + 0.133*\"perform\" + 0.072*\"credit\" + 0.039*\"analys\" + 0.026*\"european\" + 0.018*\"skill\" + 0.015*\"entri\" + 0.012*\"centuri\"\n",
            "Topic: 202 \n",
            "Words: 0.000*\"conclusão\" + 0.000*\"criado\" + 0.000*\"antun\" + 0.000*\"candidato\" + 0.000*\"característica\" + 0.000*\"robotsthi\" + 0.000*\"disponibilizar\" + 0.000*\"deputado\" + 0.000*\"lakadsensgmailcom\" + 0.000*\"declarado\"\n",
            "Topic: 203 \n",
            "Words: 0.450*\"report\" + 0.157*\"center\" + 0.127*\"correl\" + 0.121*\"like\" + 0.008*\"sight\" + 0.003*\"erron\" + 0.000*\"ramintern\" + 0.000*\"disponibilizar\" + 0.000*\"declarado\" + 0.000*\"deputado\"\n",
            "Topic: 204 \n",
            "Words: 0.238*\"translat\" + 0.136*\"protein\" + 0.069*\"myself\" + 0.058*\"interv\" + 0.058*\"breast\" + 0.046*\"confid\" + 0.035*\"molecul\" + 0.030*\"turn\" + 0.019*\"ratio\" + 0.000*\"declarado\"\n",
            "Topic: 205 \n",
            "Words: 0.358*\"depart\" + 0.243*\"compil\" + 0.057*\"freedom\" + 0.045*\"ethnic\" + 0.045*\"victim\" + 0.029*\"found\" + 0.029*\"murder\" + 0.008*\"homicid\" + 0.005*\"perpetr\" + 0.001*\"hargrov\"\n",
            "Topic: 206 \n",
            "Words: 0.292*\"corpu\" + 0.253*\"natur\" + 0.099*\"remov\" + 0.065*\"mean\" + 0.058*\"read\" + 0.041*\"anonym\" + 0.025*\"expand\" + 0.019*\"concaten\" + 0.018*\"ident\" + 0.018*\"exactli\"\n",
            "Topic: 207 \n",
            "Words: 0.000*\"conclusão\" + 0.000*\"criado\" + 0.000*\"antun\" + 0.000*\"candidato\" + 0.000*\"característica\" + 0.000*\"robotsthi\" + 0.000*\"disponibilizar\" + 0.000*\"deputado\" + 0.000*\"lakadsensgmailcom\" + 0.000*\"declarado\"\n",
            "Topic: 208 \n",
            "Words: 0.216*\"excel\" + 0.209*\"medium\" + 0.000*\"antun\" + 0.000*\"candidato\" + 0.000*\"característica\" + 0.000*\"conclusão\" + 0.000*\"robotsthi\" + 0.000*\"deputado\" + 0.000*\"declarado\" + 0.000*\"disgust\"\n",
            "Topic: 209 \n",
            "Words: 0.499*\"amount\" + 0.158*\"dollar\" + 0.063*\"predictor\" + 0.000*\"declarado\" + 0.000*\"característica\" + 0.000*\"conclusão\" + 0.000*\"antun\" + 0.000*\"disponibilizar\" + 0.000*\"deputado\" + 0.000*\"criado\"\n",
            "Topic: 210 \n",
            "Words: 0.195*\"includ\" + 0.085*\"provid\" + 0.082*\"databas\" + 0.079*\"public\" + 0.056*\"result\" + 0.055*\"chang\" + 0.043*\"individu\" + 0.040*\"document\" + 0.037*\"through\" + 0.037*\"import\"\n",
            "Topic: 211 \n",
            "Words: 0.200*\"proport\" + 0.110*\"uniform\" + 0.018*\"upgrad\" + 0.000*\"candidato\" + 0.000*\"conclusão\" + 0.000*\"antun\" + 0.000*\"deputado\" + 0.000*\"característica\" + 0.000*\"robotsthi\" + 0.000*\"declarado\"\n",
            "Topic: 212 \n",
            "Words: 0.168*\"work\" + 0.140*\"anoth\" + 0.137*\"aggreg\" + 0.132*\"appli\" + 0.093*\"techniqu\" + 0.059*\"simpli\" + 0.052*\"extrem\" + 0.031*\"motiv\" + 0.021*\"alongsid\" + 0.000*\"criado\"\n",
            "Topic: 213 \n",
            "Words: 0.000*\"conclusão\" + 0.000*\"criado\" + 0.000*\"antun\" + 0.000*\"candidato\" + 0.000*\"característica\" + 0.000*\"robotsthi\" + 0.000*\"disponibilizar\" + 0.000*\"deputado\" + 0.000*\"lakadsensgmailcom\" + 0.000*\"declarado\"\n",
            "Topic: 214 \n",
            "Words: 0.000*\"conclusão\" + 0.000*\"criado\" + 0.000*\"antun\" + 0.000*\"candidato\" + 0.000*\"característica\" + 0.000*\"robotsthi\" + 0.000*\"disponibilizar\" + 0.000*\"deputado\" + 0.000*\"lakadsensgmailcom\" + 0.000*\"declarado\"\n",
            "Topic: 215 \n",
            "Words: 0.000*\"conclusão\" + 0.000*\"criado\" + 0.000*\"antun\" + 0.000*\"candidato\" + 0.000*\"característica\" + 0.000*\"robotsthi\" + 0.000*\"disponibilizar\" + 0.000*\"deputado\" + 0.000*\"lakadsensgmailcom\" + 0.000*\"declarado\"\n",
            "Topic: 216 \n",
            "Words: 0.000*\"conclusão\" + 0.000*\"criado\" + 0.000*\"antun\" + 0.000*\"candidato\" + 0.000*\"característica\" + 0.000*\"robotsthi\" + 0.000*\"disponibilizar\" + 0.000*\"deputado\" + 0.000*\"lakadsensgmailcom\" + 0.000*\"declarado\"\n",
            "Topic: 217 \n",
            "Words: 0.289*\"effect\" + 0.158*\"option\" + 0.110*\"begin\" + 0.075*\"set\" + 0.047*\"pretti\" + 0.037*\"deni\" + 0.026*\"alter\" + 0.000*\"agradeço\" + 0.000*\"robotsthi\" + 0.000*\"candidato\"\n",
            "Topic: 218 \n",
            "Words: 0.000*\"conclusão\" + 0.000*\"criado\" + 0.000*\"antun\" + 0.000*\"candidato\" + 0.000*\"característica\" + 0.000*\"robotsthi\" + 0.000*\"disponibilizar\" + 0.000*\"deputado\" + 0.000*\"lakadsensgmailcom\" + 0.000*\"declarado\"\n",
            "Topic: 219 \n",
            "Words: 0.000*\"conclusão\" + 0.000*\"criado\" + 0.000*\"antun\" + 0.000*\"candidato\" + 0.000*\"característica\" + 0.000*\"robotsthi\" + 0.000*\"disponibilizar\" + 0.000*\"deputado\" + 0.000*\"lakadsensgmailcom\" + 0.000*\"declarado\"\n",
            "Topic: 220 \n",
            "Words: 0.051*\"miner\" + 0.000*\"conclusão\" + 0.000*\"declarado\" + 0.000*\"candidato\" + 0.000*\"característica\" + 0.000*\"agradeço\" + 0.000*\"criado\" + 0.000*\"deputado\" + 0.000*\"lakadsensgmailcom\" + 0.000*\"disponibilizar\"\n",
            "Topic: 221 \n",
            "Words: 0.000*\"conclusão\" + 0.000*\"criado\" + 0.000*\"antun\" + 0.000*\"candidato\" + 0.000*\"característica\" + 0.000*\"robotsthi\" + 0.000*\"disponibilizar\" + 0.000*\"deputado\" + 0.000*\"lakadsensgmailcom\" + 0.000*\"declarado\"\n",
            "Topic: 222 \n",
            "Words: 0.000*\"conclusão\" + 0.000*\"criado\" + 0.000*\"antun\" + 0.000*\"candidato\" + 0.000*\"característica\" + 0.000*\"robotsthi\" + 0.000*\"disponibilizar\" + 0.000*\"deputado\" + 0.000*\"lakadsensgmailcom\" + 0.000*\"declarado\"\n",
            "Topic: 223 \n",
            "Words: 0.000*\"conclusão\" + 0.000*\"criado\" + 0.000*\"antun\" + 0.000*\"candidato\" + 0.000*\"característica\" + 0.000*\"robotsthi\" + 0.000*\"disponibilizar\" + 0.000*\"deputado\" + 0.000*\"lakadsensgmailcom\" + 0.000*\"declarado\"\n",
            "Topic: 224 \n",
            "Words: 0.000*\"conclusão\" + 0.000*\"criado\" + 0.000*\"antun\" + 0.000*\"candidato\" + 0.000*\"característica\" + 0.000*\"robotsthi\" + 0.000*\"disponibilizar\" + 0.000*\"deputado\" + 0.000*\"lakadsensgmailcom\" + 0.000*\"declarado\"\n",
            "Topic: 225 \n",
            "Words: 0.000*\"conclusão\" + 0.000*\"criado\" + 0.000*\"antun\" + 0.000*\"candidato\" + 0.000*\"característica\" + 0.000*\"robotsthi\" + 0.000*\"disponibilizar\" + 0.000*\"deputado\" + 0.000*\"lakadsensgmailcom\" + 0.000*\"declarado\"\n",
            "Topic: 226 \n",
            "Words: 0.211*\"segment\" + 0.204*\"instruct\" + 0.118*\"someon\" + 0.102*\"action\" + 0.083*\"dialogu\" + 0.033*\"broken\" + 0.026*\"episod\" + 0.017*\"suffici\" + 0.015*\"load\" + 0.014*\"speak\"\n",
            "Topic: 227 \n",
            "Words: 0.416*\"contain\" + 0.166*\"follow\" + 0.109*\"format\" + 0.092*\"exampl\" + 0.047*\"combin\" + 0.045*\"correspond\" + 0.034*\"actual\" + 0.031*\"howev\" + 0.014*\"titl\" + 0.007*\"readm\"\n",
            "Topic: 228 \n",
            "Words: 0.000*\"conclusão\" + 0.000*\"criado\" + 0.000*\"antun\" + 0.000*\"candidato\" + 0.000*\"característica\" + 0.000*\"robotsthi\" + 0.000*\"disponibilizar\" + 0.000*\"deputado\" + 0.000*\"lakadsensgmailcom\" + 0.000*\"declarado\"\n",
            "Topic: 229 \n",
            "Words: 0.000*\"conclusão\" + 0.000*\"criado\" + 0.000*\"antun\" + 0.000*\"candidato\" + 0.000*\"característica\" + 0.000*\"robotsthi\" + 0.000*\"disponibilizar\" + 0.000*\"deputado\" + 0.000*\"lakadsensgmailcom\" + 0.000*\"declarado\"\n",
            "Topic: 230 \n",
            "Words: 0.000*\"conclusão\" + 0.000*\"criado\" + 0.000*\"antun\" + 0.000*\"candidato\" + 0.000*\"característica\" + 0.000*\"robotsthi\" + 0.000*\"disponibilizar\" + 0.000*\"deputado\" + 0.000*\"lakadsensgmailcom\" + 0.000*\"declarado\"\n",
            "Topic: 231 \n",
            "Words: 0.084*\"listen\" + 0.000*\"conclusão\" + 0.000*\"antun\" + 0.000*\"candidato\" + 0.000*\"característica\" + 0.000*\"agradeço\" + 0.000*\"disponibilizar\" + 0.000*\"deputado\" + 0.000*\"lakadsensgmailcom\" + 0.000*\"declarado\"\n",
            "Topic: 232 \n",
            "Words: 0.174*\"regular\" + 0.164*\"decad\" + 0.159*\"cancer\" + 0.020*\"cervic\" + 0.000*\"deputado\" + 0.000*\"característica\" + 0.000*\"conclusão\" + 0.000*\"antun\" + 0.000*\"criado\" + 0.000*\"doaçõ\"\n",
            "Topic: 233 \n",
            "Words: 0.159*\"indian\" + 0.151*\"diseas\" + 0.145*\"medic\" + 0.139*\"patient\" + 0.072*\"larger\" + 0.042*\"diabet\" + 0.010*\"heritag\" + 0.008*\"johann\" + 0.005*\"diagnost\" + 0.004*\"kidney\"\n",
            "Topic: 234 \n",
            "Words: 0.275*\"hous\" + 0.256*\"link\" + 0.000*\"candidato\" + 0.000*\"agradeço\" + 0.000*\"antun\" + 0.000*\"robotsthi\" + 0.000*\"característica\" + 0.000*\"deputado\" + 0.000*\"declarado\" + 0.000*\"disgust\"\n",
            "Topic: 235 \n",
            "Words: 0.720*\"column\" + 0.181*\"second\" + 0.014*\"spectrum\" + 0.002*\"datacsv\" + 0.001*\"ourselv\" + 0.000*\"antun\" + 0.000*\"candidato\" + 0.000*\"característica\" + 0.000*\"agradeço\" + 0.000*\"declarado\"\n",
            "Topic: 236 \n",
            "Words: 0.306*\"identifi\" + 0.180*\"uniqu\" + 0.124*\"rate\" + 0.083*\"anim\" + 0.077*\"member\" + 0.061*\"assign\" + 0.030*\"genr\" + 0.024*\"view\" + 0.013*\"randomli\" + 0.009*\"userid\"\n",
            "Topic: 237 \n",
            "Words: 0.275*\"weather\" + 0.270*\"station\" + 0.199*\"temperatur\" + 0.021*\"celsiu\" + 0.010*\"collat\" + 0.003*\"slice\" + 0.002*\"repackag\" + 0.001*\"technician\" + 0.000*\"conclusão\" + 0.000*\"criado\"\n",
            "Topic: 238 \n",
            "Words: 0.267*\"distanc\" + 0.146*\"scientist\" + 0.088*\"expert\" + 0.051*\"decreas\" + 0.049*\"breakdown\" + 0.037*\"corrupt\" + 0.033*\"outstand\" + 0.023*\"character\" + 0.022*\"fiction\" + 0.017*\"uncov\"\n",
            "Topic: 239 \n",
            "Words: 0.363*\"receiv\" + 0.123*\"violat\" + 0.111*\"privat\" + 0.047*\"ensur\" + 0.036*\"oppon\" + 0.023*\"secretari\" + 0.019*\"heavili\" + 0.018*\"biggest\" + 0.013*\"monday\" + 0.009*\"controversi\"\n",
            "Topic: 240 \n",
            "Words: 0.404*\"publish\" + 0.214*\"articl\" + 0.159*\"onlin\" + 0.037*\"evolut\" + 0.029*\"headlin\" + 0.018*\"rang\" + 0.007*\"advic\" + 0.004*\"expertis\" + 0.003*\"leskovec\" + 0.003*\"databasesqlit\"\n",
            "Topic: 241 \n",
            "Words: 0.479*\"typic\" + 0.035*\"proprietari\" + 0.011*\"familiar\" + 0.000*\"candidato\" + 0.000*\"característica\" + 0.000*\"agradeço\" + 0.000*\"antun\" + 0.000*\"criado\" + 0.000*\"conclusão\" + 0.000*\"declarado\"\n",
            "Topic: 242 \n",
            "Words: 0.537*\"countri\" + 0.116*\"econom\" + 0.075*\"polici\" + 0.070*\"famili\" + 0.029*\"capita\" + 0.017*\"social\" + 0.016*\"policymak\" + 0.011*\"extent\" + 0.007*\"contrast\" + 0.004*\"wellb\"\n",
            "Topic: 243 \n",
            "Words: 0.327*\"health\" + 0.172*\"condit\" + 0.093*\"physic\" + 0.049*\"interview\" + 0.030*\"primarili\" + 0.029*\"ill\" + 0.027*\"mental\" + 0.023*\"substanc\" + 0.022*\"treatment\" + 0.022*\"disord\"\n",
            "Topic: 244 \n",
            "Words: 0.000*\"conclusão\" + 0.000*\"criado\" + 0.000*\"antun\" + 0.000*\"candidato\" + 0.000*\"característica\" + 0.000*\"robotsthi\" + 0.000*\"disponibilizar\" + 0.000*\"deputado\" + 0.000*\"lakadsensgmailcom\" + 0.000*\"declarado\"\n",
            "Topic: 245 \n",
            "Words: 0.258*\"kaggl\" + 0.208*\"colleg\" + 0.178*\"script\" + 0.131*\"cours\" + 0.036*\"host\" + 0.022*\"compress\" + 0.021*\"basic\" + 0.015*\"oblig\" + 0.009*\"scorecard\" + 0.006*\"understood\"\n",
            "Topic: 246 \n",
            "Words: 0.000*\"conclusão\" + 0.000*\"criado\" + 0.000*\"antun\" + 0.000*\"candidato\" + 0.000*\"característica\" + 0.000*\"robotsthi\" + 0.000*\"disponibilizar\" + 0.000*\"deputado\" + 0.000*\"lakadsensgmailcom\" + 0.000*\"declarado\"\n",
            "Topic: 247 \n",
            "Words: 0.682*\"internet\" + 0.044*\"stori\" + 0.033*\"fivethirtyeight\" + 0.029*\"occasion\" + 0.027*\"pickup\" + 0.007*\"limousin\" + 0.005*\"finegrain\" + 0.004*\"locationid\" + 0.000*\"candidato\" + 0.000*\"antun\"\n",
            "Topic: 248 \n",
            "Words: 0.139*\"sound\" + 0.020*\"unlabel\" + 0.000*\"antun\" + 0.000*\"candidato\" + 0.000*\"característica\" + 0.000*\"conclusão\" + 0.000*\"agradeço\" + 0.000*\"disponibilizar\" + 0.000*\"deputado\" + 0.000*\"lakadsensgmailcom\"\n",
            "Topic: 249 \n",
            "Words: 0.000*\"conclusão\" + 0.000*\"criado\" + 0.000*\"antun\" + 0.000*\"candidato\" + 0.000*\"característica\" + 0.000*\"robotsthi\" + 0.000*\"disponibilizar\" + 0.000*\"deputado\" + 0.000*\"lakadsensgmailcom\" + 0.000*\"declarado\"\n",
            "Topic: 250 \n",
            "Words: 0.481*\"posit\" + 0.097*\"profil\" + 0.042*\"pressur\" + 0.032*\"africa\" + 0.031*\"liter\" + 0.029*\"homepag\" + 0.021*\"pick\" + 0.019*\"playground\" + 0.018*\"reli\" + 0.015*\"career\"\n",
            "Topic: 251 \n",
            "Words: 0.000*\"conclusão\" + 0.000*\"criado\" + 0.000*\"antun\" + 0.000*\"candidato\" + 0.000*\"característica\" + 0.000*\"robotsthi\" + 0.000*\"disponibilizar\" + 0.000*\"deputado\" + 0.000*\"lakadsensgmailcom\" + 0.000*\"declarado\"\n",
            "Topic: 252 \n",
            "Words: 0.500*\"predict\" + 0.147*\"competit\" + 0.095*\"histori\" + 0.072*\"outcom\" + 0.039*\"strategi\" + 0.027*\"master\" + 0.024*\"winner\" + 0.003*\"munich\" + 0.001*\"headtohead\" + 0.000*\"antun\"\n",
            "Topic: 253 \n",
            "Words: 0.277*\"revenu\" + 0.185*\"actor\" + 0.022*\"runtim\" + 0.000*\"conclusão\" + 0.000*\"declarado\" + 0.000*\"candidato\" + 0.000*\"característica\" + 0.000*\"agradeço\" + 0.000*\"doaçõ\" + 0.000*\"disponibilizar\"\n",
            "Topic: 254 \n",
            "Words: 0.000*\"conclusão\" + 0.000*\"criado\" + 0.000*\"antun\" + 0.000*\"candidato\" + 0.000*\"característica\" + 0.000*\"robotsthi\" + 0.000*\"disponibilizar\" + 0.000*\"deputado\" + 0.000*\"lakadsensgmailcom\" + 0.000*\"declarado\"\n",
            "Topic: 255 \n",
            "Words: 0.000*\"conclusão\" + 0.000*\"criado\" + 0.000*\"antun\" + 0.000*\"candidato\" + 0.000*\"característica\" + 0.000*\"robotsthi\" + 0.000*\"disponibilizar\" + 0.000*\"deputado\" + 0.000*\"lakadsensgmailcom\" + 0.000*\"declarado\"\n",
            "Topic: 256 \n",
            "Words: 0.167*\"problem\" + 0.151*\"domain\" + 0.129*\"initi\" + 0.099*\"knowledg\" + 0.082*\"control\" + 0.071*\"approach\" + 0.050*\"implement\" + 0.038*\"foundat\" + 0.038*\"simul\" + 0.019*\"explan\"\n",
            "Topic: 257 \n",
            "Words: 0.000*\"conclusão\" + 0.000*\"criado\" + 0.000*\"antun\" + 0.000*\"candidato\" + 0.000*\"característica\" + 0.000*\"robotsthi\" + 0.000*\"disponibilizar\" + 0.000*\"deputado\" + 0.000*\"lakadsensgmailcom\" + 0.000*\"declarado\"\n",
            "Topic: 258 \n",
            "Words: 0.000*\"conclusão\" + 0.000*\"criado\" + 0.000*\"antun\" + 0.000*\"candidato\" + 0.000*\"característica\" + 0.000*\"robotsthi\" + 0.000*\"disponibilizar\" + 0.000*\"deputado\" + 0.000*\"lakadsensgmailcom\" + 0.000*\"declarado\"\n",
            "Topic: 259 \n",
            "Words: 0.263*\"servic\" + 0.128*\"librari\" + 0.108*\"sentiment\" + 0.104*\"tweet\" + 0.082*\"neg\" + 0.076*\"twitter\" + 0.039*\"contributor\" + 0.028*\"everyon\" + 0.023*\"neutral\" + 0.022*\"airlin\"\n",
            "Topic: 260 \n",
            "Words: 0.598*\"numer\" + 0.056*\"ingredi\" + 0.021*\"android\" + 0.010*\"imageurl\" + 0.009*\"barcod\" + 0.003*\"allergen\" + 0.002*\"tidbit\" + 0.000*\"doaçõ\" + 0.000*\"deputado\" + 0.000*\"criado\"\n",
            "Topic: 261 \n",
            "Words: 0.000*\"conclusão\" + 0.000*\"criado\" + 0.000*\"antun\" + 0.000*\"candidato\" + 0.000*\"característica\" + 0.000*\"robotsthi\" + 0.000*\"disponibilizar\" + 0.000*\"deputado\" + 0.000*\"lakadsensgmailcom\" + 0.000*\"declarado\"\n",
            "Topic: 262 \n",
            "Words: 0.000*\"conclusão\" + 0.000*\"criado\" + 0.000*\"antun\" + 0.000*\"candidato\" + 0.000*\"característica\" + 0.000*\"robotsthi\" + 0.000*\"disponibilizar\" + 0.000*\"deputado\" + 0.000*\"lakadsensgmailcom\" + 0.000*\"declarado\"\n",
            "Topic: 263 \n",
            "Words: 0.469*\"opportun\" + 0.085*\"anyon\" + 0.072*\"offer\" + 0.071*\"though\" + 0.065*\"duplic\" + 0.020*\"theoret\" + 0.011*\"journey\" + 0.010*\"valley\" + 0.000*\"criado\" + 0.000*\"declarado\"\n",
            "Topic: 264 \n",
            "Words: 0.000*\"conclusão\" + 0.000*\"criado\" + 0.000*\"antun\" + 0.000*\"candidato\" + 0.000*\"característica\" + 0.000*\"robotsthi\" + 0.000*\"disponibilizar\" + 0.000*\"deputado\" + 0.000*\"lakadsensgmailcom\" + 0.000*\"declarado\"\n",
            "Topic: 265 \n",
            "Words: 0.113*\"nonprofit\" + 0.031*\"trace\" + 0.026*\"reus\" + 0.021*\"checkout\" + 0.000*\"característica\" + 0.000*\"antun\" + 0.000*\"candidato\" + 0.000*\"agradeço\" + 0.000*\"conclusão\" + 0.000*\"deputado\"\n",
            "Topic: 266 \n",
            "Words: 0.000*\"conclusão\" + 0.000*\"criado\" + 0.000*\"antun\" + 0.000*\"candidato\" + 0.000*\"característica\" + 0.000*\"robotsthi\" + 0.000*\"disponibilizar\" + 0.000*\"deputado\" + 0.000*\"lakadsensgmailcom\" + 0.000*\"declarado\"\n",
            "Topic: 267 \n",
            "Words: 0.000*\"conclusão\" + 0.000*\"criado\" + 0.000*\"antun\" + 0.000*\"candidato\" + 0.000*\"característica\" + 0.000*\"robotsthi\" + 0.000*\"disponibilizar\" + 0.000*\"deputado\" + 0.000*\"lakadsensgmailcom\" + 0.000*\"declarado\"\n",
            "Topic: 268 \n",
            "Words: 0.204*\"remain\" + 0.154*\"height\" + 0.133*\"intend\" + 0.103*\"charg\" + 0.061*\"copi\" + 0.040*\"deal\" + 0.000*\"deputado\" + 0.000*\"disponibilizar\" + 0.000*\"doaçõ\" + 0.000*\"eleiçõ\"\n",
            "Topic: 269 \n",
            "Words: 0.276*\"websit\" + 0.193*\"common\" + 0.135*\"associ\" + 0.108*\"offici\" + 0.098*\"popular\" + 0.050*\"creativ\" + 0.046*\"mostli\" + 0.002*\"theme\" + 0.001*\"immens\" + 0.000*\"declarado\"\n",
            "Topic: 270 \n",
            "Words: 0.258*\"accuraci\" + 0.113*\"highli\" + 0.106*\"transform\" + 0.081*\"otherwis\" + 0.071*\"unfortun\" + 0.064*\"andrea\" + 0.040*\"princip\" + 0.014*\"confidenti\" + 0.012*\"unbalanc\" + 0.011*\"meaning\"\n",
            "Topic: 271 \n",
            "Words: 0.000*\"conclusão\" + 0.000*\"criado\" + 0.000*\"antun\" + 0.000*\"candidato\" + 0.000*\"característica\" + 0.000*\"robotsthi\" + 0.000*\"disponibilizar\" + 0.000*\"deputado\" + 0.000*\"lakadsensgmailcom\" + 0.000*\"declarado\"\n",
            "Topic: 272 \n",
            "Words: 0.000*\"conclusão\" + 0.000*\"criado\" + 0.000*\"antun\" + 0.000*\"candidato\" + 0.000*\"característica\" + 0.000*\"robotsthi\" + 0.000*\"disponibilizar\" + 0.000*\"deputado\" + 0.000*\"lakadsensgmailcom\" + 0.000*\"declarado\"\n",
            "Topic: 273 \n",
            "Words: 0.000*\"conclusão\" + 0.000*\"criado\" + 0.000*\"antun\" + 0.000*\"candidato\" + 0.000*\"característica\" + 0.000*\"robotsthi\" + 0.000*\"disponibilizar\" + 0.000*\"deputado\" + 0.000*\"lakadsensgmailcom\" + 0.000*\"declarado\"\n",
            "Topic: 274 \n",
            "Words: 0.617*\"download\" + 0.096*\"mortal\" + 0.073*\"median\" + 0.000*\"agradeço\" + 0.000*\"antun\" + 0.000*\"candidato\" + 0.000*\"robotsthi\" + 0.000*\"característica\" + 0.000*\"declarado\" + 0.000*\"criado\"\n",
            "Topic: 275 \n",
            "Words: 0.000*\"conclusão\" + 0.000*\"criado\" + 0.000*\"antun\" + 0.000*\"candidato\" + 0.000*\"característica\" + 0.000*\"robotsthi\" + 0.000*\"disponibilizar\" + 0.000*\"deputado\" + 0.000*\"lakadsensgmailcom\" + 0.000*\"declarado\"\n",
            "Topic: 276 \n",
            "Words: 0.000*\"conclusão\" + 0.000*\"criado\" + 0.000*\"antun\" + 0.000*\"candidato\" + 0.000*\"característica\" + 0.000*\"robotsthi\" + 0.000*\"disponibilizar\" + 0.000*\"deputado\" + 0.000*\"lakadsensgmailcom\" + 0.000*\"declarado\"\n",
            "Topic: 277 \n",
            "Words: 0.351*\"googl\" + 0.208*\"folder\" + 0.058*\"ticker\" + 0.000*\"conclusão\" + 0.000*\"declarado\" + 0.000*\"característica\" + 0.000*\"antun\" + 0.000*\"doaçõ\" + 0.000*\"disponibilizar\" + 0.000*\"criado\"\n",
            "Topic: 278 \n",
            "Words: 0.000*\"conclusão\" + 0.000*\"criado\" + 0.000*\"antun\" + 0.000*\"candidato\" + 0.000*\"característica\" + 0.000*\"robotsthi\" + 0.000*\"disponibilizar\" + 0.000*\"deputado\" + 0.000*\"lakadsensgmailcom\" + 0.000*\"declarado\"\n",
            "Topic: 279 \n",
            "Words: 0.226*\"technolog\" + 0.170*\"monitor\" + 0.170*\"devic\" + 0.084*\"electr\" + 0.081*\"nomin\" + 0.058*\"academ\" + 0.011*\"classroom\" + 0.009*\"associ\" + 0.006*\"analyz\" + 0.003*\"synchron\"\n",
            "Topic: 280 \n",
            "Words: 0.209*\"campaign\" + 0.116*\"store\" + 0.059*\"themselv\" + 0.055*\"partial\" + 0.052*\"intens\" + 0.051*\"imagin\" + 0.045*\"confirm\" + 0.035*\"mission\" + 0.032*\"planet\" + 0.026*\"orbit\"\n",
            "Topic: 281 \n",
            "Words: 0.229*\"averag\" + 0.097*\"global\" + 0.092*\"impact\" + 0.069*\"airport\" + 0.067*\"construct\" + 0.052*\"minimum\" + 0.050*\"climat\" + 0.048*\"maximum\" + 0.039*\"electron\" + 0.035*\"variat\"\n",
            "Topic: 282 \n",
            "Words: 0.310*\"state\" + 0.279*\"popul\" + 0.225*\"unit\" + 0.031*\"consult\" + 0.016*\"calendar\" + 0.014*\"geographi\" + 0.002*\"wit\" + 0.000*\"característica\" + 0.000*\"candidato\" + 0.000*\"declarado\"\n",
            "Topic: 283 \n",
            "Words: 0.189*\"educ\" + 0.164*\"student\" + 0.104*\"higher\" + 0.055*\"consumpt\" + 0.055*\"portugues\" + 0.051*\"alcohol\" + 0.051*\"cortez\" + 0.040*\"school\" + 0.038*\"mother\" + 0.021*\"secondari\"\n",
            "Topic: 284 \n",
            "Words: 0.405*\"network\" + 0.108*\"neural\" + 0.096*\"sector\" + 0.088*\"alreadi\" + 0.058*\"linear\" + 0.042*\"autom\" + 0.041*\"technic\" + 0.017*\"secur\" + 0.006*\"approx\" + 0.006*\"fetch\"\n",
            "Topic: 285 \n",
            "Words: 0.727*\"number\" + 0.125*\"whether\" + 0.049*\"accid\" + 0.016*\"promot\" + 0.009*\"leav\" + 0.008*\"experienc\" + 0.008*\"satisfact\" + 0.000*\"prematur\" + 0.000*\"eleiçõ\" + 0.000*\"deputado\"\n",
            "Topic: 286 \n",
            "Words: 0.261*\"entir\" + 0.159*\"upload\" + 0.071*\"difficult\" + 0.069*\"previous\" + 0.057*\"especi\" + 0.055*\"easier\" + 0.033*\"enabl\" + 0.032*\"abil\" + 0.026*\"battl\" + 0.026*\"purchas\"\n",
            "Topic: 287 \n",
            "Words: 0.172*\"relationship\" + 0.135*\"incom\" + 0.119*\"insight\" + 0.112*\"financi\" + 0.096*\"return\" + 0.059*\"show\" + 0.056*\"invest\" + 0.037*\"transpar\" + 0.023*\"exploratori\" + 0.013*\"specul\"\n",
            "Topic: 288 \n",
            "Words: 0.000*\"conclusão\" + 0.000*\"criado\" + 0.000*\"antun\" + 0.000*\"candidato\" + 0.000*\"característica\" + 0.000*\"robotsthi\" + 0.000*\"disponibilizar\" + 0.000*\"deputado\" + 0.000*\"lakadsensgmailcom\" + 0.000*\"declarado\"\n",
            "Topic: 289 \n",
            "Words: 0.238*\"program\" + 0.236*\"survey\" + 0.157*\"respons\" + 0.092*\"demograph\" + 0.086*\"conduct\" + 0.038*\"respond\" + 0.016*\"properli\" + 0.011*\"stackoverflow\" + 0.007*\"similarli\" + 0.002*\"apolog\"\n",
            "Topic: 290 \n",
            "Words: 0.000*\"conclusão\" + 0.000*\"criado\" + 0.000*\"antun\" + 0.000*\"candidato\" + 0.000*\"característica\" + 0.000*\"robotsthi\" + 0.000*\"disponibilizar\" + 0.000*\"deputado\" + 0.000*\"lakadsensgmailcom\" + 0.000*\"declarado\"\n",
            "Topic: 291 \n",
            "Words: 0.361*\"refer\" + 0.162*\"previou\" + 0.114*\"messag\" + 0.113*\"tag\" + 0.060*\"compos\" + 0.002*\"legitim\" + 0.000*\"declarado\" + 0.000*\"conclusão\" + 0.000*\"criado\" + 0.000*\"disponibilizar\"\n",
            "Topic: 292 \n",
            "Words: 0.305*\"custom\" + 0.083*\"contest\" + 0.070*\"subsequ\" + 0.056*\"customerid\" + 0.040*\"earlier\" + 0.037*\"tempor\" + 0.034*\"sequenti\" + 0.031*\"ignor\" + 0.028*\"keep\" + 0.025*\"movieid\"\n",
            "Topic: 293 \n",
            "Words: 0.248*\"python\" + 0.247*\"explor\" + 0.167*\"industri\" + 0.112*\"retriev\" + 0.046*\"panda\" + 0.013*\"beginn\" + 0.011*\"game\" + 0.005*\"consol\" + 0.004*\"sophist\" + 0.000*\"disponibilizar\"\n",
            "Topic: 294 \n",
            "Words: 0.171*\"reliabl\" + 0.127*\"believ\" + 0.093*\"stream\" + 0.076*\"inspect\" + 0.040*\"unless\" + 0.020*\"irrespect\" + 0.018*\"noth\" + 0.016*\"bracket\" + 0.015*\"scrapper\" + 0.002*\"countrycsv\"\n",
            "Topic: 295 \n",
            "Words: 0.000*\"conclusão\" + 0.000*\"criado\" + 0.000*\"antun\" + 0.000*\"candidato\" + 0.000*\"característica\" + 0.000*\"robotsthi\" + 0.000*\"disponibilizar\" + 0.000*\"deputado\" + 0.000*\"lakadsensgmailcom\" + 0.000*\"declarado\"\n",
            "Topic: 296 \n",
            "Words: 0.000*\"conclusão\" + 0.000*\"criado\" + 0.000*\"antun\" + 0.000*\"candidato\" + 0.000*\"característica\" + 0.000*\"robotsthi\" + 0.000*\"disponibilizar\" + 0.000*\"deputado\" + 0.000*\"lakadsensgmailcom\" + 0.000*\"declarado\"\n",
            "Topic: 297 \n",
            "Words: 0.244*\"function\" + 0.138*\"encod\" + 0.123*\"express\" + 0.058*\"perhap\" + 0.047*\"biolog\" + 0.038*\"yield\" + 0.032*\"transcrib\" + 0.027*\"mutat\" + 0.023*\"biomed\" + 0.021*\"reaction\"\n",
            "Topic: 298 \n",
            "Words: 0.364*\"school\" + 0.086*\"children\" + 0.064*\"major\" + 0.062*\"earn\" + 0.047*\"graduat\" + 0.027*\"bachelor\" + 0.024*\"dispar\" + 0.020*\"disagre\" + 0.019*\"religion\" + 0.018*\"danger\"\n",
            "Topic: 299 \n",
            "Words: 0.241*\"replac\" + 0.000*\"conclusão\" + 0.000*\"criado\" + 0.000*\"candidato\" + 0.000*\"característica\" + 0.000*\"agradeço\" + 0.000*\"disponibilizar\" + 0.000*\"deputado\" + 0.000*\"lakadsensgmailcom\" + 0.000*\"declarado\"\n",
            "Topic: 300 \n",
            "Words: 0.000*\"conclusão\" + 0.000*\"criado\" + 0.000*\"antun\" + 0.000*\"candidato\" + 0.000*\"característica\" + 0.000*\"robotsthi\" + 0.000*\"disponibilizar\" + 0.000*\"deputado\" + 0.000*\"lakadsensgmailcom\" + 0.000*\"declarado\"\n",
            "Topic: 301 \n",
            "Words: 0.000*\"conclusão\" + 0.000*\"criado\" + 0.000*\"antun\" + 0.000*\"candidato\" + 0.000*\"característica\" + 0.000*\"robotsthi\" + 0.000*\"disponibilizar\" + 0.000*\"deputado\" + 0.000*\"lakadsensgmailcom\" + 0.000*\"declarado\"\n",
            "Topic: 302 \n",
            "Words: 0.151*\"process\" + 0.116*\"within\" + 0.089*\"better\" + 0.086*\"singl\" + 0.081*\"understand\" + 0.077*\"pattern\" + 0.070*\"connect\" + 0.045*\"wonder\" + 0.029*\"complex\" + 0.027*\"movement\"\n",
            "Topic: 303 \n",
            "Words: 0.000*\"conclusão\" + 0.000*\"criado\" + 0.000*\"antun\" + 0.000*\"candidato\" + 0.000*\"característica\" + 0.000*\"robotsthi\" + 0.000*\"disponibilizar\" + 0.000*\"deputado\" + 0.000*\"lakadsensgmailcom\" + 0.000*\"declarado\"\n",
            "Topic: 304 \n",
            "Words: 0.155*\"directori\" + 0.138*\"insur\" + 0.123*\"agreement\" + 0.113*\"join\" + 0.037*\"medicar\" + 0.029*\"dental\" + 0.026*\"medicaid\" + 0.012*\"marketplac\" + 0.000*\"disgust\" + 0.000*\"engenheiro\"\n",
            "Topic: 305 \n",
            "Words: 0.174*\"build\" + 0.106*\"definit\" + 0.064*\"neighborhood\" + 0.058*\"altern\" + 0.056*\"squar\" + 0.053*\"boundari\" + 0.048*\"evid\" + 0.034*\"estat\" + 0.029*\"push\" + 0.029*\"cooper\"\n",
            "Topic: 306 \n",
            "Words: 0.000*\"conclusão\" + 0.000*\"criado\" + 0.000*\"antun\" + 0.000*\"candidato\" + 0.000*\"característica\" + 0.000*\"robotsthi\" + 0.000*\"disponibilizar\" + 0.000*\"deputado\" + 0.000*\"lakadsensgmailcom\" + 0.000*\"declarado\"\n",
            "Topic: 307 \n",
            "Words: 0.000*\"conclusão\" + 0.000*\"criado\" + 0.000*\"antun\" + 0.000*\"candidato\" + 0.000*\"característica\" + 0.000*\"robotsthi\" + 0.000*\"disponibilizar\" + 0.000*\"deputado\" + 0.000*\"lakadsensgmailcom\" + 0.000*\"declarado\"\n",
            "Topic: 308 \n",
            "Words: 0.347*\"element\" + 0.078*\"direct\" + 0.068*\"practic\" + 0.060*\"expenditur\" + 0.059*\"assess\" + 0.049*\"central\" + 0.036*\"assum\" + 0.025*\"focus\" + 0.024*\"total\" + 0.022*\"critic\"\n",
            "Topic: 309 \n",
            "Words: 0.000*\"conclusão\" + 0.000*\"criado\" + 0.000*\"antun\" + 0.000*\"candidato\" + 0.000*\"característica\" + 0.000*\"robotsthi\" + 0.000*\"disponibilizar\" + 0.000*\"deputado\" + 0.000*\"lakadsensgmailcom\" + 0.000*\"declarado\"\n",
            "Topic: 310 \n",
            "Words: 0.000*\"conclusão\" + 0.000*\"criado\" + 0.000*\"antun\" + 0.000*\"candidato\" + 0.000*\"característica\" + 0.000*\"robotsthi\" + 0.000*\"disponibilizar\" + 0.000*\"deputado\" + 0.000*\"lakadsensgmailcom\" + 0.000*\"declarado\"\n",
            "Topic: 311 \n",
            "Words: 0.229*\"attempt\" + 0.225*\"convert\" + 0.090*\"cricket\" + 0.027*\"decod\" + 0.019*\"batsman\" + 0.018*\"openend\" + 0.013*\"httpcricsheetorg\" + 0.013*\"usabl\" + 0.009*\"flag\" + 0.007*\"umpir\"\n",
            "Topic: 312 \n",
            "Words: 0.427*\"descript\" + 0.198*\"describ\" + 0.145*\"insid\" + 0.080*\"address\" + 0.028*\"specifi\" + 0.025*\"sometim\" + 0.018*\"provinc\" + 0.011*\"grow\" + 0.005*\"bottl\" + 0.003*\"accomplish\"\n",
            "Topic: 313 \n",
            "Words: 0.276*\"august\" + 0.144*\"februari\" + 0.000*\"conclusão\" + 0.000*\"antun\" + 0.000*\"candidato\" + 0.000*\"característica\" + 0.000*\"agradeço\" + 0.000*\"disponibilizar\" + 0.000*\"deputado\" + 0.000*\"criado\"\n",
            "Topic: 314 \n",
            "Words: 0.000*\"conclusão\" + 0.000*\"criado\" + 0.000*\"antun\" + 0.000*\"candidato\" + 0.000*\"característica\" + 0.000*\"robotsthi\" + 0.000*\"disponibilizar\" + 0.000*\"deputado\" + 0.000*\"lakadsensgmailcom\" + 0.000*\"declarado\"\n",
            "Topic: 315 \n",
            "Words: 0.734*\"collect\" + 0.106*\"rank\" + 0.036*\"compris\" + 0.028*\"frequent\" + 0.006*\"supplementari\" + 0.002*\"bayesian\" + 0.000*\"conclusão\" + 0.000*\"candidato\" + 0.000*\"doaçõ\" + 0.000*\"disponibilizar\"\n",
            "Topic: 316 \n",
            "Words: 0.000*\"conclusão\" + 0.000*\"criado\" + 0.000*\"antun\" + 0.000*\"candidato\" + 0.000*\"característica\" + 0.000*\"robotsthi\" + 0.000*\"disponibilizar\" + 0.000*\"deputado\" + 0.000*\"lakadsensgmailcom\" + 0.000*\"declarado\"\n",
            "Topic: 317 \n",
            "Words: 0.323*\"specif\" + 0.207*\"observ\" + 0.090*\"gather\" + 0.087*\"decid\" + 0.056*\"dioxid\" + 0.032*\"pollut\" + 0.029*\"arrang\" + 0.015*\"carbon\" + 0.008*\"nitrogen\" + 0.004*\"monoxid\"\n",
            "Topic: 318 \n",
            "Words: 0.000*\"conclusão\" + 0.000*\"criado\" + 0.000*\"antun\" + 0.000*\"candidato\" + 0.000*\"característica\" + 0.000*\"robotsthi\" + 0.000*\"disponibilizar\" + 0.000*\"deputado\" + 0.000*\"lakadsensgmailcom\" + 0.000*\"declarado\"\n",
            "Topic: 319 \n",
            "Words: 0.269*\"possess\" + 0.117*\"togeth\" + 0.096*\"call\" + 0.063*\"probabl\" + 0.054*\"advanc\" + 0.046*\"bet\" + 0.036*\"thorough\" + 0.032*\"tournament\" + 0.021*\"champion\" + 0.016*\"obvious\"\n",
            "Topic: 320 \n",
            "Words: 0.304*\"train\" + 0.093*\"section\" + 0.081*\"architectur\" + 0.069*\"spanish\" + 0.039*\"preprocess\" + 0.038*\"arab\" + 0.033*\"improv\" + 0.028*\"french\" + 0.028*\"beauti\" + 0.027*\"parent\"\n",
            "Topic: 321 \n",
            "Words: 0.000*\"conclusão\" + 0.000*\"criado\" + 0.000*\"antun\" + 0.000*\"candidato\" + 0.000*\"característica\" + 0.000*\"robotsthi\" + 0.000*\"disponibilizar\" + 0.000*\"deputado\" + 0.000*\"lakadsensgmailcom\" + 0.000*\"declarado\"\n",
            "Topic: 322 \n",
            "Words: 0.000*\"conclusão\" + 0.000*\"criado\" + 0.000*\"antun\" + 0.000*\"candidato\" + 0.000*\"característica\" + 0.000*\"robotsthi\" + 0.000*\"disponibilizar\" + 0.000*\"deputado\" + 0.000*\"lakadsensgmailcom\" + 0.000*\"declarado\"\n",
            "Topic: 323 \n",
            "Words: 0.000*\"conclusão\" + 0.000*\"criado\" + 0.000*\"antun\" + 0.000*\"candidato\" + 0.000*\"característica\" + 0.000*\"robotsthi\" + 0.000*\"disponibilizar\" + 0.000*\"deputado\" + 0.000*\"lakadsensgmailcom\" + 0.000*\"declarado\"\n",
            "Topic: 324 \n",
            "Words: 0.226*\"offic\" + 0.189*\"make\" + 0.093*\"happen\" + 0.056*\"suitabl\" + 0.040*\"doubl\" + 0.031*\"disclosur\" + 0.030*\"regularli\" + 0.029*\"excit\" + 0.028*\"immedi\" + 0.026*\"hardwar\"\n",
            "Topic: 325 \n",
            "Words: 0.000*\"conclusão\" + 0.000*\"criado\" + 0.000*\"antun\" + 0.000*\"candidato\" + 0.000*\"característica\" + 0.000*\"robotsthi\" + 0.000*\"disponibilizar\" + 0.000*\"deputado\" + 0.000*\"lakadsensgmailcom\" + 0.000*\"declarado\"\n",
            "Topic: 326 \n",
            "Words: 0.000*\"conclusão\" + 0.000*\"criado\" + 0.000*\"antun\" + 0.000*\"candidato\" + 0.000*\"característica\" + 0.000*\"robotsthi\" + 0.000*\"disponibilizar\" + 0.000*\"deputado\" + 0.000*\"lakadsensgmailcom\" + 0.000*\"declarado\"\n",
            "Topic: 327 \n",
            "Words: 0.304*\"dataset\" + 0.134*\"context\" + 0.133*\"content\" + 0.125*\"acknowledg\" + 0.111*\"inspir\" + 0.051*\"differ\" + 0.028*\"thank\" + 0.011*\"visual\" + 0.011*\"includ\" + 0.010*\"compar\"\n",
            "Topic: 328 \n",
            "Words: 0.000*\"conclusão\" + 0.000*\"criado\" + 0.000*\"antun\" + 0.000*\"candidato\" + 0.000*\"característica\" + 0.000*\"robotsthi\" + 0.000*\"disponibilizar\" + 0.000*\"deputado\" + 0.000*\"lakadsensgmailcom\" + 0.000*\"declarado\"\n"
          ],
          "name": "stdout"
        }
      ]
    },
    {
      "cell_type": "code",
      "metadata": {
        "id": "IEQMgaeb_WSq",
        "colab_type": "code",
        "outputId": "f9c599d1-0620-47ec-9725-1a495fe80e21",
        "colab": {
          "base_uri": "https://localhost:8080/",
          "height": 34
        }
      },
      "source": [
        "\n",
        "from gensim.models.coherencemodel import CoherenceModel\n",
        "\n",
        "coherence_val = CoherenceModel(model=lda_model, texts=stemmed_dataset, dictionary=dictionary_of_words, coherence='c_v').get_coherence()\n",
        "\n",
        "print('Coherence Score: ', coherence_val)"
      ],
      "execution_count": 43,
      "outputs": [
        {
          "output_type": "stream",
          "text": [
            "Coherence Score:  0.4049046232597778\n"
          ],
          "name": "stdout"
        }
      ]
    },
    {
      "cell_type": "markdown",
      "metadata": {
        "id": "oeQB8OODKRho",
        "colab_type": "text"
      },
      "source": [
        "Now we will change the number of topics. Increasing it from 10 to 280 to find for which number of topic the model givers the better result."
      ]
    },
    {
      "cell_type": "code",
      "metadata": {
        "id": "W7sBlYGKKQyc",
        "colab_type": "code",
        "outputId": "7e30661a-8c88-4e8f-a456-fdb7c8cc112d",
        "colab": {
          "base_uri": "https://localhost:8080/",
          "height": 527
        }
      },
      "source": [
        "models=[]\n",
        "coherence_value = []\n",
        "for topic_number in range(10,331,10):\n",
        "  lda_model = gensim.models.ldamodel.LdaModel(corpus=word_corpus,\n",
        "                                           id2word=dictionary_of_words,\n",
        "                                           num_topics=topic_number, \n",
        "                                           random_state=101,\n",
        "                                           update_every=1,\n",
        "                                           chunksize=100,\n",
        "                                           passes=50,\n",
        "                                           alpha='auto',\n",
        "                                           per_word_topics=True)\n",
        "  models.append(lda_model)\n",
        "  coherence_model_lda = CoherenceModel(model=lda_model, texts=stemmed_dataset, dictionary=dictionary_of_words, coherence='c_v')\n",
        "  coherence_lda = coherence_model_lda.get_coherence()\n",
        "  coherence_value.append(coherence_lda)\n",
        "  print(\"number of topics \",topic_number,\"coherence_value :\" , coherence_lda)\n",
        "\n",
        "\n",
        "  \n",
        "\n"
      ],
      "execution_count": 0,
      "outputs": [
        {
          "output_type": "stream",
          "text": [
            "number of topics  10 coherence_value : 0.4653519035892977\n",
            "number of topics  20 coherence_value : 0.4550750398971183\n",
            "number of topics  30 coherence_value : 0.44863968258604214\n",
            "number of topics  40 coherence_value : 0.4547481059253995\n",
            "number of topics  50 coherence_value : 0.44301625072325157\n",
            "number of topics  60 coherence_value : 0.46445707924657637\n",
            "number of topics  70 coherence_value : 0.45624869542098273\n",
            "number of topics  80 coherence_value : 0.4203470515461817\n",
            "number of topics  90 coherence_value : 0.4351616717015385\n"
          ],
          "name": "stdout"
        },
        {
          "output_type": "stream",
          "text": [
            "/usr/local/lib/python3.6/dist-packages/gensim/models/ldamodel.py:1023: RuntimeWarning: divide by zero encountered in log\n",
            "  diff = np.log(self.expElogbeta)\n"
          ],
          "name": "stderr"
        },
        {
          "output_type": "stream",
          "text": [
            "number of topics  100 coherence_value : 0.3763536733136574\n",
            "number of topics  110 coherence_value : 0.3708493032022244\n",
            "number of topics  120 coherence_value : 0.378068715541249\n",
            "number of topics  130 coherence_value : 0.3622266272804484\n",
            "number of topics  140 coherence_value : 0.37962929112422766\n",
            "number of topics  150 coherence_value : 0.3597523548671496\n",
            "number of topics  160 coherence_value : 0.3628240549325654\n",
            "number of topics  170 coherence_value : 0.3551351508307952\n",
            "number of topics  180 coherence_value : 0.36675278827360513\n",
            "number of topics  190 coherence_value : 0.35207241122889305\n",
            "number of topics  200 coherence_value : 0.3537770200770528\n",
            "number of topics  210 coherence_value : 0.361980150523584\n",
            "number of topics  220 coherence_value : 0.36081005515755327\n",
            "number of topics  230 coherence_value : 0.35287025691724966\n",
            "number of topics  240 coherence_value : 0.350588711476604\n",
            "number of topics  250 coherence_value : 0.3530185667668948\n",
            "number of topics  260 coherence_value : 0.35878173109952133\n",
            "number of topics  270 coherence_value : 0.3559889530867674\n",
            "number of topics  280 coherence_value : 0.34948493149767634\n"
          ],
          "name": "stdout"
        }
      ]
    },
    {
      "cell_type": "markdown",
      "metadata": {
        "id": "Ov0JqS2yCq2g",
        "colab_type": "text"
      },
      "source": [
        "We can see that if we increase the number of topics   the coherence value is decreasing. We select a number from above as the number of topic for which the model outputs better coherence value"
      ]
    },
    {
      "cell_type": "code",
      "metadata": {
        "id": "76hMukaCrpB-",
        "colab_type": "code",
        "colab": {}
      },
      "source": [
        "lda_model1 = gensim.models.ldamodel.LdaModel(corpus=word_corpus,\n",
        "                                           id2word=dictionary_of_words,\n",
        "                                           num_topics=60, \n",
        "                                           random_state=1,\n",
        "                                           update_every=1,\n",
        "                                           chunksize=100,\n",
        "                                           passes=50,\n",
        "                                           alpha='auto',\n",
        "                                           per_word_topics=True)"
      ],
      "execution_count": 0,
      "outputs": []
    },
    {
      "cell_type": "code",
      "metadata": {
        "id": "LdyVlXAAtWiQ",
        "colab_type": "code",
        "outputId": "071956af-115c-4a7b-e70f-4b0b31cbbbf7",
        "colab": {
          "base_uri": "https://localhost:8080/",
          "height": 51
        }
      },
      "source": [
        "\n",
        "from gensim.models.coherencemodel import CoherenceModel\n",
        "\n",
        "\n",
        "# Compute Coherence Score\n",
        "cohr_val = CoherenceModel(model=lda_model1, texts=stemmed_dataset, dictionary=dictionary_of_words, coherence='c_v').get_coherence()\n",
        "\n",
        "print('\\nCoherence Score: ', cohr_val)"
      ],
      "execution_count": 49,
      "outputs": [
        {
          "output_type": "stream",
          "text": [
            "\n",
            "Coherence Score:  0.45274439234199604\n"
          ],
          "name": "stdout"
        }
      ]
    },
    {
      "cell_type": "markdown",
      "metadata": {
        "id": "cc7ojZFQDPXj",
        "colab_type": "text"
      },
      "source": [
        "## **Building LdaMulticore model**"
      ]
    },
    {
      "cell_type": "code",
      "metadata": {
        "id": "agCVKCA8xFFr",
        "colab_type": "code",
        "colab": {}
      },
      "source": [
        "from gensim.test.utils import common_corpus, common_dictionary\n",
        "lda_multicore_model = gensim.models.ldamulticore.LdaMulticore(corpus=word_corpus, \n",
        "                                                              num_topics=60, \n",
        "                                                              id2word=dictionary_of_words,                                                             \n",
        "                                                              chunksize=100, \n",
        "                                                              passes=50,                                \n",
        "                                                              alpha='symmetric',\n",
        "                                                              eta=0.1,\n",
        "                                                              decay=0.5, \n",
        "                                                              offset=1.0, \n",
        "                                                              gamma_threshold=0.001,\n",
        "                                                              random_state=101,\n",
        "                                                              minimum_probability=0.01,\n",
        "                                                              minimum_phi_value=0.01,\n",
        "                                                              per_word_topics=False)"
      ],
      "execution_count": 0,
      "outputs": []
    },
    {
      "cell_type": "code",
      "metadata": {
        "id": "4-5dPbdoxQ2Q",
        "colab_type": "code",
        "colab": {
          "base_uri": "https://localhost:8080/",
          "height": 51
        },
        "outputId": "b885e905-a577-4cf3-853b-b00052ccab57"
      },
      "source": [
        "from gensim.models.coherencemodel import CoherenceModel\n",
        "\n",
        "\n",
        "# Compute Coherence Score\n",
        "cohr_lda_multicore_model1 = CoherenceModel(model=lda_multicore_model, texts=stemmed_dataset, dictionary=dictionary_of_words, coherence='c_v').get_coherence()\n",
        "\n",
        "print('\\nCoherence Score: ', cohr_lda_multicore_model1)"
      ],
      "execution_count": 52,
      "outputs": [
        {
          "output_type": "stream",
          "text": [
            "\n",
            "Coherence Score:  0.500895728531509\n"
          ],
          "name": "stdout"
        }
      ]
    },
    {
      "cell_type": "code",
      "metadata": {
        "id": "jBO-rimP5cUA",
        "colab_type": "code",
        "colab": {}
      },
      "source": [
        "from gensim.test.utils import common_corpus, common_dictionary\n",
        "lda_multicore_model2 = gensim.models.ldamulticore.LdaMulticore(corpus=word_corpus, \n",
        "                                                              num_topics=329, \n",
        "                                                              id2word=dictionary_of_words,                                                             \n",
        "                                                              chunksize=100, \n",
        "                                                              passes=50,                                \n",
        "                                                              alpha='symmetric',\n",
        "                                                              eta=0.1,\n",
        "                                                              decay=0.5, \n",
        "                                                              offset=1.0, \n",
        "                                                              gamma_threshold=0.001,\n",
        "                                                              random_state=101,\n",
        "                                                              minimum_probability=0.01,\n",
        "                                                              minimum_phi_value=0.01,\n",
        "                                                              per_word_topics=False)"
      ],
      "execution_count": 0,
      "outputs": []
    },
    {
      "cell_type": "code",
      "metadata": {
        "id": "pEsjdDPR9uRS",
        "colab_type": "code",
        "outputId": "2bb9ddd1-e7ef-4b74-ef92-4f1039102e30",
        "colab": {
          "base_uri": "https://localhost:8080/",
          "height": 51
        }
      },
      "source": [
        "from gensim.models.coherencemodel import CoherenceModel\n",
        "\n",
        "\n",
        "# Compute Coherence Score\n",
        "cohr_lda_multicore_model2 = CoherenceModel(model=lda_multicore_model2, texts=stemmed_dataset, dictionary=dictionary_of_words, coherence='c_v').get_coherence()\n",
        "\n",
        "print('\\nCoherence Score: ', cohr_lda_multicore_model2)"
      ],
      "execution_count": 54,
      "outputs": [
        {
          "output_type": "stream",
          "text": [
            "\n",
            "Coherence Score:  0.40031940029702423\n"
          ],
          "name": "stdout"
        }
      ]
    },
    {
      "cell_type": "markdown",
      "metadata": {
        "id": "QAJJXW2Ds_db",
        "colab_type": "text"
      },
      "source": [
        "## **Evaluation**"
      ]
    },
    {
      "cell_type": "code",
      "metadata": {
        "id": "8rJedV6c2WPR",
        "colab_type": "code",
        "colab": {
          "base_uri": "https://localhost:8080/",
          "height": 88
        },
        "outputId": "d0f708b9-6f61-4cc0-aaf4-87699e006820"
      },
      "source": [
        "v = lda_model[word_corpus[2]]\n",
        "print(type(lda_model[word_corpus[2]]))\n",
        "z=sorted(v[0], key=lambda tup: -1*tup[1])\n",
        "print(z)\n",
        "print(v[0])"
      ],
      "execution_count": 96,
      "outputs": [
        {
          "output_type": "stream",
          "text": [
            "<class 'tuple'>\n",
            "[(27, 0.20599864), (101, 0.07712153), (33, 0.05804071), (302, 0.034482528), (69, 0.032778475), (14, 0.030817678), (49, 0.02679516), (77, 0.023056721), (30, 0.018040096), (156, 0.015705438), (15, 0.015044093), (146, 0.012555125), (53, 0.012308318), (236, 0.012272188), (235, 0.012073053), (169, 0.011946721), (55, 0.011577829), (194, 0.011440581), (253, 0.011361394)]\n",
            "[(14, 0.030817678), (15, 0.015044093), (27, 0.20599864), (30, 0.018040096), (33, 0.05804071), (49, 0.02679516), (53, 0.012308318), (55, 0.011577829), (69, 0.032778475), (77, 0.023056721), (101, 0.07712153), (146, 0.012555125), (156, 0.015705438), (169, 0.011946721), (194, 0.011440581), (235, 0.012073053), (236, 0.012272188), (253, 0.011361394), (302, 0.034482528)]\n"
          ],
          "name": "stdout"
        }
      ]
    },
    {
      "cell_type": "code",
      "metadata": {
        "id": "qmMgGir1_RNS",
        "colab_type": "code",
        "colab": {
          "base_uri": "https://localhost:8080/",
          "height": 1000
        },
        "outputId": "b408afd1-b96e-46e2-82ab-46c26bf7bb83"
      },
      "source": [
        "for  index,score in sorted(lda_model[word_corpus[2]][0], key=lambda tup: -1*tup[1]):\n",
        "    print(\"\\nScore: {}\\t \\nTopic: {}\".format(score, lda_model.print_topic(index, 10)))"
      ],
      "execution_count": 95,
      "outputs": [
        {
          "output_type": "stream",
          "text": [
            "\n",
            "Score: 0.20599859952926636\t \n",
            "Topic: 0.112*\"registr\" + 0.101*\"revenu\" + 0.089*\"figur\" + 0.067*\"budget\" + 0.066*\"client\" + 0.042*\"check\" + 0.036*\"basic\" + 0.032*\"treat\" + 0.028*\"complic\" + 0.025*\"limit\"\n",
            "\n",
            "Score: 0.07712119817733765\t \n",
            "Topic: 0.143*\"includ\" + 0.139*\"inform\" + 0.082*\"avail\" + 0.076*\"provid\" + 0.068*\"differ\" + 0.060*\"origin\" + 0.044*\"gener\" + 0.044*\"detail\" + 0.035*\"version\" + 0.033*\"sourc\"\n",
            "\n",
            "Score: 0.058055225759744644\t \n",
            "Topic: 0.375*\"dataset\" + 0.207*\"contain\" + 0.077*\"follow\" + 0.062*\"creat\" + 0.034*\"process\" + 0.034*\"download\" + 0.027*\"perform\" + 0.022*\"variou\" + 0.017*\"multipl\" + 0.016*\"befor\"\n",
            "\n",
            "Score: 0.0344846136868\t \n",
            "Topic: 0.201*\"public\" + 0.151*\"pleas\" + 0.111*\"research\" + 0.106*\"field\" + 0.102*\"through\" + 0.085*\"across\" + 0.045*\"cover\" + 0.022*\"paper\" + 0.019*\"rather\" + 0.018*\"prepar\"\n",
            "\n",
            "Score: 0.032669298350811005\t \n",
            "Topic: 0.184*\"content\" + 0.179*\"acknowledg\" + 0.175*\"context\" + 0.174*\"dataset\" + 0.155*\"inspir\" + 0.045*\"sourc\" + 0.019*\"websit\" + 0.012*\"analyz\" + 0.009*\"upload\" + 0.008*\"anoth\"\n",
            "\n",
            "Score: 0.030817678198218346\t \n",
            "Topic: 0.217*\"author\" + 0.150*\"kernel\" + 0.088*\"publicli\" + 0.065*\"success\" + 0.057*\"studi\" + 0.046*\"queri\" + 0.034*\"stori\" + 0.033*\"bias\" + 0.032*\"bigqueri\" + 0.030*\"focus\"\n",
            "\n",
            "Score: 0.026794465258717537\t \n",
            "Topic: 0.132*\"exampl\" + 0.081*\"repres\" + 0.070*\"singl\" + 0.059*\"evalu\" + 0.058*\"correspond\" + 0.050*\"effect\" + 0.040*\"associ\" + 0.036*\"result\" + 0.032*\"algorithm\" + 0.030*\"particular\"\n",
            "\n",
            "Score: 0.023056721314787865\t \n",
            "Topic: 0.206*\"amount\" + 0.152*\"statu\" + 0.141*\"credit\" + 0.095*\"california\" + 0.067*\"dollar\" + 0.062*\"statement\" + 0.058*\"payment\" + 0.029*\"default\" + 0.018*\"afford\" + 0.014*\"marit\"\n",
            "\n",
            "Score: 0.01789219304919243\t \n",
            "Topic: 0.179*\"estim\" + 0.162*\"whether\" + 0.102*\"should\" + 0.092*\"condit\" + 0.085*\"actual\" + 0.067*\"control\" + 0.053*\"probabl\" + 0.032*\"relev\" + 0.029*\"import\" + 0.028*\"determin\"\n",
            "\n",
            "Score: 0.015704063698649406\t \n",
            "Topic: 0.139*\"introduct\" + 0.127*\"athlet\" + 0.107*\"actor\" + 0.096*\"director\" + 0.032*\"olymp\" + 0.027*\"silver\" + 0.018*\"bronz\" + 0.016*\"runtim\" + 0.015*\"popular\" + 0.015*\"montgomeri\"\n",
            "\n",
            "Score: 0.015044093132019043\t \n",
            "Topic: 0.468*\"movi\" + 0.073*\"movielen\" + 0.058*\"grouplen\" + 0.051*\"endors\" + 0.016*\"cinema\" + 0.000*\"deputado\" + 0.000*\"disponibilizar\" + 0.000*\"declarado\" + 0.000*\"engenheiro\" + 0.000*\"eleiçõ\"\n",
            "\n",
            "Score: 0.012555125169456005\t \n",
            "Topic: 0.577*\"collect\" + 0.242*\"consist\" + 0.024*\"display\" + 0.022*\"session\" + 0.018*\"exercis\" + 0.015*\"uniqu\" + 0.012*\"chosen\" + 0.008*\"leverag\" + 0.005*\"cheaper\" + 0.004*\"present\"\n",
            "\n",
            "Score: 0.012308318167924881\t \n",
            "Topic: 0.320*\"question\" + 0.310*\"commun\" + 0.194*\"answer\" + 0.080*\"attribut\" + 0.015*\"affili\" + 0.009*\"overflow\" + 0.006*\"requir\" + 0.006*\"ccbysa\" + 0.005*\"besid\" + 0.002*\"parentid\"\n",
            "\n",
            "Score: 0.01215675100684166\t \n",
            "Topic: 0.185*\"rate\" + 0.150*\"applic\" + 0.101*\"devic\" + 0.054*\"captur\" + 0.042*\"camera\" + 0.032*\"mainli\" + 0.030*\"emot\" + 0.028*\"configur\" + 0.019*\"complet\" + 0.017*\"determin\"\n",
            "\n",
            "Score: 0.012083444744348526\t \n",
            "Topic: 0.114*\"experi\" + 0.107*\"recent\" + 0.074*\"algorithm\" + 0.061*\"scientist\" + 0.056*\"valid\" + 0.053*\"determin\" + 0.030*\"differ\" + 0.027*\"requir\" + 0.024*\"techniqu\" + 0.023*\"someth\"\n",
            "\n",
            "Score: 0.012073053047060966\t \n",
            "Topic: 0.579*\"column\" + 0.119*\"subject\" + 0.116*\"second\" + 0.042*\"signal\" + 0.018*\"actual\" + 0.011*\"predefin\" + 0.011*\"correspond\" + 0.010*\"measur\" + 0.009*\"mechan\" + 0.007*\"quantum\"\n",
            "\n",
            "Score: 0.011577828787267208\t \n",
            "Topic: 0.128*\"commerci\" + 0.081*\"right\" + 0.063*\"necessari\" + 0.057*\"handl\" + 0.053*\"registri\" + 0.051*\"contract\" + 0.049*\"ownership\" + 0.046*\"infrastructur\" + 0.026*\"power\" + 0.024*\"senior\"\n",
            "\n",
            "Score: 0.0114405807107687\t \n",
            "Topic: 0.285*\"miss\" + 0.240*\"instanc\" + 0.158*\"restaur\" + 0.052*\"readm\" + 0.026*\"geospati\" + 0.010*\"depart\" + 0.010*\"approach\" + 0.008*\"maritalstatu\" + 0.008*\"placeid\" + 0.008*\"rafael\"\n",
            "\n",
            "Score: 0.011361392214894295\t \n",
            "Topic: 0.151*\"chapter\" + 0.123*\"russian\" + 0.096*\"japanes\" + 0.084*\"extend\" + 0.083*\"util\" + 0.055*\"homepag\" + 0.054*\"fellow\" + 0.005*\"undoubtedli\" + 0.000*\"declarado\" + 0.000*\"criado\"\n"
          ],
          "name": "stdout"
        }
      ]
    },
    {
      "cell_type": "markdown",
      "metadata": {
        "id": "Hc95KLZd7bHz",
        "colab_type": "text"
      },
      "source": [
        "the topic at the top got the highest probability and it is related to something like economic"
      ]
    },
    {
      "cell_type": "markdown",
      "metadata": {
        "id": "PJTOIjsnDpHZ",
        "colab_type": "text"
      },
      "source": [
        "## **Visualization**"
      ]
    },
    {
      "cell_type": "code",
      "metadata": {
        "id": "G9o8--rW5RSC",
        "colab_type": "code",
        "colab": {
          "base_uri": "https://localhost:8080/",
          "height": 272
        },
        "outputId": "6b193e00-e241-48f9-e018-503efa9c31e1"
      },
      "source": [
        "\n",
        "topics = lda_model.show_topics(formatted=False)\n",
        "topic_words = dict(topics[0][1])\n",
        "wordcloud.generate_from_frequencies(topic_words, max_font_size=100)\n",
        "plt.figure(figsize = (5, 5), facecolor = None) \n",
        "plt.title(\"topic 0\")\n",
        "plt.imshow(wordcloud) \n",
        "plt.axis(\"off\") \n",
        "plt.tight_layout(pad = 0) \n",
        "  \n",
        "plt.show() \n",
        "\n",
        "\n",
        "\n",
        "\n",
        "\n"
      ],
      "execution_count": 123,
      "outputs": [
        {
          "output_type": "display_data",
          "data": {
            "image/png": "[encoded data removed]",
            "text/plain": [
              "<Figure size 360x360 with 1 Axes>"
            ]
          },
          "metadata": {
            "tags": []
          }
        }
      ]
    },
    {
      "cell_type": "code",
      "metadata": {
        "id": "BNvabHx7_4Iw",
        "colab_type": "code",
        "colab": {
          "base_uri": "https://localhost:8080/",
          "height": 319
        },
        "outputId": "5d966c86-8ce3-4e24-e082-a3f1e26a2eee"
      },
      "source": [
        "\n",
        "fig = plt.figure(figsize=(15,15),frameon=0)\n",
        "a = fig.add_subplot(1, 2, 1)\n",
        "imgplot = plt.imshow(wordcloud)\n",
        "a.set_title('topic 0')\n",
        "\n",
        "a = fig.add_subplot(1, 2, 2)\n",
        "imgplot = plt.imshow(wordcloud)\n",
        "\n",
        "a.set_title('topic 1')\n"
      ],
      "execution_count": 122,
      "outputs": [
        {
          "output_type": "execute_result",
          "data": {
            "text/plain": [
              "Text(0.5, 1.0, 'topic 1')"
            ]
          },
          "metadata": {
            "tags": []
          },
          "execution_count": 122
        },
        {
          "output_type": "display_data",
          "data": {
            "image/png": "[encoded data removed]",
            "text/plain": [
              "<Figure size 1080x1080 with 2 Axes>"
            ]
          },
          "metadata": {
            "tags": []
          }
        }
      ]
    }
  ]
}